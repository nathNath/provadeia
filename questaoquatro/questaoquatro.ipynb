{
 "cells": [
  {
   "cell_type": "markdown",
   "metadata": {},
   "source": [
    "Utilizando a base de clusterização encontrada nesse link (https://drive.google.com/file/d/1_702eOQbimT1HhTuozwMEKV6HHOykLaJ/view), execute os algoritmos de clusterização citados a seguir e compare os resultados.\n",
    "\n",
    "\n",
    "* Execute os algoritmos de agrupamento K-means e Hierárquico com os seguintes valores de K: 2, 5, 10 e 100. Compare os agrupamento resultantes dos 2 algoritmos.\n",
    "* Escolha um número fixo de K e altere o parâmetro do K-Means referente ao número máximo de iterações: 1, 10 e 100 e o parâmetro de Linkage do Hierárquico, quais diferenças puderam ser observadas?\n",
    "* Faça uma comparação entre os 2 algoritmos, qual você acha que teve o melhor desempenho e por quê?\n",
    "\n",
    "_Bônus_ : normalizar os dados e executar novamente os algoritmos para analisar os\n",
    "novos resultados gerados. Em seguida, fazer os gráficos dos agrupamentos dos dados\n",
    "brutos vs dados normalizados, e um boxplot para mostrar a dispersão destes dados."
   ]
  },
  {
   "cell_type": "code",
   "execution_count": 1,
   "metadata": {},
   "outputs": [
    {
     "data": {
      "text/plain": [
       "<Figure size 1224x753.231 with 0 Axes>"
      ]
     },
     "metadata": {},
     "output_type": "display_data"
    }
   ],
   "source": [
    "import scipy.io.arff as io\n",
    "import pandas as pd\n",
    "import matplotlib.pyplot as plt\n",
    "\n",
    "%matplotlib inline\n",
    "\n",
    "import numpy as np\n",
    "\n",
    "# Aumentar o tamanho do plot na proporção 8/13\n",
    "x_size = 17\n",
    "y_size = x_size * (8/13)\n",
    "plt.figure(figsize=(x_size, y_size))\n",
    "# Aumentar o tamanho do plot na proporção 8/13\n",
    "\n",
    "# Read arff data\n",
    "with open(\"Genes_Atividade_IA.arff\") as f:\n",
    "    values = io.loadarff(f)\n",
    "    f.close()\n",
    "    \n",
    "dataset = pd.DataFrame(data=values[0])\n",
    "#X = dataset.iloc[:, :-1].values\n",
    "#y = dataset.iloc[:, 20].values"
   ]
  },
  {
   "cell_type": "code",
   "execution_count": 2,
   "metadata": {},
   "outputs": [
    {
     "name": "stdout",
     "output_type": "stream",
     "text": [
      "20 60\n"
     ]
    },
    {
     "data": {
      "text/html": [
       "<div>\n",
       "<style scoped>\n",
       "    .dataframe tbody tr th:only-of-type {\n",
       "        vertical-align: middle;\n",
       "    }\n",
       "\n",
       "    .dataframe tbody tr th {\n",
       "        vertical-align: top;\n",
       "    }\n",
       "\n",
       "    .dataframe thead th {\n",
       "        text-align: right;\n",
       "    }\n",
       "</style>\n",
       "<table border=\"1\" class=\"dataframe\">\n",
       "  <thead>\n",
       "    <tr style=\"text-align: right;\">\n",
       "      <th></th>\n",
       "      <th>adipose_tissue</th>\n",
       "      <th>adrenal_gland</th>\n",
       "      <th>animal_ovary</th>\n",
       "      <th>appendix</th>\n",
       "      <th>bladder</th>\n",
       "      <th>bone_marrow</th>\n",
       "      <th>cerebral_cortex</th>\n",
       "      <th>colon</th>\n",
       "      <th>duodenum</th>\n",
       "      <th>endometrium</th>\n",
       "      <th>esophagus</th>\n",
       "      <th>fallopian_tube</th>\n",
       "      <th>gallbladder</th>\n",
       "      <th>heart</th>\n",
       "      <th>kidney</th>\n",
       "      <th>liver</th>\n",
       "      <th>lung</th>\n",
       "      <th>lymph_node</th>\n",
       "      <th>pancreas</th>\n",
       "      <th>placenta</th>\n",
       "      <th>prostate</th>\n",
       "      <th>rectum</th>\n",
       "      <th>salivary_gland</th>\n",
       "      <th>skeletal_muscle</th>\n",
       "      <th>skin</th>\n",
       "      <th>small_intestine</th>\n",
       "      <th>smooth_muscle</th>\n",
       "      <th>spleen</th>\n",
       "      <th>stomach</th>\n",
       "      <th>testis</th>\n",
       "      <th>thyroid</th>\n",
       "      <th>tonsil</th>\n",
       "    </tr>\n",
       "  </thead>\n",
       "  <tbody>\n",
       "    <tr>\n",
       "      <th>count</th>\n",
       "      <td>2000.000000</td>\n",
       "      <td>2000.000000</td>\n",
       "      <td>2000.000000</td>\n",
       "      <td>2000.000000</td>\n",
       "      <td>2000.000000</td>\n",
       "      <td>2000.000000</td>\n",
       "      <td>2000.000000</td>\n",
       "      <td>2000.000000</td>\n",
       "      <td>2000.000000</td>\n",
       "      <td>2000.000000</td>\n",
       "      <td>2000.000000</td>\n",
       "      <td>2000.000000</td>\n",
       "      <td>2000.000000</td>\n",
       "      <td>2000.000000</td>\n",
       "      <td>2000.000000</td>\n",
       "      <td>2000.000000</td>\n",
       "      <td>2000.000000</td>\n",
       "      <td>2000.000000</td>\n",
       "      <td>2000.000000</td>\n",
       "      <td>2000.000000</td>\n",
       "      <td>2000.000000</td>\n",
       "      <td>2000.000000</td>\n",
       "      <td>2000.000000</td>\n",
       "      <td>2000.000000</td>\n",
       "      <td>2000.000000</td>\n",
       "      <td>2000.000000</td>\n",
       "      <td>2000.000000</td>\n",
       "      <td>2000.000000</td>\n",
       "      <td>2000.000000</td>\n",
       "      <td>2000.000000</td>\n",
       "      <td>2000.000000</td>\n",
       "      <td>2000.000000</td>\n",
       "    </tr>\n",
       "    <tr>\n",
       "      <th>mean</th>\n",
       "      <td>39.040157</td>\n",
       "      <td>41.486336</td>\n",
       "      <td>51.338392</td>\n",
       "      <td>52.555181</td>\n",
       "      <td>48.932735</td>\n",
       "      <td>53.852077</td>\n",
       "      <td>45.797667</td>\n",
       "      <td>40.663197</td>\n",
       "      <td>39.632611</td>\n",
       "      <td>52.066032</td>\n",
       "      <td>41.493874</td>\n",
       "      <td>53.691974</td>\n",
       "      <td>57.023709</td>\n",
       "      <td>21.915492</td>\n",
       "      <td>27.728612</td>\n",
       "      <td>35.790131</td>\n",
       "      <td>54.864549</td>\n",
       "      <td>54.294117</td>\n",
       "      <td>35.087462</td>\n",
       "      <td>52.105545</td>\n",
       "      <td>46.389605</td>\n",
       "      <td>42.376928</td>\n",
       "      <td>27.628763</td>\n",
       "      <td>22.053380</td>\n",
       "      <td>35.257338</td>\n",
       "      <td>43.396844</td>\n",
       "      <td>52.185982</td>\n",
       "      <td>56.164531</td>\n",
       "      <td>37.587312</td>\n",
       "      <td>44.472439</td>\n",
       "      <td>72.736881</td>\n",
       "      <td>46.143284</td>\n",
       "    </tr>\n",
       "    <tr>\n",
       "      <th>std</th>\n",
       "      <td>195.264717</td>\n",
       "      <td>181.466441</td>\n",
       "      <td>210.726346</td>\n",
       "      <td>252.295704</td>\n",
       "      <td>221.732356</td>\n",
       "      <td>393.758129</td>\n",
       "      <td>123.183344</td>\n",
       "      <td>157.028175</td>\n",
       "      <td>185.991398</td>\n",
       "      <td>186.169270</td>\n",
       "      <td>139.247221</td>\n",
       "      <td>261.725555</td>\n",
       "      <td>314.203534</td>\n",
       "      <td>116.726607</td>\n",
       "      <td>136.411996</td>\n",
       "      <td>336.523288</td>\n",
       "      <td>277.654367</td>\n",
       "      <td>277.993904</td>\n",
       "      <td>1108.114405</td>\n",
       "      <td>242.242244</td>\n",
       "      <td>241.613858</td>\n",
       "      <td>165.470468</td>\n",
       "      <td>308.543568</td>\n",
       "      <td>208.651352</td>\n",
       "      <td>95.223057</td>\n",
       "      <td>193.638153</td>\n",
       "      <td>233.848790</td>\n",
       "      <td>347.561819</td>\n",
       "      <td>207.009834</td>\n",
       "      <td>114.878046</td>\n",
       "      <td>742.846516</td>\n",
       "      <td>222.768691</td>\n",
       "    </tr>\n",
       "    <tr>\n",
       "      <th>min</th>\n",
       "      <td>0.000003</td>\n",
       "      <td>0.000003</td>\n",
       "      <td>0.000004</td>\n",
       "      <td>0.000004</td>\n",
       "      <td>0.000004</td>\n",
       "      <td>0.000003</td>\n",
       "      <td>0.000004</td>\n",
       "      <td>0.000003</td>\n",
       "      <td>0.000003</td>\n",
       "      <td>0.000004</td>\n",
       "      <td>0.000004</td>\n",
       "      <td>0.000004</td>\n",
       "      <td>0.000004</td>\n",
       "      <td>0.000002</td>\n",
       "      <td>0.000002</td>\n",
       "      <td>0.000003</td>\n",
       "      <td>0.000004</td>\n",
       "      <td>0.000004</td>\n",
       "      <td>0.000002</td>\n",
       "      <td>0.000004</td>\n",
       "      <td>0.000004</td>\n",
       "      <td>0.000003</td>\n",
       "      <td>0.000003</td>\n",
       "      <td>0.000002</td>\n",
       "      <td>0.000003</td>\n",
       "      <td>0.000003</td>\n",
       "      <td>0.000004</td>\n",
       "      <td>0.000004</td>\n",
       "      <td>0.000003</td>\n",
       "      <td>0.000003</td>\n",
       "      <td>0.000005</td>\n",
       "      <td>0.000003</td>\n",
       "    </tr>\n",
       "    <tr>\n",
       "      <th>25%</th>\n",
       "      <td>3.173068</td>\n",
       "      <td>3.105311</td>\n",
       "      <td>3.140023</td>\n",
       "      <td>7.117802</td>\n",
       "      <td>7.087438</td>\n",
       "      <td>1.257345</td>\n",
       "      <td>7.631545</td>\n",
       "      <td>3.071134</td>\n",
       "      <td>2.765053</td>\n",
       "      <td>7.428423</td>\n",
       "      <td>3.506638</td>\n",
       "      <td>7.896982</td>\n",
       "      <td>8.147757</td>\n",
       "      <td>1.569051</td>\n",
       "      <td>2.492157</td>\n",
       "      <td>1.170095</td>\n",
       "      <td>7.812597</td>\n",
       "      <td>3.751913</td>\n",
       "      <td>0.602562</td>\n",
       "      <td>4.128284</td>\n",
       "      <td>7.150531</td>\n",
       "      <td>3.094211</td>\n",
       "      <td>2.414023</td>\n",
       "      <td>0.427236</td>\n",
       "      <td>3.304699</td>\n",
       "      <td>5.983976</td>\n",
       "      <td>4.248427</td>\n",
       "      <td>3.678518</td>\n",
       "      <td>5.874027</td>\n",
       "      <td>6.997996</td>\n",
       "      <td>4.580134</td>\n",
       "      <td>3.174720</td>\n",
       "    </tr>\n",
       "    <tr>\n",
       "      <th>50%</th>\n",
       "      <td>12.692271</td>\n",
       "      <td>15.526556</td>\n",
       "      <td>19.625143</td>\n",
       "      <td>21.353406</td>\n",
       "      <td>21.262314</td>\n",
       "      <td>9.430086</td>\n",
       "      <td>19.078863</td>\n",
       "      <td>15.355670</td>\n",
       "      <td>13.825265</td>\n",
       "      <td>21.224067</td>\n",
       "      <td>14.026553</td>\n",
       "      <td>23.690945</td>\n",
       "      <td>20.369393</td>\n",
       "      <td>6.724503</td>\n",
       "      <td>9.968628</td>\n",
       "      <td>5.850474</td>\n",
       "      <td>23.437791</td>\n",
       "      <td>18.759564</td>\n",
       "      <td>2.008539</td>\n",
       "      <td>20.641418</td>\n",
       "      <td>17.876327</td>\n",
       "      <td>15.471057</td>\n",
       "      <td>8.046744</td>\n",
       "      <td>2.136179</td>\n",
       "      <td>16.523495</td>\n",
       "      <td>14.959941</td>\n",
       "      <td>21.242137</td>\n",
       "      <td>22.071107</td>\n",
       "      <td>14.685068</td>\n",
       "      <td>20.993988</td>\n",
       "      <td>22.900670</td>\n",
       "      <td>15.873599</td>\n",
       "    </tr>\n",
       "    <tr>\n",
       "      <th>75%</th>\n",
       "      <td>31.730678</td>\n",
       "      <td>34.158423</td>\n",
       "      <td>43.175314</td>\n",
       "      <td>46.265713</td>\n",
       "      <td>42.524627</td>\n",
       "      <td>34.576981</td>\n",
       "      <td>41.973499</td>\n",
       "      <td>33.782474</td>\n",
       "      <td>30.415583</td>\n",
       "      <td>50.937760</td>\n",
       "      <td>35.066382</td>\n",
       "      <td>47.381890</td>\n",
       "      <td>48.886544</td>\n",
       "      <td>15.690507</td>\n",
       "      <td>24.921571</td>\n",
       "      <td>17.551423</td>\n",
       "      <td>46.875582</td>\n",
       "      <td>48.774865</td>\n",
       "      <td>6.025616</td>\n",
       "      <td>45.411120</td>\n",
       "      <td>42.903184</td>\n",
       "      <td>34.036326</td>\n",
       "      <td>18.775735</td>\n",
       "      <td>8.544717</td>\n",
       "      <td>36.351689</td>\n",
       "      <td>32.911870</td>\n",
       "      <td>42.484273</td>\n",
       "      <td>47.820732</td>\n",
       "      <td>29.370135</td>\n",
       "      <td>45.486973</td>\n",
       "      <td>54.961609</td>\n",
       "      <td>38.096639</td>\n",
       "    </tr>\n",
       "    <tr>\n",
       "      <th>max</th>\n",
       "      <td>7377.382624</td>\n",
       "      <td>5216.922745</td>\n",
       "      <td>4827.785071</td>\n",
       "      <td>7644.519332</td>\n",
       "      <td>7548.121360</td>\n",
       "      <td>12623.741610</td>\n",
       "      <td>2663.409328</td>\n",
       "      <td>3528.732999</td>\n",
       "      <td>5275.721159</td>\n",
       "      <td>6460.605882</td>\n",
       "      <td>3857.301972</td>\n",
       "      <td>9733.029992</td>\n",
       "      <td>12201.266550</td>\n",
       "      <td>4512.141526</td>\n",
       "      <td>5587.416115</td>\n",
       "      <td>13058.258680</td>\n",
       "      <td>9707.151804</td>\n",
       "      <td>7931.543465</td>\n",
       "      <td>48970.179710</td>\n",
       "      <td>9032.684565</td>\n",
       "      <td>9585.286431</td>\n",
       "      <td>3945.119614</td>\n",
       "      <td>13529.258260</td>\n",
       "      <td>7732.968610</td>\n",
       "      <td>1939.858329</td>\n",
       "      <td>5032.524122</td>\n",
       "      <td>8322.669088</td>\n",
       "      <td>12036.110500</td>\n",
       "      <td>7486.447452</td>\n",
       "      <td>2554.268510</td>\n",
       "      <td>32253.304180</td>\n",
       "      <td>6231.975147</td>\n",
       "    </tr>\n",
       "  </tbody>\n",
       "</table>\n",
       "</div>"
      ],
      "text/plain": [
       "       adipose_tissue  adrenal_gland  animal_ovary     appendix      bladder  \\\n",
       "count     2000.000000    2000.000000   2000.000000  2000.000000  2000.000000   \n",
       "mean        39.040157      41.486336     51.338392    52.555181    48.932735   \n",
       "std        195.264717     181.466441    210.726346   252.295704   221.732356   \n",
       "min          0.000003       0.000003      0.000004     0.000004     0.000004   \n",
       "25%          3.173068       3.105311      3.140023     7.117802     7.087438   \n",
       "50%         12.692271      15.526556     19.625143    21.353406    21.262314   \n",
       "75%         31.730678      34.158423     43.175314    46.265713    42.524627   \n",
       "max       7377.382624    5216.922745   4827.785071  7644.519332  7548.121360   \n",
       "\n",
       "        bone_marrow  cerebral_cortex        colon     duodenum  endometrium  \\\n",
       "count   2000.000000      2000.000000  2000.000000  2000.000000  2000.000000   \n",
       "mean      53.852077        45.797667    40.663197    39.632611    52.066032   \n",
       "std      393.758129       123.183344   157.028175   185.991398   186.169270   \n",
       "min        0.000003         0.000004     0.000003     0.000003     0.000004   \n",
       "25%        1.257345         7.631545     3.071134     2.765053     7.428423   \n",
       "50%        9.430086        19.078863    15.355670    13.825265    21.224067   \n",
       "75%       34.576981        41.973499    33.782474    30.415583    50.937760   \n",
       "max    12623.741610      2663.409328  3528.732999  5275.721159  6460.605882   \n",
       "\n",
       "         esophagus  fallopian_tube   gallbladder        heart       kidney  \\\n",
       "count  2000.000000     2000.000000   2000.000000  2000.000000  2000.000000   \n",
       "mean     41.493874       53.691974     57.023709    21.915492    27.728612   \n",
       "std     139.247221      261.725555    314.203534   116.726607   136.411996   \n",
       "min       0.000004        0.000004      0.000004     0.000002     0.000002   \n",
       "25%       3.506638        7.896982      8.147757     1.569051     2.492157   \n",
       "50%      14.026553       23.690945     20.369393     6.724503     9.968628   \n",
       "75%      35.066382       47.381890     48.886544    15.690507    24.921571   \n",
       "max    3857.301972     9733.029992  12201.266550  4512.141526  5587.416115   \n",
       "\n",
       "              liver         lung   lymph_node      pancreas     placenta  \\\n",
       "count   2000.000000  2000.000000  2000.000000   2000.000000  2000.000000   \n",
       "mean      35.790131    54.864549    54.294117     35.087462    52.105545   \n",
       "std      336.523288   277.654367   277.993904   1108.114405   242.242244   \n",
       "min        0.000003     0.000004     0.000004      0.000002     0.000004   \n",
       "25%        1.170095     7.812597     3.751913      0.602562     4.128284   \n",
       "50%        5.850474    23.437791    18.759564      2.008539    20.641418   \n",
       "75%       17.551423    46.875582    48.774865      6.025616    45.411120   \n",
       "max    13058.258680  9707.151804  7931.543465  48970.179710  9032.684565   \n",
       "\n",
       "          prostate       rectum  salivary_gland  skeletal_muscle         skin  \\\n",
       "count  2000.000000  2000.000000     2000.000000      2000.000000  2000.000000   \n",
       "mean     46.389605    42.376928       27.628763        22.053380    35.257338   \n",
       "std     241.613858   165.470468      308.543568       208.651352    95.223057   \n",
       "min       0.000004     0.000003        0.000003         0.000002     0.000003   \n",
       "25%       7.150531     3.094211        2.414023         0.427236     3.304699   \n",
       "50%      17.876327    15.471057        8.046744         2.136179    16.523495   \n",
       "75%      42.903184    34.036326       18.775735         8.544717    36.351689   \n",
       "max    9585.286431  3945.119614    13529.258260      7732.968610  1939.858329   \n",
       "\n",
       "       small_intestine  smooth_muscle        spleen      stomach       testis  \\\n",
       "count      2000.000000    2000.000000   2000.000000  2000.000000  2000.000000   \n",
       "mean         43.396844      52.185982     56.164531    37.587312    44.472439   \n",
       "std         193.638153     233.848790    347.561819   207.009834   114.878046   \n",
       "min           0.000003       0.000004      0.000004     0.000003     0.000003   \n",
       "25%           5.983976       4.248427      3.678518     5.874027     6.997996   \n",
       "50%          14.959941      21.242137     22.071107    14.685068    20.993988   \n",
       "75%          32.911870      42.484273     47.820732    29.370135    45.486973   \n",
       "max        5032.524122    8322.669088  12036.110500  7486.447452  2554.268510   \n",
       "\n",
       "            thyroid       tonsil  \n",
       "count   2000.000000  2000.000000  \n",
       "mean      72.736881    46.143284  \n",
       "std      742.846516   222.768691  \n",
       "min        0.000005     0.000003  \n",
       "25%        4.580134     3.174720  \n",
       "50%       22.900670    15.873599  \n",
       "75%       54.961609    38.096639  \n",
       "max    32253.304180  6231.975147  "
      ]
     },
     "execution_count": 2,
     "metadata": {},
     "output_type": "execute_result"
    }
   ],
   "source": [
    "print(pd.options.display.max_columns, pd.options.display.max_rows)\n",
    "pd.options.display.max_columns = 50\n",
    "#pd.options.display.max_rows =  \n",
    "dataset.describe()"
   ]
  },
  {
   "cell_type": "code",
   "execution_count": 3,
   "metadata": {},
   "outputs": [
    {
     "data": {
      "text/plain": [
       "<matplotlib.axes._subplots.AxesSubplot at 0x7fb4c5e3a080>"
      ]
     },
     "execution_count": 3,
     "metadata": {},
     "output_type": "execute_result"
    },
    {
     "data": {
      "image/png": "[encoded data removed]",
      "text/plain": [
       "<Figure size 1224x753.231 with 1 Axes>"
      ]
     },
     "metadata": {
      "needs_background": "light"
     },
     "output_type": "display_data"
    }
   ],
   "source": [
    "# Aumentar o tamanho do plot na proporção 8/13\n",
    "x_size = 17\n",
    "y_size = x_size * (8/13)\n",
    "plt.figure(figsize=(x_size, y_size))\n",
    "# Aumentar o tamanho do plot na proporção 8/13\n",
    "dataset.boxplot()"
   ]
  },
  {
   "cell_type": "code",
   "execution_count": 4,
   "metadata": {},
   "outputs": [],
   "source": [
    "from sklearn.preprocessing import RobustScaler\n",
    "transformer = RobustScaler().fit(dataset[dataset.columns[:-1]])"
   ]
  },
  {
   "cell_type": "code",
   "execution_count": 5,
   "metadata": {},
   "outputs": [],
   "source": [
    "import numpy as np\n",
    "a = np.array(dataset[dataset.columns[:-1]])"
   ]
  },
  {
   "cell_type": "code",
   "execution_count": 6,
   "metadata": {},
   "outputs": [],
   "source": [
    "df = pd.DataFrame(transformer.transform(a))"
   ]
  },
  {
   "cell_type": "code",
   "execution_count": 7,
   "metadata": {
    "scrolled": false
   },
   "outputs": [
    {
     "data": {
      "text/plain": [
       "<matplotlib.axes._subplots.AxesSubplot at 0x7fb4c328c978>"
      ]
     },
     "execution_count": 7,
     "metadata": {},
     "output_type": "execute_result"
    },
    {
     "data": {
      "image/png": "[encoded data removed]",
      "text/plain": [
       "<Figure size 1224x753.231 with 1 Axes>"
      ]
     },
     "metadata": {
      "needs_background": "light"
     },
     "output_type": "display_data"
    }
   ],
   "source": [
    "# Aumentar o tamanho do plot na proporção 8/13\n",
    "x_size = 17\n",
    "y_size = x_size * (8/13)\n",
    "plt.figure(figsize=(x_size, y_size))\n",
    "# Aumentar o tamanho do plot na proporção 8/13\n",
    "df.boxplot()"
   ]
  },
  {
   "cell_type": "markdown",
   "metadata": {},
   "source": [
    "a = (df[18] > 8000)"
   ]
  },
  {
   "cell_type": "markdown",
   "metadata": {},
   "source": [
    "df[df.iloc[:,18] >= 8000]"
   ]
  },
  {
   "cell_type": "markdown",
   "metadata": {},
   "source": [
    "df[df.iloc[:,18] >= 8000][18]"
   ]
  },
  {
   "cell_type": "markdown",
   "metadata": {},
   "source": [
    "df[18].median()"
   ]
  },
  {
   "cell_type": "markdown",
   "metadata": {},
   "source": [
    "df[18] = df[18].replace(9029.629629, 0.0)"
   ]
  },
  {
   "cell_type": "markdown",
   "metadata": {},
   "source": [
    "df.loc[df[18] >= 9000]"
   ]
  },
  {
   "cell_type": "markdown",
   "metadata": {},
   "source": [
    "df[18][1940]"
   ]
  },
  {
   "cell_type": "code",
   "execution_count": 8,
   "metadata": {},
   "outputs": [],
   "source": [
    "a = df.loc[df[18] > 9000]"
   ]
  },
  {
   "cell_type": "code",
   "execution_count": 9,
   "metadata": {
    "scrolled": true
   },
   "outputs": [
    {
     "data": {
      "text/html": [
       "<div>\n",
       "<style scoped>\n",
       "    .dataframe tbody tr th:only-of-type {\n",
       "        vertical-align: middle;\n",
       "    }\n",
       "\n",
       "    .dataframe tbody tr th {\n",
       "        vertical-align: top;\n",
       "    }\n",
       "\n",
       "    .dataframe thead th {\n",
       "        text-align: right;\n",
       "    }\n",
       "</style>\n",
       "<table border=\"1\" class=\"dataframe\">\n",
       "  <thead>\n",
       "    <tr style=\"text-align: right;\">\n",
       "      <th></th>\n",
       "      <th>0</th>\n",
       "      <th>1</th>\n",
       "      <th>2</th>\n",
       "      <th>3</th>\n",
       "      <th>4</th>\n",
       "      <th>5</th>\n",
       "      <th>6</th>\n",
       "      <th>7</th>\n",
       "      <th>8</th>\n",
       "      <th>9</th>\n",
       "      <th>10</th>\n",
       "      <th>11</th>\n",
       "      <th>12</th>\n",
       "      <th>13</th>\n",
       "      <th>14</th>\n",
       "      <th>15</th>\n",
       "      <th>16</th>\n",
       "      <th>17</th>\n",
       "      <th>18</th>\n",
       "      <th>19</th>\n",
       "      <th>20</th>\n",
       "      <th>21</th>\n",
       "      <th>22</th>\n",
       "      <th>23</th>\n",
       "      <th>24</th>\n",
       "      <th>25</th>\n",
       "      <th>26</th>\n",
       "      <th>27</th>\n",
       "      <th>28</th>\n",
       "      <th>29</th>\n",
       "      <th>30</th>\n",
       "      <th>31</th>\n",
       "    </tr>\n",
       "  </thead>\n",
       "  <tbody>\n",
       "    <tr>\n",
       "      <th>1940</th>\n",
       "      <td>-0.377778</td>\n",
       "      <td>-0.5</td>\n",
       "      <td>0.490196</td>\n",
       "      <td>-0.5</td>\n",
       "      <td>-0.59</td>\n",
       "      <td>-0.283019</td>\n",
       "      <td>-0.555555</td>\n",
       "      <td>-0.49</td>\n",
       "      <td>0.2</td>\n",
       "      <td>-0.478049</td>\n",
       "      <td>-0.444444</td>\n",
       "      <td>-0.58</td>\n",
       "      <td>-0.5</td>\n",
       "      <td>0.15873</td>\n",
       "      <td>-0.444444</td>\n",
       "      <td>-0.357143</td>\n",
       "      <td>-0.58</td>\n",
       "      <td>-0.408333</td>\n",
       "      <td>9029.629629</td>\n",
       "      <td>0.4</td>\n",
       "      <td>-0.49</td>\n",
       "      <td>-0.5</td>\n",
       "      <td>0.655738</td>\n",
       "      <td>-0.236842</td>\n",
       "      <td>-0.45</td>\n",
       "      <td>-0.111111</td>\n",
       "      <td>-0.544444</td>\n",
       "      <td>-0.416667</td>\n",
       "      <td>-0.375</td>\n",
       "      <td>-0.472727</td>\n",
       "      <td>-0.454545</td>\n",
       "      <td>-0.454545</td>\n",
       "    </tr>\n",
       "  </tbody>\n",
       "</table>\n",
       "</div>"
      ],
      "text/plain": [
       "            0    1         2    3     4         5         6     7    8   \\\n",
       "1940 -0.377778 -0.5  0.490196 -0.5 -0.59 -0.283019 -0.555555 -0.49  0.2   \n",
       "\n",
       "            9         10    11   12       13        14        15    16  \\\n",
       "1940 -0.478049 -0.444444 -0.58 -0.5  0.15873 -0.444444 -0.357143 -0.58   \n",
       "\n",
       "            17           18   19    20   21        22        23    24  \\\n",
       "1940 -0.408333  9029.629629  0.4 -0.49 -0.5  0.655738 -0.236842 -0.45   \n",
       "\n",
       "            25        26        27     28        29        30        31  \n",
       "1940 -0.111111 -0.544444 -0.416667 -0.375 -0.472727 -0.454545 -0.454545  "
      ]
     },
     "execution_count": 9,
     "metadata": {},
     "output_type": "execute_result"
    }
   ],
   "source": [
    "a"
   ]
  },
  {
   "cell_type": "code",
   "execution_count": 10,
   "metadata": {},
   "outputs": [],
   "source": [
    "aux = np.array(df[18])"
   ]
  },
  {
   "cell_type": "code",
   "execution_count": 11,
   "metadata": {},
   "outputs": [],
   "source": [
    "df[18] = df[18].replace(9029.629629, np.nanmedian(aux))"
   ]
  },
  {
   "cell_type": "code",
   "execution_count": 12,
   "metadata": {
    "scrolled": false
   },
   "outputs": [
    {
     "data": {
      "text/html": [
       "<div>\n",
       "<style scoped>\n",
       "    .dataframe tbody tr th:only-of-type {\n",
       "        vertical-align: middle;\n",
       "    }\n",
       "\n",
       "    .dataframe tbody tr th {\n",
       "        vertical-align: top;\n",
       "    }\n",
       "\n",
       "    .dataframe thead th {\n",
       "        text-align: right;\n",
       "    }\n",
       "</style>\n",
       "<table border=\"1\" class=\"dataframe\">\n",
       "  <thead>\n",
       "    <tr style=\"text-align: right;\">\n",
       "      <th></th>\n",
       "      <th>0</th>\n",
       "      <th>1</th>\n",
       "      <th>2</th>\n",
       "      <th>3</th>\n",
       "      <th>4</th>\n",
       "      <th>5</th>\n",
       "      <th>6</th>\n",
       "      <th>7</th>\n",
       "      <th>8</th>\n",
       "      <th>9</th>\n",
       "      <th>10</th>\n",
       "      <th>11</th>\n",
       "      <th>12</th>\n",
       "      <th>13</th>\n",
       "      <th>14</th>\n",
       "      <th>15</th>\n",
       "      <th>16</th>\n",
       "      <th>17</th>\n",
       "      <th>18</th>\n",
       "      <th>19</th>\n",
       "      <th>20</th>\n",
       "      <th>21</th>\n",
       "      <th>22</th>\n",
       "      <th>23</th>\n",
       "      <th>24</th>\n",
       "      <th>25</th>\n",
       "      <th>26</th>\n",
       "      <th>27</th>\n",
       "      <th>28</th>\n",
       "      <th>29</th>\n",
       "      <th>30</th>\n",
       "      <th>31</th>\n",
       "    </tr>\n",
       "  </thead>\n",
       "  <tbody>\n",
       "    <tr>\n",
       "      <th>1940</th>\n",
       "      <td>-0.377778</td>\n",
       "      <td>-0.5</td>\n",
       "      <td>0.490196</td>\n",
       "      <td>-0.5</td>\n",
       "      <td>-0.59</td>\n",
       "      <td>-0.283019</td>\n",
       "      <td>-0.555555</td>\n",
       "      <td>-0.49</td>\n",
       "      <td>0.2</td>\n",
       "      <td>-0.478049</td>\n",
       "      <td>-0.444444</td>\n",
       "      <td>-0.58</td>\n",
       "      <td>-0.5</td>\n",
       "      <td>0.15873</td>\n",
       "      <td>-0.444444</td>\n",
       "      <td>-0.357143</td>\n",
       "      <td>-0.58</td>\n",
       "      <td>-0.408333</td>\n",
       "      <td>9029.629629</td>\n",
       "      <td>0.4</td>\n",
       "      <td>-0.49</td>\n",
       "      <td>-0.5</td>\n",
       "      <td>0.655738</td>\n",
       "      <td>-0.236842</td>\n",
       "      <td>-0.45</td>\n",
       "      <td>-0.111111</td>\n",
       "      <td>-0.544444</td>\n",
       "      <td>-0.416667</td>\n",
       "      <td>-0.375</td>\n",
       "      <td>-0.472727</td>\n",
       "      <td>-0.454545</td>\n",
       "      <td>-0.454545</td>\n",
       "    </tr>\n",
       "  </tbody>\n",
       "</table>\n",
       "</div>"
      ],
      "text/plain": [
       "            0    1         2    3     4         5         6     7    8   \\\n",
       "1940 -0.377778 -0.5  0.490196 -0.5 -0.59 -0.283019 -0.555555 -0.49  0.2   \n",
       "\n",
       "            9         10    11   12       13        14        15    16  \\\n",
       "1940 -0.478049 -0.444444 -0.58 -0.5  0.15873 -0.444444 -0.357143 -0.58   \n",
       "\n",
       "            17           18   19    20   21        22        23    24  \\\n",
       "1940 -0.408333  9029.629629  0.4 -0.49 -0.5  0.655738 -0.236842 -0.45   \n",
       "\n",
       "            25        26        27     28        29        30        31  \n",
       "1940 -0.111111 -0.544444 -0.416667 -0.375 -0.472727 -0.454545 -0.454545  "
      ]
     },
     "execution_count": 12,
     "metadata": {},
     "output_type": "execute_result"
    }
   ],
   "source": [
    "df.loc[df[18] > 9000]"
   ]
  },
  {
   "cell_type": "markdown",
   "metadata": {},
   "source": [
    "# Identificando o numero de classes"
   ]
  },
  {
   "cell_type": "code",
   "execution_count": 13,
   "metadata": {},
   "outputs": [],
   "source": [
    "class_array = dataset.iloc[:, 32]"
   ]
  },
  {
   "cell_type": "code",
   "execution_count": 14,
   "metadata": {},
   "outputs": [
    {
     "data": {
      "text/plain": [
       "count                   2000\n",
       "unique                  2000\n",
       "top       b'ENSG00000073146'\n",
       "freq                       1\n",
       "Name: class, dtype: object"
      ]
     },
     "execution_count": 14,
     "metadata": {},
     "output_type": "execute_result"
    }
   ],
   "source": [
    "class_array.describe()"
   ]
  },
  {
   "cell_type": "code",
   "execution_count": 15,
   "metadata": {},
   "outputs": [],
   "source": [
    "a = np.array(class_array.value_counts())"
   ]
  },
  {
   "cell_type": "code",
   "execution_count": 16,
   "metadata": {
    "scrolled": false
   },
   "outputs": [
    {
     "data": {
      "text/plain": [
       "2000"
      ]
     },
     "execution_count": 16,
     "metadata": {},
     "output_type": "execute_result"
    }
   ],
   "source": [
    "a.sum()"
   ]
  },
  {
   "cell_type": "markdown",
   "metadata": {},
   "source": [
    "Significa que existe 2000 classes, uma para cada instância, mas será que elas não estão relacionadas?"
   ]
  },
  {
   "cell_type": "markdown",
   "metadata": {},
   "source": [
    "# Processamento de dados acaba aqui"
   ]
  },
  {
   "cell_type": "markdown",
   "metadata": {},
   "source": [
    "Execute os algoritmos de agrupamento K-means e Hierárquico com os seguintes valores de K: 2, 5, 10 e 100. Compare os agrupamento resultantes dos 2 algoritmos."
   ]
  },
  {
   "cell_type": "markdown",
   "metadata": {},
   "source": [
    "Do exemplo abaixo temos:\n",
    "```python\n",
    "from sklearn.cluster import KMeans\n",
    "import numpy as np\n",
    "X = np.array([[1, 2], [1, 4], [1, 0],\n",
    "              [4, 2], [4, 4], [4, 0]])\n",
    "kmeans = KMeans(n_clusters=2, random_state=0).fit(X)\n",
    "kmeans.labels_\n",
    "\n",
    "kmeans.predict([[0, 0], [4, 4]])\n",
    "\n",
    "kmeans.cluster_centers_\n",
    "```"
   ]
  },
  {
   "cell_type": "code",
   "execution_count": 17,
   "metadata": {},
   "outputs": [],
   "source": [
    "X = dataset.iloc[:, :-1].values\n",
    "y = dataset.iloc[:, 32].values"
   ]
  },
  {
   "cell_type": "code",
   "execution_count": 18,
   "metadata": {},
   "outputs": [
    {
     "data": {
      "text/plain": [
       "array([[ 31.73067795,  27.94780042, 109.9007984 , ...,  66.48096122,\n",
       "         59.54174302,  15.87359946],\n",
       "       [ 22.21147457,   0.62106223,   7.85005703, ...,   0.3498998 ,\n",
       "          0.45801341,   0.31747199],\n",
       "       [ 79.32669489, 124.2124463 , 102.0507413 , ..., 129.4629245 ,\n",
       "        160.3046927 , 117.464636  ],\n",
       "       ...,\n",
       "       [ 60.28828811,  31.05311157,  27.47519959, ...,  20.99398775,\n",
       "         54.96160894,  44.44607848],\n",
       "       [ 12.69227118,  18.63186694,  23.55017108, ...,  45.48697347,\n",
       "         27.48080447,  15.87359946],\n",
       "       [ 22.21147457,  24.84248926,  39.25028513, ...,  31.49098163,\n",
       "         41.2212067 ,  19.04831935]])"
      ]
     },
     "execution_count": 18,
     "metadata": {},
     "output_type": "execute_result"
    }
   ],
   "source": [
    "X"
   ]
  },
  {
   "cell_type": "code",
   "execution_count": 19,
   "metadata": {},
   "outputs": [
    {
     "data": {
      "text/plain": [
       "array([b'ENSG00000000003', b'ENSG00000000005', b'ENSG00000000419', ...,\n",
       "       b'ENSG00000093144', b'ENSG00000093167', b'ENSG00000093183'],\n",
       "      dtype=object)"
      ]
     },
     "execution_count": 19,
     "metadata": {},
     "output_type": "execute_result"
    }
   ],
   "source": [
    "y"
   ]
  },
  {
   "cell_type": "markdown",
   "metadata": {},
   "source": [
    "## K = 2"
   ]
  },
  {
   "cell_type": "code",
   "execution_count": 20,
   "metadata": {
    "scrolled": true
   },
   "outputs": [],
   "source": [
    "from sklearn.cluster import KMeans\n",
    "kmeans = KMeans(n_clusters=2, random_state=0).fit(X)"
   ]
  },
  {
   "cell_type": "code",
   "execution_count": 21,
   "metadata": {
    "scrolled": false
   },
   "outputs": [
    {
     "data": {
      "text/plain": [
       "1"
      ]
     },
     "execution_count": 21,
     "metadata": {},
     "output_type": "execute_result"
    }
   ],
   "source": [
    "a = np.array(kmeans.labels_)\n",
    "a.sum()"
   ]
  },
  {
   "cell_type": "markdown",
   "metadata": {},
   "source": [
    "Perceba que a soma deu 1 por causa que o outlier na coluna ```\"pancreas\"``` causou um desequilibrio nas classes"
   ]
  },
  {
   "cell_type": "code",
   "execution_count": 22,
   "metadata": {
    "scrolled": true
   },
   "outputs": [
    {
     "data": {
      "text/plain": [
       "array([39.05873463, 41.50708976, 51.34443912, 52.58058144, 48.95703592,\n",
       "       53.87901696, 45.82057733, 40.68338489, 39.64275479, 52.09186528,\n",
       "       41.51463154, 53.7184383 , 57.05223534, 21.9219698 , 27.74248304,\n",
       "       35.80803475, 54.89160398, 54.32108966, 10.60767637, 52.11302411,\n",
       "       46.41263207, 42.39812701, 27.63319137, 22.06430544, 35.27414936,\n",
       "       43.41256626, 52.21187541, 56.19078705, 37.60317633, 44.49328609,\n",
       "       72.77326733, 46.16636715])"
      ]
     },
     "execution_count": 22,
     "metadata": {},
     "output_type": "execute_result"
    }
   ],
   "source": [
    "kmeans.cluster_centers_[0]"
   ]
  },
  {
   "cell_type": "code",
   "execution_count": 23,
   "metadata": {
    "scrolled": true
   },
   "outputs": [
    {
     "data": {
      "text/plain": [
       "array([1.90384068e+00, 3.10531000e-06, 3.92502851e+01, 1.77945050e+00,\n",
       "       3.54371895e-01, 3.14336000e-06, 3.81577000e-06, 3.07113403e-01,\n",
       "       1.93553711e+01, 4.24481333e-01, 3.50664000e-06, 7.89698174e-01,\n",
       "       4.07388000e-06, 8.96600403e+00, 2.49216000e-06, 2.92524000e-06,\n",
       "       7.81259703e-01, 3.75191271e-01, 4.89701797e+04, 3.71545526e+01,\n",
       "       3.57526536e-01, 3.09421000e-06, 1.87757351e+01, 2.13617917e-01,\n",
       "       1.65234951e+00, 1.19679527e+01, 4.24842730e-01, 3.67851788e+00,\n",
       "       5.87402703e+00, 2.79919837e+00, 4.58013000e-06, 3.17472000e-06])"
      ]
     },
     "execution_count": 23,
     "metadata": {},
     "output_type": "execute_result"
    }
   ],
   "source": [
    "kmeans.cluster_centers_[1]"
   ]
  },
  {
   "cell_type": "markdown",
   "metadata": {},
   "source": [
    "Tanto que é possivel ver que ele foi capturado no ```kmeans.cluster_centers_[1]``` (valor 4.89e+4)"
   ]
  },
  {
   "cell_type": "markdown",
   "metadata": {},
   "source": [
    "Adicionando a coluna calculada ```kmeans.label_``` no conjunto de dados"
   ]
  },
  {
   "cell_type": "code",
   "execution_count": 24,
   "metadata": {},
   "outputs": [],
   "source": [
    "dataset[\"K-classes\"] = kmeans.labels_"
   ]
  },
  {
   "cell_type": "code",
   "execution_count": 25,
   "metadata": {},
   "outputs": [
    {
     "data": {
      "text/html": [
       "<div>\n",
       "<style scoped>\n",
       "    .dataframe tbody tr th:only-of-type {\n",
       "        vertical-align: middle;\n",
       "    }\n",
       "\n",
       "    .dataframe tbody tr th {\n",
       "        vertical-align: top;\n",
       "    }\n",
       "\n",
       "    .dataframe thead th {\n",
       "        text-align: right;\n",
       "    }\n",
       "</style>\n",
       "<table border=\"1\" class=\"dataframe\">\n",
       "  <thead>\n",
       "    <tr style=\"text-align: right;\">\n",
       "      <th></th>\n",
       "      <th>adipose_tissue</th>\n",
       "      <th>adrenal_gland</th>\n",
       "      <th>animal_ovary</th>\n",
       "      <th>appendix</th>\n",
       "      <th>bladder</th>\n",
       "      <th>bone_marrow</th>\n",
       "      <th>cerebral_cortex</th>\n",
       "      <th>colon</th>\n",
       "      <th>duodenum</th>\n",
       "      <th>endometrium</th>\n",
       "      <th>esophagus</th>\n",
       "      <th>fallopian_tube</th>\n",
       "      <th>gallbladder</th>\n",
       "      <th>heart</th>\n",
       "      <th>kidney</th>\n",
       "      <th>liver</th>\n",
       "      <th>lung</th>\n",
       "      <th>lymph_node</th>\n",
       "      <th>pancreas</th>\n",
       "      <th>placenta</th>\n",
       "      <th>prostate</th>\n",
       "      <th>rectum</th>\n",
       "      <th>salivary_gland</th>\n",
       "      <th>skeletal_muscle</th>\n",
       "      <th>skin</th>\n",
       "      <th>small_intestine</th>\n",
       "      <th>smooth_muscle</th>\n",
       "      <th>spleen</th>\n",
       "      <th>stomach</th>\n",
       "      <th>testis</th>\n",
       "      <th>thyroid</th>\n",
       "      <th>tonsil</th>\n",
       "      <th>class</th>\n",
       "      <th>K-classes</th>\n",
       "    </tr>\n",
       "  </thead>\n",
       "  <tbody>\n",
       "    <tr>\n",
       "      <th>1940</th>\n",
       "      <td>1.903841</td>\n",
       "      <td>0.000003</td>\n",
       "      <td>39.250285</td>\n",
       "      <td>1.77945</td>\n",
       "      <td>0.354372</td>\n",
       "      <td>0.000003</td>\n",
       "      <td>0.000004</td>\n",
       "      <td>0.307113</td>\n",
       "      <td>19.355371</td>\n",
       "      <td>0.424481</td>\n",
       "      <td>0.000004</td>\n",
       "      <td>0.789698</td>\n",
       "      <td>0.000004</td>\n",
       "      <td>8.966004</td>\n",
       "      <td>0.000002</td>\n",
       "      <td>0.000003</td>\n",
       "      <td>0.78126</td>\n",
       "      <td>0.375191</td>\n",
       "      <td>48970.17971</td>\n",
       "      <td>37.154553</td>\n",
       "      <td>0.357527</td>\n",
       "      <td>0.000003</td>\n",
       "      <td>18.775735</td>\n",
       "      <td>0.213618</td>\n",
       "      <td>1.65235</td>\n",
       "      <td>11.967953</td>\n",
       "      <td>0.424843</td>\n",
       "      <td>3.678518</td>\n",
       "      <td>5.874027</td>\n",
       "      <td>2.799198</td>\n",
       "      <td>0.000005</td>\n",
       "      <td>0.000003</td>\n",
       "      <td>b'ENSG00000091704'</td>\n",
       "      <td>1</td>\n",
       "    </tr>\n",
       "  </tbody>\n",
       "</table>\n",
       "</div>"
      ],
      "text/plain": [
       "      adipose_tissue  adrenal_gland  animal_ovary  appendix   bladder  \\\n",
       "1940        1.903841       0.000003     39.250285   1.77945  0.354372   \n",
       "\n",
       "      bone_marrow  cerebral_cortex     colon   duodenum  endometrium  \\\n",
       "1940     0.000003         0.000004  0.307113  19.355371     0.424481   \n",
       "\n",
       "      esophagus  fallopian_tube  gallbladder     heart    kidney     liver  \\\n",
       "1940   0.000004        0.789698     0.000004  8.966004  0.000002  0.000003   \n",
       "\n",
       "         lung  lymph_node     pancreas   placenta  prostate    rectum  \\\n",
       "1940  0.78126    0.375191  48970.17971  37.154553  0.357527  0.000003   \n",
       "\n",
       "      salivary_gland  skeletal_muscle     skin  small_intestine  \\\n",
       "1940       18.775735         0.213618  1.65235        11.967953   \n",
       "\n",
       "      smooth_muscle    spleen   stomach    testis   thyroid    tonsil  \\\n",
       "1940       0.424843  3.678518  5.874027  2.799198  0.000005  0.000003   \n",
       "\n",
       "                   class  K-classes  \n",
       "1940  b'ENSG00000091704'          1  "
      ]
     },
     "execution_count": 25,
     "metadata": {},
     "output_type": "execute_result"
    }
   ],
   "source": [
    "dataset.loc[ dataset[\"pancreas\"] > 40000]"
   ]
  },
  {
   "cell_type": "markdown",
   "metadata": {},
   "source": [
    "Provado que a única instância da classe 1 contém o valor com outlier, ou seja, o outilier interfere bastante na análise de dados."
   ]
  },
  {
   "cell_type": "markdown",
   "metadata": {},
   "source": [
    "## K = 3"
   ]
  },
  {
   "cell_type": "code",
   "execution_count": 20,
   "metadata": {
    "scrolled": true
   },
   "outputs": [],
   "source": [
    "from sklearn.cluster import KMeans\n",
    "kmeans = KMeans(n_clusters=3, random_state=0).fit(X)"
   ]
  },
  {
   "cell_type": "code",
   "execution_count": 45,
   "metadata": {
    "scrolled": false
   },
   "outputs": [],
   "source": [
    "a = np.array(kmeans.labels_)"
   ]
  },
  {
   "cell_type": "markdown",
   "metadata": {},
   "source": [
    "Analisando os _labels_ de saida do algorítimo, temos 3 classes, tais que a 1 continua como o desequilibrio da coluna ```\"pancreas\"```"
   ]
  },
  {
   "cell_type": "code",
   "execution_count": 56,
   "metadata": {},
   "outputs": [
    {
     "data": {
      "text/plain": [
       "{0: 1993, 1: 1, 2: 6}"
      ]
     },
     "execution_count": 56,
     "metadata": {},
     "output_type": "execute_result"
    }
   ],
   "source": [
    "unique, counts = np.unique(a, return_counts=True)\n",
    "dict(zip(unique, counts))"
   ]
  },
  {
   "cell_type": "markdown",
   "metadata": {},
   "source": [
    "|Classe|Nº instancias|\n",
    "|-|-|\n",
    "|0|1993|\n",
    "|1|1|\n",
    "|2|6|"
   ]
  },
  {
   "cell_type": "code",
   "execution_count": 22,
   "metadata": {
    "collapsed": true
   },
   "outputs": [
    {
     "data": {
      "text/plain": [
       "array([39.05873463, 41.50708976, 51.34443912, 52.58058144, 48.95703592,\n",
       "       53.87901696, 45.82057733, 40.68338489, 39.64275479, 52.09186528,\n",
       "       41.51463154, 53.7184383 , 57.05223534, 21.9219698 , 27.74248304,\n",
       "       35.80803475, 54.89160398, 54.32108966, 10.60767637, 52.11302411,\n",
       "       46.41263207, 42.39812701, 27.63319137, 22.06430544, 35.27414936,\n",
       "       43.41256626, 52.21187541, 56.19078705, 37.60317633, 44.49328609,\n",
       "       72.77326733, 46.16636715])"
      ]
     },
     "execution_count": 22,
     "metadata": {},
     "output_type": "execute_result"
    }
   ],
   "source": [
    "kmeans.cluster_centers_[0]"
   ]
  },
  {
   "cell_type": "code",
   "execution_count": 23,
   "metadata": {
    "collapsed": true
   },
   "outputs": [
    {
     "data": {
      "text/plain": [
       "array([1.90384068e+00, 3.10531000e-06, 3.92502851e+01, 1.77945050e+00,\n",
       "       3.54371895e-01, 3.14336000e-06, 3.81577000e-06, 3.07113403e-01,\n",
       "       1.93553711e+01, 4.24481333e-01, 3.50664000e-06, 7.89698174e-01,\n",
       "       4.07388000e-06, 8.96600403e+00, 2.49216000e-06, 2.92524000e-06,\n",
       "       7.81259703e-01, 3.75191271e-01, 4.89701797e+04, 3.71545526e+01,\n",
       "       3.57526536e-01, 3.09421000e-06, 1.87757351e+01, 2.13617917e-01,\n",
       "       1.65234951e+00, 1.19679527e+01, 4.24842730e-01, 3.67851788e+00,\n",
       "       5.87402703e+00, 2.79919837e+00, 4.58013000e-06, 3.17472000e-06])"
      ]
     },
     "execution_count": 23,
     "metadata": {},
     "output_type": "execute_result"
    }
   ],
   "source": [
    "kmeans.cluster_centers_[1]"
   ]
  },
  {
   "cell_type": "markdown",
   "metadata": {},
   "source": [
    "Tanto que é possivel ver que ele foi capturado no ```kmeans.cluster_centers_[1]``` (valor 4.89e+4)"
   ]
  },
  {
   "cell_type": "code",
   "execution_count": 50,
   "metadata": {
    "collapsed": true
   },
   "outputs": [
    {
     "data": {
      "text/plain": [
       "array([2032.40280731, 1053.52856536, 1945.50580017, 3675.8702052 ,\n",
       "       2747.6815486 , 4100.09655448, 1250.36510991, 1717.32696332,\n",
       "       2336.93064329, 1912.28840394, 1280.5658107 , 1574.85558306,\n",
       "       3801.06457429,  362.00241265, 1228.42574787, 1295.39252222,\n",
       "       3854.93068731, 4036.43275533,  211.56606665, 2665.56393001,\n",
       "       1129.9030294 , 1777.16035312, 2789.76130629,  116.77779522,\n",
       "        623.32131499, 2380.12659917, 2619.93431096, 4816.4673858 ,\n",
       "       2672.19279766,  650.05550416, 6891.57507662, 3081.75351066])"
      ]
     },
     "execution_count": 50,
     "metadata": {},
     "output_type": "execute_result"
    }
   ],
   "source": [
    "kmeans.cluster_centers_[2]"
   ]
  },
  {
   "cell_type": "markdown",
   "metadata": {},
   "source": [
    "Adicionando a coluna calculada ```kmeans.label_``` no conjunto de dados"
   ]
  },
  {
   "cell_type": "code",
   "execution_count": 24,
   "metadata": {},
   "outputs": [],
   "source": [
    "dataset[\"K-classes\"] = kmeans.labels_"
   ]
  },
  {
   "cell_type": "code",
   "execution_count": 25,
   "metadata": {},
   "outputs": [
    {
     "data": {
      "text/html": [
       "<div>\n",
       "<style scoped>\n",
       "    .dataframe tbody tr th:only-of-type {\n",
       "        vertical-align: middle;\n",
       "    }\n",
       "\n",
       "    .dataframe tbody tr th {\n",
       "        vertical-align: top;\n",
       "    }\n",
       "\n",
       "    .dataframe thead th {\n",
       "        text-align: right;\n",
       "    }\n",
       "</style>\n",
       "<table border=\"1\" class=\"dataframe\">\n",
       "  <thead>\n",
       "    <tr style=\"text-align: right;\">\n",
       "      <th></th>\n",
       "      <th>adipose_tissue</th>\n",
       "      <th>adrenal_gland</th>\n",
       "      <th>animal_ovary</th>\n",
       "      <th>appendix</th>\n",
       "      <th>bladder</th>\n",
       "      <th>bone_marrow</th>\n",
       "      <th>cerebral_cortex</th>\n",
       "      <th>colon</th>\n",
       "      <th>duodenum</th>\n",
       "      <th>endometrium</th>\n",
       "      <th>esophagus</th>\n",
       "      <th>fallopian_tube</th>\n",
       "      <th>gallbladder</th>\n",
       "      <th>heart</th>\n",
       "      <th>kidney</th>\n",
       "      <th>liver</th>\n",
       "      <th>lung</th>\n",
       "      <th>lymph_node</th>\n",
       "      <th>pancreas</th>\n",
       "      <th>placenta</th>\n",
       "      <th>prostate</th>\n",
       "      <th>rectum</th>\n",
       "      <th>salivary_gland</th>\n",
       "      <th>skeletal_muscle</th>\n",
       "      <th>skin</th>\n",
       "      <th>small_intestine</th>\n",
       "      <th>smooth_muscle</th>\n",
       "      <th>spleen</th>\n",
       "      <th>stomach</th>\n",
       "      <th>testis</th>\n",
       "      <th>thyroid</th>\n",
       "      <th>tonsil</th>\n",
       "      <th>class</th>\n",
       "      <th>K-classes</th>\n",
       "    </tr>\n",
       "  </thead>\n",
       "  <tbody>\n",
       "    <tr>\n",
       "      <th>1940</th>\n",
       "      <td>1.903841</td>\n",
       "      <td>0.000003</td>\n",
       "      <td>39.250285</td>\n",
       "      <td>1.77945</td>\n",
       "      <td>0.354372</td>\n",
       "      <td>0.000003</td>\n",
       "      <td>0.000004</td>\n",
       "      <td>0.307113</td>\n",
       "      <td>19.355371</td>\n",
       "      <td>0.424481</td>\n",
       "      <td>0.000004</td>\n",
       "      <td>0.789698</td>\n",
       "      <td>0.000004</td>\n",
       "      <td>8.966004</td>\n",
       "      <td>0.000002</td>\n",
       "      <td>0.000003</td>\n",
       "      <td>0.78126</td>\n",
       "      <td>0.375191</td>\n",
       "      <td>48970.17971</td>\n",
       "      <td>37.154553</td>\n",
       "      <td>0.357527</td>\n",
       "      <td>0.000003</td>\n",
       "      <td>18.775735</td>\n",
       "      <td>0.213618</td>\n",
       "      <td>1.65235</td>\n",
       "      <td>11.967953</td>\n",
       "      <td>0.424843</td>\n",
       "      <td>3.678518</td>\n",
       "      <td>5.874027</td>\n",
       "      <td>2.799198</td>\n",
       "      <td>0.000005</td>\n",
       "      <td>0.000003</td>\n",
       "      <td>b'ENSG00000091704'</td>\n",
       "      <td>1</td>\n",
       "    </tr>\n",
       "  </tbody>\n",
       "</table>\n",
       "</div>"
      ],
      "text/plain": [
       "      adipose_tissue  adrenal_gland  animal_ovary  appendix   bladder  \\\n",
       "1940        1.903841       0.000003     39.250285   1.77945  0.354372   \n",
       "\n",
       "      bone_marrow  cerebral_cortex     colon   duodenum  endometrium  \\\n",
       "1940     0.000003         0.000004  0.307113  19.355371     0.424481   \n",
       "\n",
       "      esophagus  fallopian_tube  gallbladder     heart    kidney     liver  \\\n",
       "1940   0.000004        0.789698     0.000004  8.966004  0.000002  0.000003   \n",
       "\n",
       "         lung  lymph_node     pancreas   placenta  prostate    rectum  \\\n",
       "1940  0.78126    0.375191  48970.17971  37.154553  0.357527  0.000003   \n",
       "\n",
       "      salivary_gland  skeletal_muscle     skin  small_intestine  \\\n",
       "1940       18.775735         0.213618  1.65235        11.967953   \n",
       "\n",
       "      smooth_muscle    spleen   stomach    testis   thyroid    tonsil  \\\n",
       "1940       0.424843  3.678518  5.874027  2.799198  0.000005  0.000003   \n",
       "\n",
       "                   class  K-classes  \n",
       "1940  b'ENSG00000091704'          1  "
      ]
     },
     "execution_count": 25,
     "metadata": {},
     "output_type": "execute_result"
    }
   ],
   "source": [
    "dataset.loc[ dataset[\"pancreas\"] > 40000]"
   ]
  },
  {
   "cell_type": "markdown",
   "metadata": {},
   "source": [
    "Provado que a única instância da classe 1 contém o valor com outlier, ou seja, o outilier interfere bastante na análise de dados."
   ]
  },
  {
   "cell_type": "code",
   "execution_count": null,
   "metadata": {},
   "outputs": [],
   "source": []
  },
  {
   "cell_type": "code",
   "execution_count": null,
   "metadata": {},
   "outputs": [],
   "source": []
  },
  {
   "cell_type": "code",
   "execution_count": null,
   "metadata": {},
   "outputs": [],
   "source": []
  },
  {
   "cell_type": "code",
   "execution_count": null,
   "metadata": {},
   "outputs": [],
   "source": []
  },
  {
   "cell_type": "code",
   "execution_count": null,
   "metadata": {},
   "outputs": [],
   "source": []
  },
  {
   "cell_type": "code",
   "execution_count": null,
   "metadata": {},
   "outputs": [],
   "source": []
  },
  {
   "cell_type": "code",
   "execution_count": null,
   "metadata": {},
   "outputs": [],
   "source": []
  },
  {
   "cell_type": "code",
   "execution_count": null,
   "metadata": {},
   "outputs": [],
   "source": []
  },
  {
   "cell_type": "code",
   "execution_count": null,
   "metadata": {},
   "outputs": [],
   "source": []
  },
  {
   "cell_type": "code",
   "execution_count": null,
   "metadata": {},
   "outputs": [],
   "source": []
  },
  {
   "cell_type": "code",
   "execution_count": null,
   "metadata": {},
   "outputs": [],
   "source": []
  },
  {
   "cell_type": "markdown",
   "metadata": {},
   "source": [
    "### Hierarquico"
   ]
  },
  {
   "cell_type": "markdown",
   "metadata": {},
   "source": [
    "```python\n",
    "from sklearn.cluster import AgglomerativeClustering\n",
    "import numpy as np\n",
    "X = np.array([[1, 2], [1, 4], [1, 0],\n",
    "              [4, 2], [4, 4], [4, 0]])\n",
    "clustering = AgglomerativeClustering().fit(X)\n",
    "clustering \n",
    "\n",
    "\n",
    "clustering.labels_\n",
    "```"
   ]
  },
  {
   "cell_type": "code",
   "execution_count": 26,
   "metadata": {},
   "outputs": [],
   "source": [
    "from sklearn.cluster import AgglomerativeClustering\n",
    "clustering = AgglomerativeClustering().fit(X)"
   ]
  },
  {
   "cell_type": "code",
   "execution_count": 27,
   "metadata": {},
   "outputs": [
    {
     "data": {
      "text/plain": [
       "array([0, 0, 0, ..., 0, 0, 0])"
      ]
     },
     "execution_count": 27,
     "metadata": {},
     "output_type": "execute_result"
    }
   ],
   "source": [
    "clustering \n",
    "clustering.labels_"
   ]
  },
  {
   "cell_type": "code",
   "execution_count": null,
   "metadata": {},
   "outputs": [],
   "source": []
  },
  {
   "cell_type": "code",
   "execution_count": null,
   "metadata": {},
   "outputs": [],
   "source": []
  },
  {
   "cell_type": "code",
   "execution_count": null,
   "metadata": {},
   "outputs": [],
   "source": []
  },
  {
   "cell_type": "code",
   "execution_count": null,
   "metadata": {},
   "outputs": [],
   "source": []
  }
 ],
 "metadata": {
  "kernelspec": {
   "display_name": "Python 3",
   "language": "python",
   "name": "python3"
  },
  "language_info": {
   "codemirror_mode": {
    "name": "ipython",
    "version": 3
   },
   "file_extension": ".py",
   "mimetype": "text/x-python",
   "name": "python",
   "nbconvert_exporter": "python",
   "pygments_lexer": "ipython3",
   "version": "3.6.5"
  }
 },
 "nbformat": 4,
 "nbformat_minor": 2
}
