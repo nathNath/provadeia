{
 "cells": [
  {
   "cell_type": "markdown",
   "metadata": {},
   "source": [
    "# Questão 3 - Prova 2 de Inteligência Artificial\n",
    "\n",
    "## Lucas Nóbrega e Nathália de Vasconcelos\n",
    "\n",
    "# 1. Pré-processamento de dados"
   ]
  },
  {
   "cell_type": "code",
   "execution_count": 1,
   "metadata": {},
   "outputs": [],
   "source": [
    "# Importando as bibliotecas\n",
    "import numpy as np\n",
    "import matplotlib.pyplot as plt\n",
    "import pandas as pd\n",
    "\n",
    "# Importando os datasets\n",
    "dataset_treino = pd.read_csv('base_treinamento.csv')\n",
    "X = dataset_treino.iloc[:, :-2].values\n",
    "y = dataset_treino.iloc[:, [5,6]].values\n",
    "\n",
    "\n",
    "dataset_teste = pd.read_csv('base_teste.csv')\n",
    "Xt = dataset_teste.iloc[:, :-2].values\n",
    "yt = dataset_teste.iloc[:, [5,6]].values"
   ]
  },
  {
   "cell_type": "code",
   "execution_count": 2,
   "metadata": {
    "scrolled": true
   },
   "outputs": [
    {
     "data": {
      "text/html": [
       "<div>\n",
       "<style scoped>\n",
       "    .dataframe tbody tr th:only-of-type {\n",
       "        vertical-align: middle;\n",
       "    }\n",
       "\n",
       "    .dataframe tbody tr th {\n",
       "        vertical-align: top;\n",
       "    }\n",
       "\n",
       "    .dataframe thead th {\n",
       "        text-align: right;\n",
       "    }\n",
       "</style>\n",
       "<table border=\"1\" class=\"dataframe\">\n",
       "  <thead>\n",
       "    <tr style=\"text-align: right;\">\n",
       "      <th></th>\n",
       "      <th>AP1</th>\n",
       "      <th>AP2</th>\n",
       "      <th>AP3</th>\n",
       "      <th>AP4</th>\n",
       "      <th>AP5</th>\n",
       "      <th>Coordenada X</th>\n",
       "      <th>Coordenada Y</th>\n",
       "    </tr>\n",
       "  </thead>\n",
       "  <tbody>\n",
       "    <tr>\n",
       "      <th>count</th>\n",
       "      <td>262.00000</td>\n",
       "      <td>262.000000</td>\n",
       "      <td>262.000000</td>\n",
       "      <td>262.000000</td>\n",
       "      <td>262.000000</td>\n",
       "      <td>262.000000</td>\n",
       "      <td>262.000000</td>\n",
       "    </tr>\n",
       "    <tr>\n",
       "      <th>mean</th>\n",
       "      <td>-67.90458</td>\n",
       "      <td>-62.129771</td>\n",
       "      <td>-58.122137</td>\n",
       "      <td>-71.454198</td>\n",
       "      <td>-65.183206</td>\n",
       "      <td>12.026985</td>\n",
       "      <td>12.612634</td>\n",
       "    </tr>\n",
       "    <tr>\n",
       "      <th>std</th>\n",
       "      <td>10.29165</td>\n",
       "      <td>8.530672</td>\n",
       "      <td>8.323924</td>\n",
       "      <td>9.232823</td>\n",
       "      <td>7.128596</td>\n",
       "      <td>5.079505</td>\n",
       "      <td>5.139619</td>\n",
       "    </tr>\n",
       "    <tr>\n",
       "      <th>min</th>\n",
       "      <td>-90.00000</td>\n",
       "      <td>-81.000000</td>\n",
       "      <td>-75.000000</td>\n",
       "      <td>-86.000000</td>\n",
       "      <td>-84.000000</td>\n",
       "      <td>1.390000</td>\n",
       "      <td>1.570000</td>\n",
       "    </tr>\n",
       "    <tr>\n",
       "      <th>25%</th>\n",
       "      <td>-75.75000</td>\n",
       "      <td>-68.000000</td>\n",
       "      <td>-65.000000</td>\n",
       "      <td>-78.000000</td>\n",
       "      <td>-69.000000</td>\n",
       "      <td>8.442500</td>\n",
       "      <td>9.412500</td>\n",
       "    </tr>\n",
       "    <tr>\n",
       "      <th>50%</th>\n",
       "      <td>-69.00000</td>\n",
       "      <td>-63.000000</td>\n",
       "      <td>-58.000000</td>\n",
       "      <td>-74.000000</td>\n",
       "      <td>-65.000000</td>\n",
       "      <td>12.400000</td>\n",
       "      <td>13.630000</td>\n",
       "    </tr>\n",
       "    <tr>\n",
       "      <th>75%</th>\n",
       "      <td>-61.00000</td>\n",
       "      <td>-57.000000</td>\n",
       "      <td>-53.000000</td>\n",
       "      <td>-66.250000</td>\n",
       "      <td>-60.000000</td>\n",
       "      <td>16.357500</td>\n",
       "      <td>16.710000</td>\n",
       "    </tr>\n",
       "    <tr>\n",
       "      <th>max</th>\n",
       "      <td>-38.00000</td>\n",
       "      <td>-35.000000</td>\n",
       "      <td>-33.000000</td>\n",
       "      <td>-38.000000</td>\n",
       "      <td>-51.000000</td>\n",
       "      <td>20.450000</td>\n",
       "      <td>19.630000</td>\n",
       "    </tr>\n",
       "  </tbody>\n",
       "</table>\n",
       "</div>"
      ],
      "text/plain": [
       "             AP1         AP2         AP3         AP4         AP5  \\\n",
       "count  262.00000  262.000000  262.000000  262.000000  262.000000   \n",
       "mean   -67.90458  -62.129771  -58.122137  -71.454198  -65.183206   \n",
       "std     10.29165    8.530672    8.323924    9.232823    7.128596   \n",
       "min    -90.00000  -81.000000  -75.000000  -86.000000  -84.000000   \n",
       "25%    -75.75000  -68.000000  -65.000000  -78.000000  -69.000000   \n",
       "50%    -69.00000  -63.000000  -58.000000  -74.000000  -65.000000   \n",
       "75%    -61.00000  -57.000000  -53.000000  -66.250000  -60.000000   \n",
       "max    -38.00000  -35.000000  -33.000000  -38.000000  -51.000000   \n",
       "\n",
       "       Coordenada X  Coordenada Y  \n",
       "count    262.000000    262.000000  \n",
       "mean      12.026985     12.612634  \n",
       "std        5.079505      5.139619  \n",
       "min        1.390000      1.570000  \n",
       "25%        8.442500      9.412500  \n",
       "50%       12.400000     13.630000  \n",
       "75%       16.357500     16.710000  \n",
       "max       20.450000     19.630000  "
      ]
     },
     "execution_count": 2,
     "metadata": {},
     "output_type": "execute_result"
    }
   ],
   "source": [
    "dataset_treino.describe()"
   ]
  },
  {
   "cell_type": "code",
   "execution_count": 3,
   "metadata": {},
   "outputs": [
    {
     "data": {
      "text/html": [
       "<div>\n",
       "<style scoped>\n",
       "    .dataframe tbody tr th:only-of-type {\n",
       "        vertical-align: middle;\n",
       "    }\n",
       "\n",
       "    .dataframe tbody tr th {\n",
       "        vertical-align: top;\n",
       "    }\n",
       "\n",
       "    .dataframe thead th {\n",
       "        text-align: right;\n",
       "    }\n",
       "</style>\n",
       "<table border=\"1\" class=\"dataframe\">\n",
       "  <thead>\n",
       "    <tr style=\"text-align: right;\">\n",
       "      <th></th>\n",
       "      <th>AP1</th>\n",
       "      <th>AP2</th>\n",
       "      <th>AP3</th>\n",
       "      <th>AP4</th>\n",
       "      <th>AP5</th>\n",
       "      <th>Coordenada X</th>\n",
       "      <th>Coordenada Y</th>\n",
       "    </tr>\n",
       "  </thead>\n",
       "  <tbody>\n",
       "    <tr>\n",
       "      <th>count</th>\n",
       "      <td>65.000000</td>\n",
       "      <td>65.000000</td>\n",
       "      <td>65.000000</td>\n",
       "      <td>65.000000</td>\n",
       "      <td>65.000000</td>\n",
       "      <td>65.000000</td>\n",
       "      <td>65.000000</td>\n",
       "    </tr>\n",
       "    <tr>\n",
       "      <th>mean</th>\n",
       "      <td>-56.953846</td>\n",
       "      <td>-63.815385</td>\n",
       "      <td>-62.030769</td>\n",
       "      <td>-69.261538</td>\n",
       "      <td>-65.815385</td>\n",
       "      <td>12.094923</td>\n",
       "      <td>12.153231</td>\n",
       "    </tr>\n",
       "    <tr>\n",
       "      <th>std</th>\n",
       "      <td>8.088245</td>\n",
       "      <td>7.717456</td>\n",
       "      <td>8.154694</td>\n",
       "      <td>9.361285</td>\n",
       "      <td>10.037262</td>\n",
       "      <td>5.005830</td>\n",
       "      <td>4.951980</td>\n",
       "    </tr>\n",
       "    <tr>\n",
       "      <th>min</th>\n",
       "      <td>-71.000000</td>\n",
       "      <td>-82.000000</td>\n",
       "      <td>-76.000000</td>\n",
       "      <td>-82.000000</td>\n",
       "      <td>-86.000000</td>\n",
       "      <td>2.410000</td>\n",
       "      <td>2.110000</td>\n",
       "    </tr>\n",
       "    <tr>\n",
       "      <th>25%</th>\n",
       "      <td>-63.000000</td>\n",
       "      <td>-69.000000</td>\n",
       "      <td>-67.000000</td>\n",
       "      <td>-76.000000</td>\n",
       "      <td>-74.000000</td>\n",
       "      <td>8.370000</td>\n",
       "      <td>9.090000</td>\n",
       "    </tr>\n",
       "    <tr>\n",
       "      <th>50%</th>\n",
       "      <td>-58.000000</td>\n",
       "      <td>-64.000000</td>\n",
       "      <td>-62.000000</td>\n",
       "      <td>-73.000000</td>\n",
       "      <td>-68.000000</td>\n",
       "      <td>12.950000</td>\n",
       "      <td>12.580000</td>\n",
       "    </tr>\n",
       "    <tr>\n",
       "      <th>75%</th>\n",
       "      <td>-52.000000</td>\n",
       "      <td>-58.000000</td>\n",
       "      <td>-58.000000</td>\n",
       "      <td>-64.000000</td>\n",
       "      <td>-59.000000</td>\n",
       "      <td>15.480000</td>\n",
       "      <td>17.490000</td>\n",
       "    </tr>\n",
       "    <tr>\n",
       "      <th>max</th>\n",
       "      <td>-39.000000</td>\n",
       "      <td>-51.000000</td>\n",
       "      <td>-43.000000</td>\n",
       "      <td>-43.000000</td>\n",
       "      <td>-42.000000</td>\n",
       "      <td>20.460000</td>\n",
       "      <td>19.120000</td>\n",
       "    </tr>\n",
       "  </tbody>\n",
       "</table>\n",
       "</div>"
      ],
      "text/plain": [
       "             AP1        AP2        AP3        AP4        AP5  Coordenada X  \\\n",
       "count  65.000000  65.000000  65.000000  65.000000  65.000000     65.000000   \n",
       "mean  -56.953846 -63.815385 -62.030769 -69.261538 -65.815385     12.094923   \n",
       "std     8.088245   7.717456   8.154694   9.361285  10.037262      5.005830   \n",
       "min   -71.000000 -82.000000 -76.000000 -82.000000 -86.000000      2.410000   \n",
       "25%   -63.000000 -69.000000 -67.000000 -76.000000 -74.000000      8.370000   \n",
       "50%   -58.000000 -64.000000 -62.000000 -73.000000 -68.000000     12.950000   \n",
       "75%   -52.000000 -58.000000 -58.000000 -64.000000 -59.000000     15.480000   \n",
       "max   -39.000000 -51.000000 -43.000000 -43.000000 -42.000000     20.460000   \n",
       "\n",
       "       Coordenada Y  \n",
       "count     65.000000  \n",
       "mean      12.153231  \n",
       "std        4.951980  \n",
       "min        2.110000  \n",
       "25%        9.090000  \n",
       "50%       12.580000  \n",
       "75%       17.490000  \n",
       "max       19.120000  "
      ]
     },
     "execution_count": 3,
     "metadata": {},
     "output_type": "execute_result"
    }
   ],
   "source": [
    "dataset_teste.describe()"
   ]
  },
  {
   "cell_type": "markdown",
   "metadata": {},
   "source": [
    "### Melhorando a visualização dos datasets..."
   ]
  },
  {
   "cell_type": "code",
   "execution_count": 4,
   "metadata": {
    "scrolled": true
   },
   "outputs": [
    {
     "name": "stdout",
     "output_type": "stream",
     "text": [
      "20 60\n"
     ]
    }
   ],
   "source": [
    "print(pd.options.display.max_columns, pd.options.display.max_rows)\n",
    "pd.options.display.max_columns = 7\n",
    "pd.options.display.max_rows = 262"
   ]
  },
  {
   "cell_type": "markdown",
   "metadata": {},
   "source": [
    "### Visualizando os datasets em formato de boxplot..."
   ]
  },
  {
   "cell_type": "code",
   "execution_count": 5,
   "metadata": {
    "scrolled": false
   },
   "outputs": [
    {
     "data": {
      "text/plain": [
       "<matplotlib.axes._subplots.AxesSubplot at 0x7f65c414f0f0>"
      ]
     },
     "execution_count": 5,
     "metadata": {},
     "output_type": "execute_result"
    },
    {
     "data": {
      "image/png": "[encoded data removed]",
      "text/plain": [
       "<Figure size 432x288 with 1 Axes>"
      ]
     },
     "metadata": {},
     "output_type": "display_data"
    }
   ],
   "source": [
    "dataset_treino.boxplot()"
   ]
  },
  {
   "cell_type": "code",
   "execution_count": 6,
   "metadata": {
    "scrolled": false
   },
   "outputs": [
    {
     "data": {
      "text/plain": [
       "<matplotlib.axes._subplots.AxesSubplot at 0x7f65c054e160>"
      ]
     },
     "execution_count": 6,
     "metadata": {},
     "output_type": "execute_result"
    },
    {
     "data": {
      "image/png": "[encoded data removed]",
      "text/plain": [
       "<Figure size 432x288 with 1 Axes>"
      ]
     },
     "metadata": {},
     "output_type": "display_data"
    }
   ],
   "source": [
    "dataset_teste.boxplot()"
   ]
  },
  {
   "cell_type": "markdown",
   "metadata": {},
   "source": [
    "### Checando se existe algum dado incompleto nos datasets..."
   ]
  },
  {
   "cell_type": "code",
   "execution_count": 7,
   "metadata": {},
   "outputs": [
    {
     "data": {
      "text/plain": [
       "False"
      ]
     },
     "execution_count": 7,
     "metadata": {},
     "output_type": "execute_result"
    }
   ],
   "source": [
    "dataset_treino.isnull().values.any()"
   ]
  },
  {
   "cell_type": "code",
   "execution_count": 8,
   "metadata": {},
   "outputs": [
    {
     "data": {
      "text/plain": [
       "False"
      ]
     },
     "execution_count": 8,
     "metadata": {},
     "output_type": "execute_result"
    }
   ],
   "source": [
    "dataset_teste.isnull().values.any()"
   ]
  },
  {
   "cell_type": "markdown",
   "metadata": {},
   "source": [
    "### Analisando os histogramas"
   ]
  },
  {
   "cell_type": "code",
   "execution_count": 9,
   "metadata": {},
   "outputs": [
    {
     "data": {
      "text/plain": [
       "<matplotlib.axes._subplots.AxesSubplot at 0x7f65c042ef60>"
      ]
     },
     "execution_count": 9,
     "metadata": {},
     "output_type": "execute_result"
    },
    {
     "data": {
      "image/png": "[encoded data removed]",
      "text/plain": [
       "<Figure size 432x288 with 1 Axes>"
      ]
     },
     "metadata": {},
     "output_type": "display_data"
    }
   ],
   "source": [
    "dataset_treino['Coordenada X'].plot(kind='hist')"
   ]
  },
  {
   "cell_type": "code",
   "execution_count": 10,
   "metadata": {
    "scrolled": true
   },
   "outputs": [
    {
     "data": {
      "text/plain": [
       "<matplotlib.axes._subplots.AxesSubplot at 0x7f65c03b1f28>"
      ]
     },
     "execution_count": 10,
     "metadata": {},
     "output_type": "execute_result"
    },
    {
     "data": {
      "image/png": "[encoded data removed]",
      "text/plain": [
       "<Figure size 432x288 with 1 Axes>"
      ]
     },
     "metadata": {},
     "output_type": "display_data"
    }
   ],
   "source": [
    "dataset_treino['Coordenada Y'].plot(kind='hist')"
   ]
  },
  {
   "cell_type": "code",
   "execution_count": 11,
   "metadata": {},
   "outputs": [
    {
     "data": {
      "text/plain": [
       "<matplotlib.axes._subplots.AxesSubplot at 0x7f65c03a1390>"
      ]
     },
     "execution_count": 11,
     "metadata": {},
     "output_type": "execute_result"
    },
    {
     "data": {
      "image/png": "[encoded data removed]",
      "text/plain": [
       "<Figure size 432x288 with 1 Axes>"
      ]
     },
     "metadata": {},
     "output_type": "display_data"
    }
   ],
   "source": [
    "dataset_teste['Coordenada X'].plot(kind='hist')"
   ]
  },
  {
   "cell_type": "code",
   "execution_count": 12,
   "metadata": {},
   "outputs": [
    {
     "data": {
      "text/plain": [
       "<matplotlib.axes._subplots.AxesSubplot at 0x7f65c031af98>"
      ]
     },
     "execution_count": 12,
     "metadata": {},
     "output_type": "execute_result"
    },
    {
     "data": {
      "image/png": "[encoded data removed]",
      "text/plain": [
       "<Figure size 432x288 with 1 Axes>"
      ]
     },
     "metadata": {},
     "output_type": "display_data"
    }
   ],
   "source": [
    "dataset_teste['Coordenada Y'].plot(kind='hist')"
   ]
  },
  {
   "cell_type": "markdown",
   "metadata": {},
   "source": [
    "### Preparando as variáveis para treino e teste dos algoritmos de aprendizado de máquina... "
   ]
  },
  {
   "cell_type": "code",
   "execution_count": 13,
   "metadata": {},
   "outputs": [],
   "source": [
    "X_train = X\n",
    "X_test = Xt\n",
    "y_train = y\n",
    "y_test = yt"
   ]
  },
  {
   "cell_type": "markdown",
   "metadata": {},
   "source": [
    "### Plotando os gráficos de correlação dos datasets..."
   ]
  },
  {
   "cell_type": "code",
   "execution_count": 14,
   "metadata": {
    "scrolled": true
   },
   "outputs": [
    {
     "data": {
      "text/plain": [
       "<matplotlib.image.AxesImage at 0x7f65c0246240>"
      ]
     },
     "execution_count": 14,
     "metadata": {},
     "output_type": "execute_result"
    },
    {
     "data": {
      "image/png": "[encoded data removed]",
      "text/plain": [
       "<Figure size 288x288 with 1 Axes>"
      ]
     },
     "metadata": {},
     "output_type": "display_data"
    }
   ],
   "source": [
    "plt.matshow(dataset_treino.corr())"
   ]
  },
  {
   "cell_type": "code",
   "execution_count": 15,
   "metadata": {
    "scrolled": false
   },
   "outputs": [
    {
     "name": "stdout",
     "output_type": "stream",
     "text": [
      "                   AP1       AP2       AP3       AP4       AP5  Coordenada X  \\\n",
      "AP1           1.000000  0.239991 -0.579181 -0.479896  0.749445     -0.732574   \n",
      "AP2           0.239991  1.000000 -0.009559 -0.552974  0.286467      0.307589   \n",
      "AP3          -0.579181 -0.009559  1.000000  0.262054 -0.519194      0.635752   \n",
      "AP4          -0.479896 -0.552974  0.262054  1.000000 -0.336926      0.011004   \n",
      "AP5           0.749445  0.286467 -0.519194 -0.336926  1.000000     -0.543906   \n",
      "Coordenada X -0.732574  0.307589  0.635752  0.011004 -0.543906      1.000000   \n",
      "Coordenada Y  0.683116  0.544512 -0.382358 -0.783691  0.676932     -0.236476   \n",
      "\n",
      "              Coordenada Y  \n",
      "AP1               0.683116  \n",
      "AP2               0.544512  \n",
      "AP3              -0.382358  \n",
      "AP4              -0.783691  \n",
      "AP5               0.676932  \n",
      "Coordenada X     -0.236476  \n",
      "Coordenada Y      1.000000  \n"
     ]
    }
   ],
   "source": [
    "print(dataset_treino.corr())"
   ]
  },
  {
   "cell_type": "code",
   "execution_count": 16,
   "metadata": {},
   "outputs": [
    {
     "data": {
      "text/plain": [
       "<matplotlib.image.AxesImage at 0x7f65c01a8e10>"
      ]
     },
     "execution_count": 16,
     "metadata": {},
     "output_type": "execute_result"
    },
    {
     "data": {
      "image/png": "[encoded data removed]",
      "text/plain": [
       "<Figure size 288x288 with 1 Axes>"
      ]
     },
     "metadata": {},
     "output_type": "display_data"
    }
   ],
   "source": [
    "plt.matshow(dataset_teste.corr())"
   ]
  },
  {
   "cell_type": "code",
   "execution_count": 17,
   "metadata": {},
   "outputs": [
    {
     "name": "stdout",
     "output_type": "stream",
     "text": [
      "                   AP1       AP2       AP3       AP4       AP5  Coordenada X  \\\n",
      "AP1           1.000000 -0.624181 -0.116768  0.236859 -0.632930      0.618729   \n",
      "AP2          -0.624181  1.000000  0.151045 -0.290863  0.849767     -0.720831   \n",
      "AP3          -0.116768  0.151045  1.000000 -0.625816  0.189058      0.347374   \n",
      "AP4           0.236859 -0.290863 -0.625816  1.000000 -0.453619     -0.030745   \n",
      "AP5          -0.632930  0.849767  0.189058 -0.453619  1.000000     -0.753619   \n",
      "Coordenada X  0.618729 -0.720831  0.347374 -0.030745 -0.753619      1.000000   \n",
      "Coordenada Y -0.446523  0.626146  0.578855 -0.791972  0.657350     -0.220059   \n",
      "\n",
      "              Coordenada Y  \n",
      "AP1              -0.446523  \n",
      "AP2               0.626146  \n",
      "AP3               0.578855  \n",
      "AP4              -0.791972  \n",
      "AP5               0.657350  \n",
      "Coordenada X     -0.220059  \n",
      "Coordenada Y      1.000000  \n"
     ]
    }
   ],
   "source": [
    "print(dataset_teste.corr())"
   ]
  },
  {
   "cell_type": "markdown",
   "metadata": {},
   "source": [
    "### Alterando a escala dos dados para que nenhum deles seja menos relevante do que o outro na fase de treinamento do aprendizado de máquina."
   ]
  },
  {
   "cell_type": "code",
   "execution_count": 18,
   "metadata": {},
   "outputs": [
    {
     "name": "stderr",
     "output_type": "stream",
     "text": [
      "/home/nath/anaconda3/lib/python3.6/site-packages/sklearn/utils/validation.py:475: DataConversionWarning: Data with input dtype int64 was converted to float64 by StandardScaler.\n",
      "  warnings.warn(msg, DataConversionWarning)\n"
     ]
    }
   ],
   "source": [
    "from sklearn.preprocessing import StandardScaler\n",
    "sc_X = StandardScaler()\n",
    "X_train = sc_X.fit_transform(X_train)\n",
    "X_test = sc_X.transform(X_test)"
   ]
  },
  {
   "cell_type": "markdown",
   "metadata": {},
   "source": [
    "# 2. Regressão Linear Múltipla"
   ]
  },
  {
   "cell_type": "code",
   "execution_count": 19,
   "metadata": {},
   "outputs": [
    {
     "data": {
      "text/plain": [
       "LinearRegression(copy_X=True, fit_intercept=True, n_jobs=1, normalize=False)"
      ]
     },
     "execution_count": 19,
     "metadata": {},
     "output_type": "execute_result"
    }
   ],
   "source": [
    "# Fitting Simple Linear Regression to the Training set\n",
    "from sklearn.linear_model import LinearRegression\n",
    "regressor = LinearRegression()\n",
    "regressor.fit(X_train, y_train)"
   ]
  },
  {
   "cell_type": "code",
   "execution_count": 20,
   "metadata": {},
   "outputs": [],
   "source": [
    "# Predicting the Test set results\n",
    "y_pred = regressor.predict(X_test)"
   ]
  },
  {
   "cell_type": "code",
   "execution_count": 21,
   "metadata": {},
   "outputs": [
    {
     "name": "stderr",
     "output_type": "stream",
     "text": [
      "/home/nath/anaconda3/lib/python3.6/site-packages/matplotlib/cbook/deprecation.py:107: MatplotlibDeprecationWarning: cycling among columns of inputs with non-matching shapes is deprecated.\n",
      "  warnings.warn(message, mplDeprecation, stacklevel=1)\n"
     ]
    },
    {
     "data": {
      "image/png": "[encoded data removed]",
      "text/plain": [
       "<Figure size 432x288 with 1 Axes>"
      ]
     },
     "metadata": {},
     "output_type": "display_data"
    }
   ],
   "source": [
    "# Visualising the Training set results\n",
    "#plt.scatter(X_train, y_train, color = 'red')\n",
    "plt.plot(X_train, regressor.predict(X_train), color = 'blue')\n",
    "plt.title('(Conjunto de treinamento)')\n",
    "plt.xlabel('AP1~AP5')\n",
    "plt.ylabel('Coordenadas X e Y')\n",
    "plt.show()"
   ]
  },
  {
   "cell_type": "code",
   "execution_count": 22,
   "metadata": {},
   "outputs": [
    {
     "name": "stderr",
     "output_type": "stream",
     "text": [
      "/home/nath/anaconda3/lib/python3.6/site-packages/matplotlib/cbook/deprecation.py:107: MatplotlibDeprecationWarning: cycling among columns of inputs with non-matching shapes is deprecated.\n",
      "  warnings.warn(message, mplDeprecation, stacklevel=1)\n"
     ]
    },
    {
     "data": {
      "image/png": "[encoded data removed]",
      "text/plain": [
       "<Figure size 432x288 with 1 Axes>"
      ]
     },
     "metadata": {},
     "output_type": "display_data"
    }
   ],
   "source": [
    "# Visualising the Training set results\n",
    "#plt.scatter(X_test, y_test, color = 'red')\n",
    "plt.plot(X_train, regressor.predict(X_train), color = 'blue')\n",
    "plt.title('(Conjunto de testes)')\n",
    "plt.xlabel('AP1~AP5')\n",
    "plt.ylabel('Coordenadas X e Y')\n",
    "plt.show()"
   ]
  },
  {
   "cell_type": "markdown",
   "metadata": {},
   "source": [
    "### Erro quadrático médio"
   ]
  },
  {
   "cell_type": "code",
   "execution_count": 23,
   "metadata": {
    "scrolled": true
   },
   "outputs": [
    {
     "name": "stdout",
     "output_type": "stream",
     "text": [
      "56.646896956570345\n"
     ]
    }
   ],
   "source": [
    "from sklearn.metrics import mean_squared_error\n",
    "mse = mean_squared_error(y_test, y_pred, sample_weight = None, multioutput = 'uniform_average')\n",
    "print(mse)"
   ]
  },
  {
   "cell_type": "markdown",
   "metadata": {},
   "source": [
    "### R2 Score"
   ]
  },
  {
   "cell_type": "code",
   "execution_count": 24,
   "metadata": {},
   "outputs": [
    {
     "name": "stdout",
     "output_type": "stream",
     "text": [
      "-1.2989903058092338\n"
     ]
    }
   ],
   "source": [
    "from sklearn.metrics import r2_score\n",
    "r2 = r2_score(y_test, y_pred, sample_weight = None, multioutput = 'uniform_average')\n",
    "print(r2)"
   ]
  }
 ],
 "metadata": {
  "kernelspec": {
   "display_name": "Python 3",
   "language": "python",
   "name": "python3"
  },
  "language_info": {
   "codemirror_mode": {
    "name": "ipython",
    "version": 3
   },
   "file_extension": ".py",
   "mimetype": "text/x-python",
   "name": "python",
   "nbconvert_exporter": "python",
   "pygments_lexer": "ipython3",
   "version": "3.6.5"
  }
 },
 "nbformat": 4,
 "nbformat_minor": 2
}
