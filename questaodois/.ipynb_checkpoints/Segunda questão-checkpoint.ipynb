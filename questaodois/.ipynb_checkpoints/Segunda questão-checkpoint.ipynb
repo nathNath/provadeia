{
 "cells": [
  {
   "cell_type": "markdown",
   "metadata": {},
   "source": [
    "# Questão 2 - Prova 2 de Inteligência Artificial\n",
    "\n",
    "## Lucas Nóbrega e Nathália de Vasconcelos\n",
    "\n",
    "Enunciado: utilizando a base disponível no ​ [link](https://archive.ics.uci.edu/ml/datasets/Avila), crie os datasets a seguir:\n",
    "\n",
    "|Dataset| % de instâncias|\n",
    "|-|-|\n",
    "|Treino| 60%|\n",
    "|Validação| 20%|\n",
    "|Teste| 20%|\n",
    "\n",
    "\n",
    "Elabore uma rede neural de duas camadas para classificação do banco de\n",
    "dados.\n",
    "Ao fim do treinamento, avalie o desempenho da rede utilizando a matriz de\n",
    "confusão com o dataset de teste e mostre o valor de acurácia.\n",
    "Observações:\n",
    "\n",
    "● Utilize apenas o arquivo ​ avila-tr.txt​ .\n",
    "\n",
    "● A camada de saída da rede deverá conter um neurônio para cada classe.\n",
    "\n",
    "● Utilize o dataset de validação para criar algum critério de parada no\n",
    "treinamento.\n",
    "\n",
    "Bônus: defina uma arquitetura de rede neural ou modelos de ​ deep learning que\n",
    "ultrapassem 75% de acurácia."
   ]
  },
  {
   "cell_type": "markdown",
   "metadata": {},
   "source": [
    "### DATA SET DESCRIPTION \n",
    "The Avila data set has been extracted from 800 images of the the \"Avila Bible\", a giant Latin copy of the whole Bible produced during the XII century between Italy and Spain.  \n",
    "The palaeographic analysis of the  manuscript has  individuated the presence of 12 copyists. The pages written by each copyist are not equally numerous. \n",
    "Each pattern contains 10 features and corresponds to a group of 4 consecutive rows.\n",
    "\n",
    "The prediction task consists in associating each pattern to one of the 12 copyists (labeled as: A, B, C, D, E, F, G, H, I, W, X, Y).\n",
    "The data have has been normalized, by using the Z-normalization method, and divided in two data sets: a training set containing 10430 samples, and a test set  containing the 10437 samples.\n",
    "\n",
    "### Class distribution (training set)\n",
    "* A: 4286\n",
    "* B: 5  \n",
    "* C: 103 \n",
    "* D: 352 \n",
    "* E: 1095 \n",
    "* F: 1961 \n",
    "* G: 446 \n",
    "* H: 519\n",
    "* I: 831\n",
    "* W: 44\n",
    "* X: 522 \n",
    "* Y: 266\n",
    "\n",
    "### ATTRIBUTE DESCRIPTION\n",
    "|ID|      Name    |\n",
    "|-|-|\n",
    "|F1|       intercolumnar distance |\n",
    "|F2|       upper margin |\n",
    "|F3|       lower margin |\n",
    "|F4|       exploitation |\n",
    "|F5|       row number |\n",
    "|F6|      modular ratio |\n",
    "|F7|       interlinear spacing |\n",
    "|F8|       weight |\n",
    "|F9|       peak number |\n",
    "|F10|     modular ratio/ interlinear spacing|\n",
    "Class: A, B, C, D, E, F, G, H, I, W, X, Y\n",
    "\n",
    "\n",
    "CITATIONS\n",
    "If you want to refer to the Avila data set in a publication, please cite the following paper:\n",
    "\n",
    "C. De Stefano, M. Maniaci, F. Fontanella, A. Scotto di Freca,\n",
    "Reliable writer identification in medieval manuscripts through page layout features: The \"Avila\" Bible case, Engineering Applications of Artificial Intelligence, Volume 72, 2018, pp. 99-110.\n"
   ]
  },
  {
   "cell_type": "code",
   "execution_count": 1,
   "metadata": {},
   "outputs": [],
   "source": [
    "import tensorflow as tf"
   ]
  },
  {
   "cell_type": "code",
   "execution_count": 2,
   "metadata": {},
   "outputs": [],
   "source": [
    "import matplotlib.pyplot as plt\n",
    "\n",
    "%matplotlib inline\n",
    "\n",
    "import numpy as np"
   ]
  },
  {
   "cell_type": "code",
   "execution_count": 3,
   "metadata": {},
   "outputs": [],
   "source": [
    "import pandas as pd"
   ]
  },
  {
   "cell_type": "code",
   "execution_count": 4,
   "metadata": {},
   "outputs": [],
   "source": [
    "import time"
   ]
  },
  {
   "cell_type": "markdown",
   "metadata": {},
   "source": [
    "# Abrindo o arquivo de dados"
   ]
  },
  {
   "cell_type": "code",
   "execution_count": 5,
   "metadata": {},
   "outputs": [],
   "source": [
    "dataset = pd.read_csv('./avila/avila-tr.txt', header = None)\n"
   ]
  },
  {
   "cell_type": "markdown",
   "metadata": {},
   "source": [
    "# Percebendo o _outlier_ na coluna 1"
   ]
  },
  {
   "cell_type": "code",
   "execution_count": 6,
   "metadata": {},
   "outputs": [],
   "source": [
    "a = dataset.loc[dataset[1] == 386]"
   ]
  },
  {
   "cell_type": "code",
   "execution_count": 7,
   "metadata": {
    "scrolled": true
   },
   "outputs": [
    {
     "data": {
      "text/html": [
       "<div>\n",
       "<style scoped>\n",
       "    .dataframe tbody tr th:only-of-type {\n",
       "        vertical-align: middle;\n",
       "    }\n",
       "\n",
       "    .dataframe tbody tr th {\n",
       "        vertical-align: top;\n",
       "    }\n",
       "\n",
       "    .dataframe thead th {\n",
       "        text-align: right;\n",
       "    }\n",
       "</style>\n",
       "<table border=\"1\" class=\"dataframe\">\n",
       "  <thead>\n",
       "    <tr style=\"text-align: right;\">\n",
       "      <th></th>\n",
       "      <th>0</th>\n",
       "      <th>1</th>\n",
       "      <th>2</th>\n",
       "      <th>3</th>\n",
       "      <th>4</th>\n",
       "      <th>5</th>\n",
       "      <th>6</th>\n",
       "      <th>7</th>\n",
       "      <th>8</th>\n",
       "      <th>9</th>\n",
       "      <th>10</th>\n",
       "    </tr>\n",
       "  </thead>\n",
       "  <tbody>\n",
       "    <tr>\n",
       "      <th>6619</th>\n",
       "      <td>0.0</td>\n",
       "      <td>386.0</td>\n",
       "      <td>50.0</td>\n",
       "      <td>0.168104</td>\n",
       "      <td>0.0</td>\n",
       "      <td>53.0</td>\n",
       "      <td>83.0</td>\n",
       "      <td>0.275032</td>\n",
       "      <td>44.0</td>\n",
       "      <td>0.63802</td>\n",
       "      <td>A</td>\n",
       "    </tr>\n",
       "  </tbody>\n",
       "</table>\n",
       "</div>"
      ],
      "text/plain": [
       "       0      1     2         3    4     5     6         7     8        9  10\n",
       "6619  0.0  386.0  50.0  0.168104  0.0  53.0  83.0  0.275032  44.0  0.63802  A"
      ]
     },
     "execution_count": 7,
     "metadata": {},
     "output_type": "execute_result"
    }
   ],
   "source": [
    "a"
   ]
  },
  {
   "cell_type": "code",
   "execution_count": 8,
   "metadata": {},
   "outputs": [],
   "source": [
    "aux = np.array(dataset[1])\n",
    "dataset[1] = dataset[1].replace(386, np.nanmedian(aux))"
   ]
  },
  {
   "cell_type": "code",
   "execution_count": 9,
   "metadata": {},
   "outputs": [
    {
     "data": {
      "text/html": [
       "<div>\n",
       "<style scoped>\n",
       "    .dataframe tbody tr th:only-of-type {\n",
       "        vertical-align: middle;\n",
       "    }\n",
       "\n",
       "    .dataframe tbody tr th {\n",
       "        vertical-align: top;\n",
       "    }\n",
       "\n",
       "    .dataframe thead th {\n",
       "        text-align: right;\n",
       "    }\n",
       "</style>\n",
       "<table border=\"1\" class=\"dataframe\">\n",
       "  <thead>\n",
       "    <tr style=\"text-align: right;\">\n",
       "      <th></th>\n",
       "      <th>0</th>\n",
       "      <th>1</th>\n",
       "      <th>2</th>\n",
       "      <th>3</th>\n",
       "      <th>4</th>\n",
       "      <th>5</th>\n",
       "      <th>6</th>\n",
       "      <th>7</th>\n",
       "      <th>8</th>\n",
       "      <th>9</th>\n",
       "      <th>10</th>\n",
       "    </tr>\n",
       "  </thead>\n",
       "  <tbody>\n",
       "  </tbody>\n",
       "</table>\n",
       "</div>"
      ],
      "text/plain": [
       "Empty DataFrame\n",
       "Columns: [0, 1, 2, 3, 4, 5, 6, 7, 8, 9, 10]\n",
       "Index: []"
      ]
     },
     "execution_count": 9,
     "metadata": {},
     "output_type": "execute_result"
    }
   ],
   "source": [
    "dataset.loc[dataset[1] == 386]"
   ]
  },
  {
   "cell_type": "code",
   "execution_count": 10,
   "metadata": {},
   "outputs": [
    {
     "data": {
      "text/plain": [
       "<matplotlib.axes._subplots.AxesSubplot at 0x7fe0f9499b70>"
      ]
     },
     "execution_count": 10,
     "metadata": {},
     "output_type": "execute_result"
    },
    {
     "data": {
      "image/png": "[encoded data removed]",
      "text/plain": [
       "<Figure size 1224x753.231 with 1 Axes>"
      ]
     },
     "metadata": {
      "needs_background": "light"
     },
     "output_type": "display_data"
    }
   ],
   "source": [
    "# Aumentar o tamanho do plot na proporção 8/13\n",
    "x_size = 17\n",
    "y_size = x_size * (8/13)\n",
    "plt.figure(figsize=(x_size, y_size))\n",
    "# Aumentar o tamanho do plot na proporção 8/13\n",
    "dataset.boxplot()"
   ]
  },
  {
   "cell_type": "code",
   "execution_count": 11,
   "metadata": {},
   "outputs": [
    {
     "data": {
      "text/html": [
       "<div>\n",
       "<style scoped>\n",
       "    .dataframe tbody tr th:only-of-type {\n",
       "        vertical-align: middle;\n",
       "    }\n",
       "\n",
       "    .dataframe tbody tr th {\n",
       "        vertical-align: top;\n",
       "    }\n",
       "\n",
       "    .dataframe thead th {\n",
       "        text-align: right;\n",
       "    }\n",
       "</style>\n",
       "<table border=\"1\" class=\"dataframe\">\n",
       "  <thead>\n",
       "    <tr style=\"text-align: right;\">\n",
       "      <th></th>\n",
       "      <th>0</th>\n",
       "      <th>1</th>\n",
       "      <th>2</th>\n",
       "      <th>3</th>\n",
       "      <th>4</th>\n",
       "      <th>5</th>\n",
       "      <th>6</th>\n",
       "      <th>7</th>\n",
       "      <th>8</th>\n",
       "      <th>9</th>\n",
       "    </tr>\n",
       "  </thead>\n",
       "  <tbody>\n",
       "    <tr>\n",
       "      <th>count</th>\n",
       "      <td>10430.000000</td>\n",
       "      <td>10430.000000</td>\n",
       "      <td>10430.000000</td>\n",
       "      <td>10430.000000</td>\n",
       "      <td>10430.000000</td>\n",
       "      <td>10430.000000</td>\n",
       "      <td>10430.000000</td>\n",
       "      <td>10430.000000</td>\n",
       "      <td>10430.000000</td>\n",
       "      <td>10430.000000</td>\n",
       "    </tr>\n",
       "    <tr>\n",
       "      <th>mean</th>\n",
       "      <td>0.000852</td>\n",
       "      <td>-0.003403</td>\n",
       "      <td>-0.000525</td>\n",
       "      <td>-0.002387</td>\n",
       "      <td>0.006370</td>\n",
       "      <td>0.013973</td>\n",
       "      <td>0.005605</td>\n",
       "      <td>0.010323</td>\n",
       "      <td>0.012914</td>\n",
       "      <td>0.000818</td>\n",
       "    </tr>\n",
       "    <tr>\n",
       "      <th>std</th>\n",
       "      <td>0.991431</td>\n",
       "      <td>1.042894</td>\n",
       "      <td>1.120202</td>\n",
       "      <td>1.008527</td>\n",
       "      <td>0.992053</td>\n",
       "      <td>1.126245</td>\n",
       "      <td>1.313754</td>\n",
       "      <td>1.003507</td>\n",
       "      <td>1.087665</td>\n",
       "      <td>1.007094</td>\n",
       "    </tr>\n",
       "    <tr>\n",
       "      <th>min</th>\n",
       "      <td>-3.498799</td>\n",
       "      <td>-2.426761</td>\n",
       "      <td>-3.210528</td>\n",
       "      <td>-5.440122</td>\n",
       "      <td>-4.922215</td>\n",
       "      <td>-7.450257</td>\n",
       "      <td>-11.935457</td>\n",
       "      <td>-4.247781</td>\n",
       "      <td>-5.486218</td>\n",
       "      <td>-6.719324</td>\n",
       "    </tr>\n",
       "    <tr>\n",
       "      <th>25%</th>\n",
       "      <td>-0.128929</td>\n",
       "      <td>-0.259834</td>\n",
       "      <td>0.064919</td>\n",
       "      <td>-0.528002</td>\n",
       "      <td>0.172340</td>\n",
       "      <td>-0.598658</td>\n",
       "      <td>-0.044076</td>\n",
       "      <td>-0.541992</td>\n",
       "      <td>-0.372457</td>\n",
       "      <td>-0.516097</td>\n",
       "    </tr>\n",
       "    <tr>\n",
       "      <th>50%</th>\n",
       "      <td>0.043885</td>\n",
       "      <td>-0.055704</td>\n",
       "      <td>0.217845</td>\n",
       "      <td>0.095763</td>\n",
       "      <td>0.261718</td>\n",
       "      <td>-0.058835</td>\n",
       "      <td>0.220177</td>\n",
       "      <td>0.111803</td>\n",
       "      <td>0.064084</td>\n",
       "      <td>-0.034513</td>\n",
       "    </tr>\n",
       "    <tr>\n",
       "      <th>75%</th>\n",
       "      <td>0.204355</td>\n",
       "      <td>0.203385</td>\n",
       "      <td>0.352988</td>\n",
       "      <td>0.658210</td>\n",
       "      <td>0.261718</td>\n",
       "      <td>0.564038</td>\n",
       "      <td>0.446679</td>\n",
       "      <td>0.654944</td>\n",
       "      <td>0.500624</td>\n",
       "      <td>0.530855</td>\n",
       "    </tr>\n",
       "    <tr>\n",
       "      <th>max</th>\n",
       "      <td>11.819916</td>\n",
       "      <td>43.133656</td>\n",
       "      <td>50.000000</td>\n",
       "      <td>3.987152</td>\n",
       "      <td>1.066121</td>\n",
       "      <td>53.000000</td>\n",
       "      <td>83.000000</td>\n",
       "      <td>13.173081</td>\n",
       "      <td>44.000000</td>\n",
       "      <td>4.671232</td>\n",
       "    </tr>\n",
       "  </tbody>\n",
       "</table>\n",
       "</div>"
      ],
      "text/plain": [
       "                  0             1             2             3             4  \\\n",
       "count  10430.000000  10430.000000  10430.000000  10430.000000  10430.000000   \n",
       "mean       0.000852     -0.003403     -0.000525     -0.002387      0.006370   \n",
       "std        0.991431      1.042894      1.120202      1.008527      0.992053   \n",
       "min       -3.498799     -2.426761     -3.210528     -5.440122     -4.922215   \n",
       "25%       -0.128929     -0.259834      0.064919     -0.528002      0.172340   \n",
       "50%        0.043885     -0.055704      0.217845      0.095763      0.261718   \n",
       "75%        0.204355      0.203385      0.352988      0.658210      0.261718   \n",
       "max       11.819916     43.133656     50.000000      3.987152      1.066121   \n",
       "\n",
       "                  5             6             7             8             9  \n",
       "count  10430.000000  10430.000000  10430.000000  10430.000000  10430.000000  \n",
       "mean       0.013973      0.005605      0.010323      0.012914      0.000818  \n",
       "std        1.126245      1.313754      1.003507      1.087665      1.007094  \n",
       "min       -7.450257    -11.935457     -4.247781     -5.486218     -6.719324  \n",
       "25%       -0.598658     -0.044076     -0.541992     -0.372457     -0.516097  \n",
       "50%       -0.058835      0.220177      0.111803      0.064084     -0.034513  \n",
       "75%        0.564038      0.446679      0.654944      0.500624      0.530855  \n",
       "max       53.000000     83.000000     13.173081     44.000000      4.671232  "
      ]
     },
     "execution_count": 11,
     "metadata": {},
     "output_type": "execute_result"
    }
   ],
   "source": [
    "dataset.describe()"
   ]
  },
  {
   "cell_type": "code",
   "execution_count": 12,
   "metadata": {},
   "outputs": [],
   "source": [
    "b = np.array(dataset[6])"
   ]
  },
  {
   "cell_type": "code",
   "execution_count": 13,
   "metadata": {},
   "outputs": [
    {
     "data": {
      "text/plain": [
       "array([ 0.371178,  1.46594 , -0.081827, ...,  0.295677,  0.069175,\n",
       "        0.786433])"
      ]
     },
     "execution_count": 13,
     "metadata": {},
     "output_type": "execute_result"
    }
   ],
   "source": [
    "b"
   ]
  },
  {
   "cell_type": "code",
   "execution_count": 14,
   "metadata": {},
   "outputs": [
    {
     "data": {
      "text/plain": [
       "83.0"
      ]
     },
     "execution_count": 14,
     "metadata": {},
     "output_type": "execute_result"
    }
   ],
   "source": [
    "np.max(b)"
   ]
  },
  {
   "cell_type": "code",
   "execution_count": 15,
   "metadata": {},
   "outputs": [],
   "source": [
    "for i in [1, 2, 5, 6, 7, 8]:\n",
    "    aux = np.array(dataset[i])\n",
    "    dataset[i] = dataset[i].replace(np.max(aux), np.nanmedian(aux))"
   ]
  },
  {
   "cell_type": "code",
   "execution_count": 16,
   "metadata": {},
   "outputs": [
    {
     "data": {
      "text/html": [
       "<div>\n",
       "<style scoped>\n",
       "    .dataframe tbody tr th:only-of-type {\n",
       "        vertical-align: middle;\n",
       "    }\n",
       "\n",
       "    .dataframe tbody tr th {\n",
       "        vertical-align: top;\n",
       "    }\n",
       "\n",
       "    .dataframe thead th {\n",
       "        text-align: right;\n",
       "    }\n",
       "</style>\n",
       "<table border=\"1\" class=\"dataframe\">\n",
       "  <thead>\n",
       "    <tr style=\"text-align: right;\">\n",
       "      <th></th>\n",
       "      <th>0</th>\n",
       "      <th>1</th>\n",
       "      <th>2</th>\n",
       "      <th>3</th>\n",
       "      <th>4</th>\n",
       "      <th>5</th>\n",
       "      <th>6</th>\n",
       "      <th>7</th>\n",
       "      <th>8</th>\n",
       "      <th>9</th>\n",
       "    </tr>\n",
       "  </thead>\n",
       "  <tbody>\n",
       "    <tr>\n",
       "      <th>count</th>\n",
       "      <td>10430.000000</td>\n",
       "      <td>10430.000000</td>\n",
       "      <td>10430.000000</td>\n",
       "      <td>10430.000000</td>\n",
       "      <td>10430.000000</td>\n",
       "      <td>10430.000000</td>\n",
       "      <td>10430.000000</td>\n",
       "      <td>10430.000000</td>\n",
       "      <td>10430.000000</td>\n",
       "      <td>10430.000000</td>\n",
       "    </tr>\n",
       "    <tr>\n",
       "      <th>mean</th>\n",
       "      <td>0.000852</td>\n",
       "      <td>-0.007544</td>\n",
       "      <td>-0.005298</td>\n",
       "      <td>-0.002387</td>\n",
       "      <td>0.006370</td>\n",
       "      <td>0.008886</td>\n",
       "      <td>-0.002331</td>\n",
       "      <td>0.009070</td>\n",
       "      <td>0.008702</td>\n",
       "      <td>0.000818</td>\n",
       "    </tr>\n",
       "    <tr>\n",
       "      <th>std</th>\n",
       "      <td>0.991431</td>\n",
       "      <td>0.953512</td>\n",
       "      <td>1.007528</td>\n",
       "      <td>1.008527</td>\n",
       "      <td>0.992053</td>\n",
       "      <td>0.999600</td>\n",
       "      <td>1.032191</td>\n",
       "      <td>0.995195</td>\n",
       "      <td>0.998735</td>\n",
       "      <td>1.007094</td>\n",
       "    </tr>\n",
       "    <tr>\n",
       "      <th>min</th>\n",
       "      <td>-3.498799</td>\n",
       "      <td>-2.426761</td>\n",
       "      <td>-3.210528</td>\n",
       "      <td>-5.440122</td>\n",
       "      <td>-4.922215</td>\n",
       "      <td>-7.450257</td>\n",
       "      <td>-11.935457</td>\n",
       "      <td>-4.247781</td>\n",
       "      <td>-5.486218</td>\n",
       "      <td>-6.719324</td>\n",
       "    </tr>\n",
       "    <tr>\n",
       "      <th>25%</th>\n",
       "      <td>-0.128929</td>\n",
       "      <td>-0.259834</td>\n",
       "      <td>0.064919</td>\n",
       "      <td>-0.528002</td>\n",
       "      <td>0.172340</td>\n",
       "      <td>-0.598658</td>\n",
       "      <td>-0.044076</td>\n",
       "      <td>-0.541992</td>\n",
       "      <td>-0.372457</td>\n",
       "      <td>-0.516097</td>\n",
       "    </tr>\n",
       "    <tr>\n",
       "      <th>50%</th>\n",
       "      <td>0.043885</td>\n",
       "      <td>-0.055704</td>\n",
       "      <td>0.217845</td>\n",
       "      <td>0.095763</td>\n",
       "      <td>0.261718</td>\n",
       "      <td>-0.058835</td>\n",
       "      <td>0.220177</td>\n",
       "      <td>0.111778</td>\n",
       "      <td>0.064084</td>\n",
       "      <td>-0.034513</td>\n",
       "    </tr>\n",
       "    <tr>\n",
       "      <th>75%</th>\n",
       "      <td>0.204355</td>\n",
       "      <td>0.203385</td>\n",
       "      <td>0.352988</td>\n",
       "      <td>0.658210</td>\n",
       "      <td>0.261718</td>\n",
       "      <td>0.564038</td>\n",
       "      <td>0.446679</td>\n",
       "      <td>0.654886</td>\n",
       "      <td>0.500624</td>\n",
       "      <td>0.530855</td>\n",
       "    </tr>\n",
       "    <tr>\n",
       "      <th>max</th>\n",
       "      <td>11.819916</td>\n",
       "      <td>19.470188</td>\n",
       "      <td>7.458681</td>\n",
       "      <td>3.987152</td>\n",
       "      <td>1.066121</td>\n",
       "      <td>5.505495</td>\n",
       "      <td>10.714792</td>\n",
       "      <td>4.510897</td>\n",
       "      <td>3.244594</td>\n",
       "      <td>4.671232</td>\n",
       "    </tr>\n",
       "  </tbody>\n",
       "</table>\n",
       "</div>"
      ],
      "text/plain": [
       "                  0             1             2             3             4  \\\n",
       "count  10430.000000  10430.000000  10430.000000  10430.000000  10430.000000   \n",
       "mean       0.000852     -0.007544     -0.005298     -0.002387      0.006370   \n",
       "std        0.991431      0.953512      1.007528      1.008527      0.992053   \n",
       "min       -3.498799     -2.426761     -3.210528     -5.440122     -4.922215   \n",
       "25%       -0.128929     -0.259834      0.064919     -0.528002      0.172340   \n",
       "50%        0.043885     -0.055704      0.217845      0.095763      0.261718   \n",
       "75%        0.204355      0.203385      0.352988      0.658210      0.261718   \n",
       "max       11.819916     19.470188      7.458681      3.987152      1.066121   \n",
       "\n",
       "                  5             6             7             8             9  \n",
       "count  10430.000000  10430.000000  10430.000000  10430.000000  10430.000000  \n",
       "mean       0.008886     -0.002331      0.009070      0.008702      0.000818  \n",
       "std        0.999600      1.032191      0.995195      0.998735      1.007094  \n",
       "min       -7.450257    -11.935457     -4.247781     -5.486218     -6.719324  \n",
       "25%       -0.598658     -0.044076     -0.541992     -0.372457     -0.516097  \n",
       "50%       -0.058835      0.220177      0.111778      0.064084     -0.034513  \n",
       "75%        0.564038      0.446679      0.654886      0.500624      0.530855  \n",
       "max        5.505495     10.714792      4.510897      3.244594      4.671232  "
      ]
     },
     "execution_count": 16,
     "metadata": {},
     "output_type": "execute_result"
    }
   ],
   "source": [
    "dataset.describe()"
   ]
  },
  {
   "cell_type": "code",
   "execution_count": 17,
   "metadata": {},
   "outputs": [
    {
     "data": {
      "text/plain": [
       "<matplotlib.axes._subplots.AxesSubplot at 0x7fe0f6fb6fd0>"
      ]
     },
     "execution_count": 17,
     "metadata": {},
     "output_type": "execute_result"
    },
    {
     "data": {
      "image/png": "[encoded data removed]",
      "text/plain": [
       "<Figure size 1224x753.231 with 1 Axes>"
      ]
     },
     "metadata": {
      "needs_background": "light"
     },
     "output_type": "display_data"
    }
   ],
   "source": [
    "# Aumentar o tamanho do plot na proporção 8/13\n",
    "x_size = 17\n",
    "y_size = x_size * (8/13)\n",
    "plt.figure(figsize=(x_size, y_size))\n",
    "# Aumentar o tamanho do plot na proporção 8/13\n",
    "dataset.boxplot()"
   ]
  },
  {
   "cell_type": "markdown",
   "metadata": {},
   "source": [
    "# Mudando os _labels_ das classes"
   ]
  },
  {
   "cell_type": "code",
   "execution_count": 18,
   "metadata": {
    "scrolled": true
   },
   "outputs": [
    {
     "data": {
      "text/plain": [
       "{'A': 0,\n",
       " 'B': 1,\n",
       " 'C': 2,\n",
       " 'D': 3,\n",
       " 'E': 4,\n",
       " 'F': 5,\n",
       " 'G': 6,\n",
       " 'H': 7,\n",
       " 'I': 8,\n",
       " 'W': 9,\n",
       " 'X': 10,\n",
       " 'Y': 11}"
      ]
     },
     "execution_count": 18,
     "metadata": {},
     "output_type": "execute_result"
    }
   ],
   "source": [
    "classes_number = [i for i in range(12)]\n",
    "classes_charcteres = [\"A\",\"B\",\"C\",\"D\",\"E\",\"F\",\"G\",\"H\",\"I\",\"W\",\"X\",\"Y\"]\n",
    "dictionary_classes = dict(zip(classes_charcteres, classes_number))\n",
    "dictionary_classes"
   ]
  },
  {
   "cell_type": "code",
   "execution_count": 19,
   "metadata": {
    "scrolled": false
   },
   "outputs": [
    {
     "name": "stdout",
     "output_type": "stream",
     "text": [
      "A 0\n",
      "B 1\n",
      "C 2\n",
      "D 3\n",
      "E 4\n",
      "F 5\n",
      "G 6\n",
      "H 7\n",
      "I 8\n",
      "W 9\n",
      "X 10\n",
      "Y 11\n"
     ]
    }
   ],
   "source": [
    "for key in dictionary_classes:\n",
    "    print(key, dictionary_classes[key])\n",
    "    dataset[10] = dataset[10].replace(key, dictionary_classes[key])"
   ]
  },
  {
   "cell_type": "code",
   "execution_count": 20,
   "metadata": {},
   "outputs": [],
   "source": [
    "X = dataset.iloc[:, 0:10].values\n",
    "y = dataset.iloc[:, 10].values"
   ]
  },
  {
   "cell_type": "code",
   "execution_count": 21,
   "metadata": {
    "scrolled": false
   },
   "outputs": [
    {
     "data": {
      "text/plain": [
       "array([[ 2.660740e-01, -1.656200e-01,  3.209800e-01, ...,  9.298230e-01,\n",
       "         2.511730e-01,  1.593450e-01],\n",
       "       [ 1.302920e-01,  8.707360e-01, -3.210528e+00, ...,  6.362030e-01,\n",
       "         2.823540e-01,  5.155870e-01],\n",
       "       [-1.165850e-01,  6.991500e-02,  6.847600e-02, ..., -8.882360e-01,\n",
       "        -1.230050e-01,  5.829390e-01],\n",
       "       ...,\n",
       "       [ 2.290430e-01, -7.450000e-04,  1.716110e-01, ..., -1.088486e+00,\n",
       "        -5.907270e-01,  5.801420e-01],\n",
       "       [-3.017430e-01,  3.525580e-01,  2.889730e-01, ...,  5.027610e-01,\n",
       "         6.253500e-01,  7.189690e-01],\n",
       "       [-1.042410e-01, -1.037102e+00,  3.885520e-01, ..., -1.337547e+00,\n",
       "         9.995280e-01, -5.510630e-01]])"
      ]
     },
     "execution_count": 21,
     "metadata": {},
     "output_type": "execute_result"
    }
   ],
   "source": [
    "X"
   ]
  },
  {
   "cell_type": "code",
   "execution_count": 22,
   "metadata": {},
   "outputs": [
    {
     "data": {
      "text/plain": [
       "array([ 0,  0,  0, ...,  0,  4, 10])"
      ]
     },
     "execution_count": 22,
     "metadata": {},
     "output_type": "execute_result"
    }
   ],
   "source": [
    "y"
   ]
  },
  {
   "cell_type": "code",
   "execution_count": 23,
   "metadata": {
    "scrolled": false
   },
   "outputs": [
    {
     "data": {
      "text/html": [
       "<div>\n",
       "<style scoped>\n",
       "    .dataframe tbody tr th:only-of-type {\n",
       "        vertical-align: middle;\n",
       "    }\n",
       "\n",
       "    .dataframe tbody tr th {\n",
       "        vertical-align: top;\n",
       "    }\n",
       "\n",
       "    .dataframe thead th {\n",
       "        text-align: right;\n",
       "    }\n",
       "</style>\n",
       "<table border=\"1\" class=\"dataframe\">\n",
       "  <thead>\n",
       "    <tr style=\"text-align: right;\">\n",
       "      <th></th>\n",
       "      <th>0</th>\n",
       "      <th>1</th>\n",
       "      <th>2</th>\n",
       "      <th>3</th>\n",
       "      <th>4</th>\n",
       "      <th>5</th>\n",
       "      <th>6</th>\n",
       "      <th>7</th>\n",
       "      <th>8</th>\n",
       "      <th>9</th>\n",
       "      <th>10</th>\n",
       "    </tr>\n",
       "  </thead>\n",
       "  <tbody>\n",
       "    <tr>\n",
       "      <th>count</th>\n",
       "      <td>10430.000000</td>\n",
       "      <td>10430.000000</td>\n",
       "      <td>10430.000000</td>\n",
       "      <td>10430.000000</td>\n",
       "      <td>10430.000000</td>\n",
       "      <td>10430.000000</td>\n",
       "      <td>10430.000000</td>\n",
       "      <td>10430.000000</td>\n",
       "      <td>10430.000000</td>\n",
       "      <td>10430.000000</td>\n",
       "      <td>10430.000000</td>\n",
       "    </tr>\n",
       "    <tr>\n",
       "      <th>mean</th>\n",
       "      <td>0.000852</td>\n",
       "      <td>-0.007544</td>\n",
       "      <td>-0.005298</td>\n",
       "      <td>-0.002387</td>\n",
       "      <td>0.006370</td>\n",
       "      <td>0.008886</td>\n",
       "      <td>-0.002331</td>\n",
       "      <td>0.009070</td>\n",
       "      <td>0.008702</td>\n",
       "      <td>0.000818</td>\n",
       "      <td>3.542761</td>\n",
       "    </tr>\n",
       "    <tr>\n",
       "      <th>std</th>\n",
       "      <td>0.991431</td>\n",
       "      <td>0.953512</td>\n",
       "      <td>1.007528</td>\n",
       "      <td>1.008527</td>\n",
       "      <td>0.992053</td>\n",
       "      <td>0.999600</td>\n",
       "      <td>1.032191</td>\n",
       "      <td>0.995195</td>\n",
       "      <td>0.998735</td>\n",
       "      <td>1.007094</td>\n",
       "      <td>3.418046</td>\n",
       "    </tr>\n",
       "    <tr>\n",
       "      <th>min</th>\n",
       "      <td>-3.498799</td>\n",
       "      <td>-2.426761</td>\n",
       "      <td>-3.210528</td>\n",
       "      <td>-5.440122</td>\n",
       "      <td>-4.922215</td>\n",
       "      <td>-7.450257</td>\n",
       "      <td>-11.935457</td>\n",
       "      <td>-4.247781</td>\n",
       "      <td>-5.486218</td>\n",
       "      <td>-6.719324</td>\n",
       "      <td>0.000000</td>\n",
       "    </tr>\n",
       "    <tr>\n",
       "      <th>25%</th>\n",
       "      <td>-0.128929</td>\n",
       "      <td>-0.259834</td>\n",
       "      <td>0.064919</td>\n",
       "      <td>-0.528002</td>\n",
       "      <td>0.172340</td>\n",
       "      <td>-0.598658</td>\n",
       "      <td>-0.044076</td>\n",
       "      <td>-0.541992</td>\n",
       "      <td>-0.372457</td>\n",
       "      <td>-0.516097</td>\n",
       "      <td>0.000000</td>\n",
       "    </tr>\n",
       "    <tr>\n",
       "      <th>50%</th>\n",
       "      <td>0.043885</td>\n",
       "      <td>-0.055704</td>\n",
       "      <td>0.217845</td>\n",
       "      <td>0.095763</td>\n",
       "      <td>0.261718</td>\n",
       "      <td>-0.058835</td>\n",
       "      <td>0.220177</td>\n",
       "      <td>0.111778</td>\n",
       "      <td>0.064084</td>\n",
       "      <td>-0.034513</td>\n",
       "      <td>4.000000</td>\n",
       "    </tr>\n",
       "    <tr>\n",
       "      <th>75%</th>\n",
       "      <td>0.204355</td>\n",
       "      <td>0.203385</td>\n",
       "      <td>0.352988</td>\n",
       "      <td>0.658210</td>\n",
       "      <td>0.261718</td>\n",
       "      <td>0.564038</td>\n",
       "      <td>0.446679</td>\n",
       "      <td>0.654886</td>\n",
       "      <td>0.500624</td>\n",
       "      <td>0.530855</td>\n",
       "      <td>6.000000</td>\n",
       "    </tr>\n",
       "    <tr>\n",
       "      <th>max</th>\n",
       "      <td>11.819916</td>\n",
       "      <td>19.470188</td>\n",
       "      <td>7.458681</td>\n",
       "      <td>3.987152</td>\n",
       "      <td>1.066121</td>\n",
       "      <td>5.505495</td>\n",
       "      <td>10.714792</td>\n",
       "      <td>4.510897</td>\n",
       "      <td>3.244594</td>\n",
       "      <td>4.671232</td>\n",
       "      <td>11.000000</td>\n",
       "    </tr>\n",
       "  </tbody>\n",
       "</table>\n",
       "</div>"
      ],
      "text/plain": [
       "                 0             1             2             3             4   \\\n",
       "count  10430.000000  10430.000000  10430.000000  10430.000000  10430.000000   \n",
       "mean       0.000852     -0.007544     -0.005298     -0.002387      0.006370   \n",
       "std        0.991431      0.953512      1.007528      1.008527      0.992053   \n",
       "min       -3.498799     -2.426761     -3.210528     -5.440122     -4.922215   \n",
       "25%       -0.128929     -0.259834      0.064919     -0.528002      0.172340   \n",
       "50%        0.043885     -0.055704      0.217845      0.095763      0.261718   \n",
       "75%        0.204355      0.203385      0.352988      0.658210      0.261718   \n",
       "max       11.819916     19.470188      7.458681      3.987152      1.066121   \n",
       "\n",
       "                 5             6             7             8             9   \\\n",
       "count  10430.000000  10430.000000  10430.000000  10430.000000  10430.000000   \n",
       "mean       0.008886     -0.002331      0.009070      0.008702      0.000818   \n",
       "std        0.999600      1.032191      0.995195      0.998735      1.007094   \n",
       "min       -7.450257    -11.935457     -4.247781     -5.486218     -6.719324   \n",
       "25%       -0.598658     -0.044076     -0.541992     -0.372457     -0.516097   \n",
       "50%       -0.058835      0.220177      0.111778      0.064084     -0.034513   \n",
       "75%        0.564038      0.446679      0.654886      0.500624      0.530855   \n",
       "max        5.505495     10.714792      4.510897      3.244594      4.671232   \n",
       "\n",
       "                 10  \n",
       "count  10430.000000  \n",
       "mean       3.542761  \n",
       "std        3.418046  \n",
       "min        0.000000  \n",
       "25%        0.000000  \n",
       "50%        4.000000  \n",
       "75%        6.000000  \n",
       "max       11.000000  "
      ]
     },
     "execution_count": 23,
     "metadata": {},
     "output_type": "execute_result"
    }
   ],
   "source": [
    "dataset.describe()"
   ]
  },
  {
   "cell_type": "code",
   "execution_count": 24,
   "metadata": {},
   "outputs": [
    {
     "name": "stdout",
     "output_type": "stream",
     "text": [
      "<class 'pandas.core.frame.DataFrame'>\n",
      "RangeIndex: 10430 entries, 0 to 10429\n",
      "Data columns (total 11 columns):\n",
      "0     10430 non-null float64\n",
      "1     10430 non-null float64\n",
      "2     10430 non-null float64\n",
      "3     10430 non-null float64\n",
      "4     10430 non-null float64\n",
      "5     10430 non-null float64\n",
      "6     10430 non-null float64\n",
      "7     10430 non-null float64\n",
      "8     10430 non-null float64\n",
      "9     10430 non-null float64\n",
      "10    10430 non-null int64\n",
      "dtypes: float64(10), int64(1)\n",
      "memory usage: 896.4 KB\n"
     ]
    }
   ],
   "source": [
    "dataset.info()"
   ]
  },
  {
   "cell_type": "code",
   "execution_count": 25,
   "metadata": {
    "scrolled": true
   },
   "outputs": [
    {
     "data": {
      "text/plain": [
       "<matplotlib.axes._subplots.AxesSubplot at 0x7fe0f726c978>"
      ]
     },
     "execution_count": 25,
     "metadata": {},
     "output_type": "execute_result"
    },
    {
     "data": {
      "image/png": "[encoded data removed]",
      "text/plain": [
       "<Figure size 1224x753.231 with 1 Axes>"
      ]
     },
     "metadata": {
      "needs_background": "light"
     },
     "output_type": "display_data"
    }
   ],
   "source": [
    "# Aumentar o tamanho do plot na proporção 8/13\n",
    "x_size = 17\n",
    "y_size = x_size * (8/13)\n",
    "plt.figure(figsize=(x_size, y_size))\n",
    "# Aumentar o tamanho do plot na proporção 8/13\n",
    "\n",
    "dataset.boxplot()"
   ]
  },
  {
   "cell_type": "markdown",
   "metadata": {},
   "source": [
    "# One Hot Encoding"
   ]
  },
  {
   "cell_type": "code",
   "execution_count": 26,
   "metadata": {},
   "outputs": [
    {
     "name": "stdout",
     "output_type": "stream",
     "text": [
      "Values:  [ 0  0  0 ...  0  4 10] (10430,)\n",
      "integer_encoded: [ 0  0  0 ...  0  4 10] (10430,)\n",
      "onehot_encoded: [[1. 0. 0. ... 0. 0. 0.]\n",
      " [1. 0. 0. ... 0. 0. 0.]\n",
      " [1. 0. 0. ... 0. 0. 0.]\n",
      " ...\n",
      " [1. 0. 0. ... 0. 0. 0.]\n",
      " [0. 0. 0. ... 0. 0. 0.]\n",
      " [0. 0. 0. ... 0. 1. 0.]] (10430, 12)\n",
      "inverted: [0]\n"
     ]
    },
    {
     "name": "stderr",
     "output_type": "stream",
     "text": [
      "/usr/local/lib/python3.6/dist-packages/sklearn/preprocessing/_encoders.py:363: FutureWarning: The handling of integer data will change in version 0.22. Currently, the categories are determined based on the range [0, max(values)], while in the future they will be determined based on the unique values.\n",
      "If you want the future behaviour and silence this warning, you can specify \"categories='auto'\".\n",
      "In case you used a LabelEncoder before this OneHotEncoder to convert the categories to integers, then you can now use the OneHotEncoder directly.\n",
      "  warnings.warn(msg, FutureWarning)\n"
     ]
    }
   ],
   "source": [
    "#from numpy import array\n",
    "#from numpy import argmax\n",
    "from sklearn.preprocessing import LabelEncoder\n",
    "from sklearn.preprocessing import OneHotEncoder\n",
    "# define example\n",
    "data = np.array(y)\n",
    "values = np.array(data)\n",
    "print(\"Values: \", values, values.shape)\n",
    "# integer encode\n",
    "label_encoder = LabelEncoder()\n",
    "integer_encoded = label_encoder.fit_transform(values)\n",
    "print(\"integer_encoded:\", integer_encoded, integer_encoded.shape)\n",
    "# binary encode\n",
    "onehot_encoder = OneHotEncoder(sparse=False)\n",
    "integer_encoded = integer_encoded.reshape(len(integer_encoded), 1)\n",
    "onehot_encoded = onehot_encoder.fit_transform(integer_encoded)\n",
    "print(\"onehot_encoded:\", onehot_encoded,  onehot_encoded.shape)\n",
    "# invert first example\n",
    "inverted = label_encoder.inverse_transform([np.argmax(onehot_encoded[0, :])])\n",
    "print(\"inverted:\", inverted)"
   ]
  },
  {
   "cell_type": "code",
   "execution_count": 27,
   "metadata": {},
   "outputs": [
    {
     "name": "stdout",
     "output_type": "stream",
     "text": [
      "[0. 0. 0. 0. 0. 1. 0. 0. 0. 0. 0. 0.] 5\n",
      "[0. 0. 0. 1. 0. 0. 0. 0. 0. 0. 0. 0.] 3\n",
      "[1. 0. 0. 0. 0. 0. 0. 0. 0. 0. 0. 0.] 0\n"
     ]
    }
   ],
   "source": [
    "print(onehot_encoded[4], values[4])\n",
    "print(onehot_encoded[43], values[43])\n",
    "print(onehot_encoded[440], values[440])"
   ]
  },
  {
   "cell_type": "code",
   "execution_count": null,
   "metadata": {},
   "outputs": [],
   "source": []
  },
  {
   "cell_type": "code",
   "execution_count": null,
   "metadata": {},
   "outputs": [],
   "source": []
  },
  {
   "cell_type": "markdown",
   "metadata": {},
   "source": [
    "# Split Train Test"
   ]
  },
  {
   "cell_type": "code",
   "execution_count": 28,
   "metadata": {},
   "outputs": [],
   "source": [
    "# Splitting the dataset into the Training set and Test set\n",
    "\n",
    "from sklearn.model_selection import train_test_split\n",
    "X_train, X_test, y_train, y_test = train_test_split(X, onehot_encoded, test_size = 0.2)"
   ]
  },
  {
   "cell_type": "code",
   "execution_count": 29,
   "metadata": {},
   "outputs": [
    {
     "data": {
      "text/plain": [
       "(array([[ 0.290762,  0.156278,  0.136047, ...,  1.014046,  0.18881 ,\n",
       "          1.00435 ],\n",
       "        [ 0.019197, -0.087108,  0.384996, ...,  0.820785, -0.060642,\n",
       "          0.247601],\n",
       "        [ 0.09326 , -0.267686,  0.168055, ...,  0.072885, -0.247731,\n",
       "          0.213871],\n",
       "        ...,\n",
       "        [ 0.080916, -0.244132,  0.214288, ..., -0.864472, -0.43482 ,\n",
       "          0.710566],\n",
       "        [-3.498799,  0.611647,  0.064919, ...,  1.042607, -1.775623,\n",
       "         -0.466593],\n",
       "        [ 0.179667, -0.173471,  0.121822, ..., -0.197067, -0.060642,\n",
       "         -0.147879]]), (2086, 10))"
      ]
     },
     "execution_count": 29,
     "metadata": {},
     "output_type": "execute_result"
    }
   ],
   "source": [
    "X_test, X_test.shape"
   ]
  },
  {
   "cell_type": "code",
   "execution_count": 30,
   "metadata": {},
   "outputs": [
    {
     "data": {
      "text/plain": [
       "(array([[-0.301743, -0.055704,  0.210732, ..., -0.235277,  0.687713,\n",
       "          0.135428],\n",
       "        [ 0.142636,  0.486028,  0.100483, ..., -0.586074, -0.65309 ,\n",
       "         -0.306742],\n",
       "        [ 0.488263, -0.49537 ,  0.111153, ..., -0.164546,  1.03071 ,\n",
       "          1.801266],\n",
       "        ...,\n",
       "        [-0.635027, -0.448263,  0.299642, ...,  0.527768,  2.059698,\n",
       "          2.434161],\n",
       "        [-0.215336, -1.296191,  0.491688, ...,  0.328566,  2.122061,\n",
       "          1.569446],\n",
       "        [ 0.117948,  0.627349,  0.075589, ...,  0.802555, -0.029461,\n",
       "          0.048956]]), (8344, 10))"
      ]
     },
     "execution_count": 30,
     "metadata": {},
     "output_type": "execute_result"
    }
   ],
   "source": [
    "X_train, X_train.shape"
   ]
  },
  {
   "cell_type": "code",
   "execution_count": 31,
   "metadata": {},
   "outputs": [
    {
     "name": "stdout",
     "output_type": "stream",
     "text": [
      "[[0. 0. 0. ... 0. 0. 0.]\n",
      " [1. 0. 0. ... 0. 0. 0.]\n",
      " [0. 0. 0. ... 0. 0. 0.]\n",
      " ...\n",
      " [0. 0. 0. ... 0. 0. 1.]\n",
      " [0. 0. 0. ... 0. 1. 0.]\n",
      " [1. 0. 0. ... 0. 0. 0.]] (8344, 12)\n"
     ]
    }
   ],
   "source": [
    "print(y_train, y_train.shape)"
   ]
  },
  {
   "cell_type": "code",
   "execution_count": 32,
   "metadata": {
    "scrolled": true
   },
   "outputs": [
    {
     "name": "stdout",
     "output_type": "stream",
     "text": [
      "[[1. 0. 0. ... 0. 0. 0.]\n",
      " [1. 0. 0. ... 0. 0. 0.]\n",
      " [1. 0. 0. ... 0. 0. 0.]\n",
      " ...\n",
      " [0. 0. 0. ... 0. 0. 0.]\n",
      " [1. 0. 0. ... 0. 0. 0.]\n",
      " [1. 0. 0. ... 0. 0. 0.]] (2086, 12)\n"
     ]
    }
   ],
   "source": [
    "print(y_test, y_test.shape)"
   ]
  },
  {
   "cell_type": "markdown",
   "metadata": {},
   "source": [
    "# StandardScaler\n",
    "\n",
    "I know you are tired of data preprocessing but I promise this is the last step. If you carefully observe data, you will find that data is not scaled properly. Some variable has value in thousands while some have value is tens or ones. We don’t want any of our variable to dominate on other so let’s go and scale data.\n",
    "\n",
    "    Step 6: ‘StandardScaler’ is available in ScikitLearn. In the following code we are fitting and transforming StandardScaler method on train data. We have to standardize our scaling so we will use the same fitted method to transform/scale test data."
   ]
  },
  {
   "cell_type": "code",
   "execution_count": 33,
   "metadata": {},
   "outputs": [],
   "source": [
    "# Feature Scaling\n",
    "\n",
    "from sklearn.preprocessing import StandardScaler\n",
    "sc = StandardScaler()\n",
    "X_train = sc.fit_transform(X_train)\n",
    "X_test = sc.transform(X_test)"
   ]
  },
  {
   "cell_type": "code",
   "execution_count": 34,
   "metadata": {
    "scrolled": true
   },
   "outputs": [
    {
     "data": {
      "text/plain": [
       "(array([[-0.30992535, -0.04703175,  0.22088144, ..., -0.24955599,\n",
       "          0.67826879,  0.13192803],\n",
       "        [ 0.13878197,  0.54427477,  0.11188187, ..., -0.60384978,\n",
       "         -0.66589863, -0.30858029],\n",
       "        [ 0.48777543, -0.52693209,  0.12243095, ..., -0.17811993,\n",
       "          1.02212645,  1.79150578],\n",
       "        ...,\n",
       "        [-0.64645559, -0.47551427,  0.30878383, ...,  0.52109515,\n",
       "          2.05369644,  2.42202235],\n",
       "        [-0.22267673, -1.40103714,  0.4986534 , ...,  0.31990748,\n",
       "          2.11621593,  1.56055697],\n",
       "        [ 0.11385351,  0.69852821,  0.08726999, ...,  0.79862126,\n",
       "         -0.04070478,  0.04578099]]), (8344, 10))"
      ]
     },
     "execution_count": 34,
     "metadata": {},
     "output_type": "execute_result"
    }
   ],
   "source": [
    "X_train, X_train.shape"
   ]
  },
  {
   "cell_type": "code",
   "execution_count": 35,
   "metadata": {},
   "outputs": [
    {
     "data": {
      "image/png": "[encoded data removed]",
      "text/plain": [
       "<Figure size 432x288 with 1 Axes>"
      ]
     },
     "metadata": {
      "needs_background": "light"
     },
     "output_type": "display_data"
    }
   ],
   "source": [
    "plt.boxplot(X_train)\n",
    "plt.show()"
   ]
  },
  {
   "cell_type": "code",
   "execution_count": 36,
   "metadata": {},
   "outputs": [
    {
     "data": {
      "image/png": "[encoded data removed]",
      "text/plain": [
       "<Figure size 432x288 with 1 Axes>"
      ]
     },
     "metadata": {
      "needs_background": "light"
     },
     "output_type": "display_data"
    }
   ],
   "source": [
    "plt.boxplot(X_test)\n",
    "plt.show()"
   ]
  },
  {
   "cell_type": "code",
   "execution_count": 37,
   "metadata": {
    "scrolled": true
   },
   "outputs": [
    {
     "data": {
      "text/plain": [
       "(array([[ 0.28835074,  0.18434897,  0.14704283, ...,  1.01222044,\n",
       "          0.17811391,  0.99758461],\n",
       "        [ 0.01414066, -0.08130957,  0.39317052, ...,  0.81703298,\n",
       "         -0.07196403,  0.24367948],\n",
       "        [ 0.08892504, -0.27841247,  0.17868809, ...,  0.06167781,\n",
       "         -0.25952248,  0.21007624],\n",
       "        ...,\n",
       "        [ 0.07646081, -0.25270301,  0.22439714, ..., -0.88502289,\n",
       "         -0.44708093,  0.70490465],\n",
       "        [-3.53812117,  0.68138931,  0.07672092, ...,  1.04106614,\n",
       "         -1.79124834, -0.46783057],\n",
       "        [ 0.17617366, -0.17557574,  0.13297904, ..., -0.21096511,\n",
       "         -0.07196403, -0.1503143 ]]), (2086, 10))"
      ]
     },
     "execution_count": 37,
     "metadata": {},
     "output_type": "execute_result"
    }
   ],
   "source": [
    "X_test, X_test.shape"
   ]
  },
  {
   "cell_type": "markdown",
   "metadata": {},
   "source": [
    "import sklearn\n",
    "a = sklearn.preprocessing.normalize(y_train.reshape(1,-1))\n",
    "print(a)\n",
    "print(y_train)"
   ]
  },
  {
   "cell_type": "markdown",
   "metadata": {},
   "source": [
    "y_train = a.reshape(-1,1)"
   ]
  },
  {
   "cell_type": "markdown",
   "metadata": {},
   "source": [
    "# Keras"
   ]
  },
  {
   "cell_type": "code",
   "execution_count": 38,
   "metadata": {},
   "outputs": [
    {
     "ename": "NameError",
     "evalue": "name 'classifier' is not defined",
     "output_type": "error",
     "traceback": [
      "\u001b[0;31m---------------------------------------------------------------------------\u001b[0m",
      "\u001b[0;31mNameError\u001b[0m                                 Traceback (most recent call last)",
      "\u001b[0;32m<ipython-input-38-70e2842f7cc4>\u001b[0m in \u001b[0;36m<module>\u001b[0;34m\u001b[0m\n\u001b[0;32m----> 1\u001b[0;31m \u001b[0;32mdel\u001b[0m\u001b[0;34m(\u001b[0m\u001b[0mclassifier\u001b[0m\u001b[0;34m)\u001b[0m\u001b[0;34m\u001b[0m\u001b[0m\n\u001b[0m",
      "\u001b[0;31mNameError\u001b[0m: name 'classifier' is not defined"
     ]
    }
   ],
   "source": [
    "del(classifier)"
   ]
  },
  {
   "cell_type": "code",
   "execution_count": 80,
   "metadata": {},
   "outputs": [],
   "source": [
    "# Importing the Keras libraries and packages\n",
    "import keras\n",
    "from keras.models import Sequential\n",
    "from keras.layers import Dense, Flatten, Dropout\n",
    "from keras.callbacks import TensorBoard\n",
    "from keras.utils.vis_utils import plot_model\n",
    "import datetime"
   ]
  },
  {
   "cell_type": "code",
   "execution_count": 100,
   "metadata": {},
   "outputs": [],
   "source": []
  },
  {
   "cell_type": "code",
   "execution_count": 101,
   "metadata": {},
   "outputs": [],
   "source": [
    "#Initializing Neural Network\n",
    "classifier = Sequential()\n",
    "# Adding the input layer and the first hidden layer\n",
    "classifier.add(Dense(128, activation=\"relu\"))\n",
    "\n",
    "# Prevent Overfitting\n",
    "#classifier.add(Dropout(0.01))\n",
    "\n",
    "# Adding the input layer and the first hidden layer\n",
    "classifier.add(Dense(128, activation=\"relu\"))\n",
    "\n",
    "classifier.add(Dense(128, activation=\"relu\"))\n",
    "\n",
    "# Adding the output layer\n",
    "classifier.add(Dense(12, activation=\"softmax\"))"
   ]
  },
  {
   "cell_type": "code",
   "execution_count": 102,
   "metadata": {},
   "outputs": [],
   "source": [
    "# Compiling Neural Network\n",
    "classifier.compile(optimizer = 'adam',\n",
    "                   loss = 'categorical_crossentropy',\n",
    "                   metrics = ['accuracy', ])"
   ]
  },
  {
   "cell_type": "markdown",
   "metadata": {},
   "source": [
    "plot_model(classifier, to_file='classifier_fig.png', show_shapes=True, show_layer_names=True)"
   ]
  },
  {
   "cell_type": "code",
   "execution_count": 103,
   "metadata": {},
   "outputs": [
    {
     "data": {
      "text/plain": [
       "'logs/2018-10-24_16:32:14.644041'"
      ]
     },
     "execution_count": 103,
     "metadata": {},
     "output_type": "execute_result"
    }
   ],
   "source": [
    "name_logs = \"logs/{}\".format(datetime.datetime.now())\n",
    "name_logs.replace(\" \", \"_\")"
   ]
  },
  {
   "cell_type": "markdown",
   "metadata": {},
   "source": [
    "name_logs = \"logs/{}\".format(time.time())\n",
    "name_logs"
   ]
  },
  {
   "cell_type": "code",
   "execution_count": 104,
   "metadata": {},
   "outputs": [],
   "source": [
    "tbCallBack = TensorBoard(log_dir=name_logs)"
   ]
  },
  {
   "cell_type": "code",
   "execution_count": 105,
   "metadata": {
    "scrolled": true
   },
   "outputs": [
    {
     "data": {
      "text/plain": [
       "((8344, 10), (8344, 12))"
      ]
     },
     "execution_count": 105,
     "metadata": {},
     "output_type": "execute_result"
    }
   ],
   "source": [
    "X_train.shape, y_train.shape"
   ]
  },
  {
   "cell_type": "code",
   "execution_count": 106,
   "metadata": {
    "scrolled": true
   },
   "outputs": [
    {
     "name": "stdout",
     "output_type": "stream",
     "text": [
      "Train on 6675 samples, validate on 1669 samples\n",
      "Epoch 1/10\n",
      "6675/6675 [==============================] - 0s 54us/step - loss: 1.3990 - acc: 0.5471 - val_loss: 1.1230 - val_acc: 0.6117\n",
      "Epoch 2/10\n",
      "6675/6675 [==============================] - 0s 33us/step - loss: 0.9921 - acc: 0.6545 - val_loss: 0.9398 - val_acc: 0.6675\n",
      "Epoch 3/10\n",
      "6675/6675 [==============================] - 0s 34us/step - loss: 0.8575 - acc: 0.6941 - val_loss: 0.8508 - val_acc: 0.6926\n",
      "Epoch 4/10\n",
      "6675/6675 [==============================] - 0s 37us/step - loss: 0.7829 - acc: 0.7148 - val_loss: 0.8152 - val_acc: 0.7160\n",
      "Epoch 5/10\n",
      "6675/6675 [==============================] - 0s 39us/step - loss: 0.7238 - acc: 0.7311 - val_loss: 0.7687 - val_acc: 0.7052\n",
      "Epoch 6/10\n",
      "6675/6675 [==============================] - 0s 46us/step - loss: 0.6778 - acc: 0.7432 - val_loss: 0.7086 - val_acc: 0.7436\n",
      "Epoch 7/10\n",
      "6675/6675 [==============================] - 0s 37us/step - loss: 0.6359 - acc: 0.7554 - val_loss: 0.7126 - val_acc: 0.7334\n",
      "Epoch 8/10\n",
      "6675/6675 [==============================] - 0s 34us/step - loss: 0.5994 - acc: 0.7730 - val_loss: 0.6326 - val_acc: 0.7711\n",
      "Epoch 9/10\n",
      "6675/6675 [==============================] - 0s 31us/step - loss: 0.5649 - acc: 0.7811 - val_loss: 0.6260 - val_acc: 0.7771\n",
      "Epoch 10/10\n",
      "6675/6675 [==============================] - 0s 42us/step - loss: 0.5375 - acc: 0.7940 - val_loss: 0.6730 - val_acc: 0.7507\n"
     ]
    },
    {
     "data": {
      "text/plain": [
       "<keras.callbacks.History at 0x7fe0e00a0f28>"
      ]
     },
     "execution_count": 106,
     "metadata": {},
     "output_type": "execute_result"
    }
   ],
   "source": [
    "# Fitting our model \n",
    "classifier.fit(X_train, y_train, epochs=10, validation_split=0.2 , verbose=1, callbacks=[tbCallBack])"
   ]
  },
  {
   "cell_type": "markdown",
   "metadata": {},
   "source": [
    "mudar o y, e se continuar, ai mudo o X"
   ]
  },
  {
   "cell_type": "code",
   "execution_count": 107,
   "metadata": {},
   "outputs": [
    {
     "name": "stdout",
     "output_type": "stream",
     "text": [
      "2086/2086 [==============================] - 0s 19us/step\n"
     ]
    },
    {
     "data": {
      "text/plain": [
       "[0.6428232429011557, 0.762703739156659]"
      ]
     },
     "execution_count": 107,
     "metadata": {},
     "output_type": "execute_result"
    }
   ],
   "source": [
    "classifier.evaluate(X_test, y_test)"
   ]
  },
  {
   "cell_type": "markdown",
   "metadata": {},
   "source": [
    "# Matriz de Confusão\n",
    "\n",
    "Para fazer a matriz de confusão precisa de 3 arrays:\n",
    "\n",
    "* `X_test` que contém os valores dos atributos\n",
    "* `y_pred` que contém os valores previstos pela rede (1D)\n",
    "* `y_test` que contém os valores reais que se correlacionam com `X_test` (1D)\n",
    "\n",
    "Porém o `y_pred` e o `y_test` estão no formato de One Hot Encoding, então precisamos convertê-lo para o original"
   ]
  },
  {
   "cell_type": "markdown",
   "metadata": {},
   "source": [
    "Predizendo os valores a partir de `X_test`"
   ]
  },
  {
   "cell_type": "code",
   "execution_count": 48,
   "metadata": {},
   "outputs": [],
   "source": [
    "y_pred = classifier.predict(X_test)"
   ]
  },
  {
   "cell_type": "code",
   "execution_count": 49,
   "metadata": {},
   "outputs": [
    {
     "name": "stdout",
     "output_type": "stream",
     "text": [
      "inverted len: 2086\n",
      "y_pred:  [[9.9121815e-01 9.6998649e-09 1.3785703e-09 ... 1.7647173e-05\n",
      "  8.1796152e-08 3.4428224e-06]\n",
      " [8.0978638e-01 3.7097859e-08 8.7556555e-06 ... 6.8075184e-05\n",
      "  1.3483223e-07 1.8003549e-05]\n",
      " [6.7635423e-01 2.3986186e-09 1.2728980e-06 ... 4.9107922e-07\n",
      "  6.1150281e-08 9.4345006e-07]\n",
      " ...\n",
      " [2.5914654e-01 5.3464102e-08 1.1454750e-05 ... 6.1453557e-07\n",
      "  1.8880116e-06 2.7673153e-05]\n",
      " [9.5494455e-01 4.9361593e-06 6.0657949e-05 ... 5.2463327e-04\n",
      "  5.1013124e-04 5.7424756e-04]\n",
      " [6.2726468e-01 6.8163800e-08 3.0429655e-04 ... 2.6225832e-06\n",
      "  3.0083685e-05 4.5708011e-06]] (2086, 12)\n"
     ]
    }
   ],
   "source": [
    "inverted_y_pred = list()\n",
    "for i in range(len(y_pred)):\n",
    "    inverted_y_pred.append(int(label_encoder.inverse_transform([np.argmax(y_pred[i])])))\n",
    "print(\"inverted len:\", len(inverted_y_pred))\n",
    "print(\"y_pred: \", y_pred, y_pred.shape)"
   ]
  },
  {
   "cell_type": "code",
   "execution_count": 50,
   "metadata": {},
   "outputs": [
    {
     "name": "stdout",
     "output_type": "stream",
     "text": [
      "inverted len: 2086\n",
      "y_pred:  [[1. 0. 0. ... 0. 0. 0.]\n",
      " [1. 0. 0. ... 0. 0. 0.]\n",
      " [1. 0. 0. ... 0. 0. 0.]\n",
      " ...\n",
      " [0. 0. 0. ... 0. 0. 0.]\n",
      " [1. 0. 0. ... 0. 0. 0.]\n",
      " [1. 0. 0. ... 0. 0. 0.]] (2086, 12)\n"
     ]
    }
   ],
   "source": [
    "inverted_y_test = list()\n",
    "for i in range(len(y_test)):\n",
    "    inverted_y_test.append(int(label_encoder.inverse_transform([np.argmax(y_test[i])])))\n",
    "print(\"inverted len:\", len(inverted_y_test))\n",
    "print(\"y_pred: \", y_test, y_test.shape)"
   ]
  },
  {
   "cell_type": "code",
   "execution_count": 51,
   "metadata": {},
   "outputs": [
    {
     "data": {
      "text/plain": [
       "array([1., 0., 0., 0., 0., 0., 0., 0., 0., 0., 0., 0.])"
      ]
     },
     "execution_count": 51,
     "metadata": {},
     "output_type": "execute_result"
    }
   ],
   "source": [
    "y_test[5]"
   ]
  },
  {
   "cell_type": "code",
   "execution_count": 52,
   "metadata": {},
   "outputs": [
    {
     "data": {
      "text/plain": [
       "array([9.9121815e-01, 9.6998649e-09, 1.3785703e-09, 1.7345997e-07,\n",
       "       4.1200531e-07, 8.5377591e-03, 6.1235594e-05, 9.7987926e-05,\n",
       "       6.3155509e-05, 1.7647173e-05, 8.1796152e-08, 3.4428224e-06],\n",
       "      dtype=float32)"
      ]
     },
     "execution_count": 52,
     "metadata": {},
     "output_type": "execute_result"
    }
   ],
   "source": [
    "y_pred[0, :]"
   ]
  },
  {
   "cell_type": "code",
   "execution_count": 53,
   "metadata": {},
   "outputs": [
    {
     "name": "stdout",
     "output_type": "stream",
     "text": [
      "inverted: [0]\n"
     ]
    }
   ],
   "source": [
    "inverted = label_encoder.inverse_transform([np.argmax(y_pred[0, :])]) #onehot_encoded[0, :])])\n",
    "print(\"inverted:\", inverted)"
   ]
  },
  {
   "cell_type": "code",
   "execution_count": 54,
   "metadata": {},
   "outputs": [
    {
     "data": {
      "text/plain": [
       "array([8.0978638e-01, 3.7097859e-08, 8.7556555e-06, 4.6710597e-04,\n",
       "       1.2126735e-04, 1.8352409e-01, 2.2200187e-05, 5.9765046e-03,\n",
       "       7.4035811e-06, 6.8075184e-05, 1.3483223e-07, 1.8003549e-05],\n",
       "      dtype=float32)"
      ]
     },
     "execution_count": 54,
     "metadata": {},
     "output_type": "execute_result"
    }
   ],
   "source": [
    "y_pred[1]"
   ]
  },
  {
   "cell_type": "code",
   "execution_count": 55,
   "metadata": {},
   "outputs": [
    {
     "data": {
      "text/plain": [
       "array([1., 0., 0., 0., 0., 0., 0., 0., 0., 0., 0., 0.])"
      ]
     },
     "execution_count": 55,
     "metadata": {},
     "output_type": "execute_result"
    }
   ],
   "source": [
    "y_test[1]"
   ]
  },
  {
   "cell_type": "code",
   "execution_count": 56,
   "metadata": {
    "scrolled": true
   },
   "outputs": [
    {
     "data": {
      "text/plain": [
       "array([[758,   0,   0,   0,   6,  46,  10,   4,   0,   0,   6,   0],\n",
       "       [  0,   2,   0,   0,   0,   0,   0,   0,   0,   0,   0,   0],\n",
       "       [  3,   0,   4,   6,   6,   2,   0,   2,   0,   0,   0,   0],\n",
       "       [ 20,   0,   0,  32,  22,   4,   0,   0,   0,   0,   0,   0],\n",
       "       [ 28,   0,   0,   7, 198,   4,   2,   6,   1,   0,   4,   0],\n",
       "       [167,   0,   0,   0,   7, 225,   4,   2,   0,   0,   0,   0],\n",
       "       [ 33,   0,   0,   0,   1,   8,  45,   2,   0,   0,   1,   0],\n",
       "       [ 31,   0,   0,   0,   3,   1,   4,  58,   0,   0,   0,   0],\n",
       "       [  7,   0,   0,   0,   0,   0,   0,   0, 161,   0,   0,   0],\n",
       "       [  0,   0,   0,   0,   0,   0,   0,   0,   2,   7,   1,   0],\n",
       "       [  2,   0,   0,   0,  11,   0,   0,   1,   0,   0,  77,   7],\n",
       "       [  1,   0,   0,   0,   1,   0,   2,   0,   0,   0,   3,  28]])"
      ]
     },
     "execution_count": 56,
     "metadata": {},
     "output_type": "execute_result"
    }
   ],
   "source": [
    "from sklearn.metrics import confusion_matrix\n",
    "\n",
    "# Sintaxe da função\n",
    "# sklearn.metrics.confusion_matrix(y_true, y_pred, labels=None, sample_weight=None)\n",
    "matrix = confusion_matrix(inverted_y_test, inverted_y_pred)\n",
    "matrix"
   ]
  },
  {
   "cell_type": "markdown",
   "metadata": {},
   "source": [
    "By definition a confusion matrix _*C*_ is such that _*Ci,j*_ is equal to the number of observations known to be in group _*i*_ but predicted to be in group _*j*_ .\n",
    "\n",
    "Ou seja, as linhas são os grupos verdadeiros e as colunas são as classes previstas"
   ]
  },
  {
   "cell_type": "code",
   "execution_count": 57,
   "metadata": {},
   "outputs": [],
   "source": [
    "import seaborn"
   ]
  },
  {
   "cell_type": "code",
   "execution_count": 58,
   "metadata": {
    "scrolled": true
   },
   "outputs": [
    {
     "data": {
      "text/plain": [
       "<matplotlib.axes._subplots.AxesSubplot at 0x7fe0e01006d8>"
      ]
     },
     "execution_count": 58,
     "metadata": {},
     "output_type": "execute_result"
    },
    {
     "data": {
      "image/png": "[encoded data removed]",
      "text/plain": [
       "<Figure size 432x288 with 2 Axes>"
      ]
     },
     "metadata": {
      "needs_background": "light"
     },
     "output_type": "display_data"
    }
   ],
   "source": [
    "seaborn.heatmap(matrix)"
   ]
  },
  {
   "cell_type": "markdown",
   "metadata": {},
   "source": [
    "# Resultados\n",
    "\n",
    "Com a realização do método acima temos que a classe A deixou a rede muito tendenciosa."
   ]
  }
 ],
 "metadata": {
  "kernelspec": {
   "display_name": "tensorflow_1",
   "language": "python",
   "name": "tensorflow_1"
  },
  "language_info": {
   "codemirror_mode": {
    "name": "ipython",
    "version": 3
   },
   "file_extension": ".py",
   "mimetype": "text/x-python",
   "name": "python",
   "nbconvert_exporter": "python",
   "pygments_lexer": "ipython3",
   "version": "3.6.5"
  }
 },
 "nbformat": 4,
 "nbformat_minor": 2
}
