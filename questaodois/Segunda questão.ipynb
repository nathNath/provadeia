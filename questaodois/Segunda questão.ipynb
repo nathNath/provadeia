{
 "cells": [
  {
   "cell_type": "markdown",
   "metadata": {},
   "source": [
    "# Questão 2 - Prova 2 de Inteligência Artificial\n",
    "\n",
    "## Lucas Nóbrega e Nathália de Vasconcelos\n",
    "\n",
    "Enunciado: utilizando a base disponível no ​ [link](https://archive.ics.uci.edu/ml/datasets/Avila), crie os datasets a seguir:\n",
    "\n",
    "|Dataset| % de instâncias|\n",
    "|-|-|\n",
    "|Treino| 60%|\n",
    "|Validação| 20%|\n",
    "|Teste| 20%|\n",
    "\n",
    "\n",
    "Elabore uma rede neural de duas camadas para classificação do banco de\n",
    "dados.\n",
    "Ao fim do treinamento, avalie o desempenho da rede utilizando a matriz de\n",
    "confusão com o dataset de teste e mostre o valor de acurácia.\n",
    "Observações:\n",
    "\n",
    "● Utilize apenas o arquivo ​ avila-tr.txt​ .\n",
    "\n",
    "● A camada de saída da rede deverá conter um neurônio para cada classe.\n",
    "\n",
    "● Utilize o dataset de validação para criar algum critério de parada no\n",
    "treinamento.\n",
    "\n",
    "Bônus: defina uma arquitetura de rede neural ou modelos de ​ deep learning que\n",
    "ultrapassem 75% de acurácia."
   ]
  },
  {
   "cell_type": "markdown",
   "metadata": {},
   "source": [
    "### DATA SET DESCRIPTION \n",
    "The Avila data set has been extracted from 800 images of the the \"Avila Bible\", a giant Latin copy of the whole Bible produced during the XII century between Italy and Spain.  \n",
    "The palaeographic analysis of the  manuscript has  individuated the presence of 12 copyists. The pages written by each copyist are not equally numerous. \n",
    "Each pattern contains 10 features and corresponds to a group of 4 consecutive rows.\n",
    "\n",
    "The prediction task consists in associating each pattern to one of the 12 copyists (labeled as: A, B, C, D, E, F, G, H, I, W, X, Y).\n",
    "The data have has been normalized, by using the Z-normalization method, and divided in two data sets: a training set containing 10430 samples, and a test set  containing the 10437 samples.\n",
    "\n",
    "### Class distribution (training set)\n",
    "* A: 4286\n",
    "* B: 5  \n",
    "* C: 103 \n",
    "* D: 352 \n",
    "* E: 1095 \n",
    "* F: 1961 \n",
    "* G: 446 \n",
    "* H: 519\n",
    "* I: 831\n",
    "* W: 44\n",
    "* X: 522 \n",
    "* Y: 266\n",
    "\n",
    "### ATTRIBUTE DESCRIPTION\n",
    "|ID|      Name    |\n",
    "|-|-|\n",
    "|F1|       intercolumnar distance |\n",
    "|F2|       upper margin |\n",
    "|F3|       lower margin |\n",
    "|F4|       exploitation |\n",
    "|F5|       row number |\n",
    "|F6|      modular ratio |\n",
    "|F7|       interlinear spacing |\n",
    "|F8|       weight |\n",
    "|F9|       peak number |\n",
    "|F10|     modular ratio/ interlinear spacing|\n",
    "Class: A, B, C, D, E, F, G, H, I, W, X, Y\n",
    "\n",
    "\n",
    "CITATIONS\n",
    "If you want to refer to the Avila data set in a publication, please cite the following paper:\n",
    "\n",
    "C. De Stefano, M. Maniaci, F. Fontanella, A. Scotto di Freca,\n",
    "Reliable writer identification in medieval manuscripts through page layout features: The \"Avila\" Bible case, Engineering Applications of Artificial Intelligence, Volume 72, 2018, pp. 99-110.\n"
   ]
  },
  {
   "cell_type": "code",
   "execution_count": 1,
   "metadata": {},
   "outputs": [],
   "source": [
    "import tensorflow as tf"
   ]
  },
  {
   "cell_type": "code",
   "execution_count": 2,
   "metadata": {},
   "outputs": [],
   "source": [
    "import matplotlib.pyplot as plt\n",
    "\n",
    "%matplotlib inline\n",
    "\n",
    "import numpy as np"
   ]
  },
  {
   "cell_type": "code",
   "execution_count": 3,
   "metadata": {},
   "outputs": [],
   "source": [
    "import pandas as pd"
   ]
  },
  {
   "cell_type": "code",
   "execution_count": 4,
   "metadata": {},
   "outputs": [],
   "source": [
    "import time"
   ]
  },
  {
   "cell_type": "markdown",
   "metadata": {},
   "source": [
    "# Abrindo o arquivo de dados"
   ]
  },
  {
   "cell_type": "code",
   "execution_count": 5,
   "metadata": {},
   "outputs": [],
   "source": [
    "dataset = pd.read_csv('./avila/avila-tr.txt', header = None)\n"
   ]
  },
  {
   "cell_type": "markdown",
   "metadata": {},
   "source": [
    "# Percebendo o _outlier_ na coluna 1"
   ]
  },
  {
   "cell_type": "code",
   "execution_count": 6,
   "metadata": {},
   "outputs": [],
   "source": [
    "a = dataset.loc[dataset[1] == 386]"
   ]
  },
  {
   "cell_type": "code",
   "execution_count": 7,
   "metadata": {
    "scrolled": true
   },
   "outputs": [
    {
     "data": {
      "text/html": [
       "<div>\n",
       "<style scoped>\n",
       "    .dataframe tbody tr th:only-of-type {\n",
       "        vertical-align: middle;\n",
       "    }\n",
       "\n",
       "    .dataframe tbody tr th {\n",
       "        vertical-align: top;\n",
       "    }\n",
       "\n",
       "    .dataframe thead th {\n",
       "        text-align: right;\n",
       "    }\n",
       "</style>\n",
       "<table border=\"1\" class=\"dataframe\">\n",
       "  <thead>\n",
       "    <tr style=\"text-align: right;\">\n",
       "      <th></th>\n",
       "      <th>0</th>\n",
       "      <th>1</th>\n",
       "      <th>2</th>\n",
       "      <th>3</th>\n",
       "      <th>4</th>\n",
       "      <th>5</th>\n",
       "      <th>6</th>\n",
       "      <th>7</th>\n",
       "      <th>8</th>\n",
       "      <th>9</th>\n",
       "      <th>10</th>\n",
       "    </tr>\n",
       "  </thead>\n",
       "  <tbody>\n",
       "    <tr>\n",
       "      <th>6619</th>\n",
       "      <td>0.0</td>\n",
       "      <td>386.0</td>\n",
       "      <td>50.0</td>\n",
       "      <td>0.168104</td>\n",
       "      <td>0.0</td>\n",
       "      <td>53.0</td>\n",
       "      <td>83.0</td>\n",
       "      <td>0.275032</td>\n",
       "      <td>44.0</td>\n",
       "      <td>0.63802</td>\n",
       "      <td>A</td>\n",
       "    </tr>\n",
       "  </tbody>\n",
       "</table>\n",
       "</div>"
      ],
      "text/plain": [
       "       0      1     2         3    4     5     6         7     8        9  10\n",
       "6619  0.0  386.0  50.0  0.168104  0.0  53.0  83.0  0.275032  44.0  0.63802  A"
      ]
     },
     "execution_count": 7,
     "metadata": {},
     "output_type": "execute_result"
    }
   ],
   "source": [
    "a"
   ]
  },
  {
   "cell_type": "code",
   "execution_count": 8,
   "metadata": {},
   "outputs": [],
   "source": [
    "aux = np.array(dataset[1])\n",
    "dataset[1] = dataset[1].replace(386, np.nanmedian(aux))"
   ]
  },
  {
   "cell_type": "code",
   "execution_count": 9,
   "metadata": {},
   "outputs": [
    {
     "data": {
      "text/html": [
       "<div>\n",
       "<style scoped>\n",
       "    .dataframe tbody tr th:only-of-type {\n",
       "        vertical-align: middle;\n",
       "    }\n",
       "\n",
       "    .dataframe tbody tr th {\n",
       "        vertical-align: top;\n",
       "    }\n",
       "\n",
       "    .dataframe thead th {\n",
       "        text-align: right;\n",
       "    }\n",
       "</style>\n",
       "<table border=\"1\" class=\"dataframe\">\n",
       "  <thead>\n",
       "    <tr style=\"text-align: right;\">\n",
       "      <th></th>\n",
       "      <th>0</th>\n",
       "      <th>1</th>\n",
       "      <th>2</th>\n",
       "      <th>3</th>\n",
       "      <th>4</th>\n",
       "      <th>5</th>\n",
       "      <th>6</th>\n",
       "      <th>7</th>\n",
       "      <th>8</th>\n",
       "      <th>9</th>\n",
       "      <th>10</th>\n",
       "    </tr>\n",
       "  </thead>\n",
       "  <tbody>\n",
       "  </tbody>\n",
       "</table>\n",
       "</div>"
      ],
      "text/plain": [
       "Empty DataFrame\n",
       "Columns: [0, 1, 2, 3, 4, 5, 6, 7, 8, 9, 10]\n",
       "Index: []"
      ]
     },
     "execution_count": 9,
     "metadata": {},
     "output_type": "execute_result"
    }
   ],
   "source": [
    "dataset.loc[dataset[1] == 386]"
   ]
  },
  {
   "cell_type": "code",
   "execution_count": 10,
   "metadata": {},
   "outputs": [
    {
     "data": {
      "text/plain": [
       "<matplotlib.axes._subplots.AxesSubplot at 0x7fd4767be3c8>"
      ]
     },
     "execution_count": 10,
     "metadata": {},
     "output_type": "execute_result"
    },
    {
     "data": {
      "image/png": "[encoded data removed]",
      "text/plain": [
       "<Figure size 1224x753.231 with 1 Axes>"
      ]
     },
     "metadata": {
      "needs_background": "light"
     },
     "output_type": "display_data"
    }
   ],
   "source": [
    "# Aumentar o tamanho do plot na proporção 8/13\n",
    "x_size = 17\n",
    "y_size = x_size * (8/13)\n",
    "plt.figure(figsize=(x_size, y_size))\n",
    "# Aumentar o tamanho do plot na proporção 8/13\n",
    "dataset.boxplot()"
   ]
  },
  {
   "cell_type": "code",
   "execution_count": 11,
   "metadata": {},
   "outputs": [
    {
     "data": {
      "text/html": [
       "<div>\n",
       "<style scoped>\n",
       "    .dataframe tbody tr th:only-of-type {\n",
       "        vertical-align: middle;\n",
       "    }\n",
       "\n",
       "    .dataframe tbody tr th {\n",
       "        vertical-align: top;\n",
       "    }\n",
       "\n",
       "    .dataframe thead th {\n",
       "        text-align: right;\n",
       "    }\n",
       "</style>\n",
       "<table border=\"1\" class=\"dataframe\">\n",
       "  <thead>\n",
       "    <tr style=\"text-align: right;\">\n",
       "      <th></th>\n",
       "      <th>0</th>\n",
       "      <th>1</th>\n",
       "      <th>2</th>\n",
       "      <th>3</th>\n",
       "      <th>4</th>\n",
       "      <th>5</th>\n",
       "      <th>6</th>\n",
       "      <th>7</th>\n",
       "      <th>8</th>\n",
       "      <th>9</th>\n",
       "    </tr>\n",
       "  </thead>\n",
       "  <tbody>\n",
       "    <tr>\n",
       "      <th>count</th>\n",
       "      <td>10430.000000</td>\n",
       "      <td>10430.000000</td>\n",
       "      <td>10430.000000</td>\n",
       "      <td>10430.000000</td>\n",
       "      <td>10430.000000</td>\n",
       "      <td>10430.000000</td>\n",
       "      <td>10430.000000</td>\n",
       "      <td>10430.000000</td>\n",
       "      <td>10430.000000</td>\n",
       "      <td>10430.000000</td>\n",
       "    </tr>\n",
       "    <tr>\n",
       "      <th>mean</th>\n",
       "      <td>0.000852</td>\n",
       "      <td>-0.003403</td>\n",
       "      <td>-0.000525</td>\n",
       "      <td>-0.002387</td>\n",
       "      <td>0.006370</td>\n",
       "      <td>0.013973</td>\n",
       "      <td>0.005605</td>\n",
       "      <td>0.010323</td>\n",
       "      <td>0.012914</td>\n",
       "      <td>0.000818</td>\n",
       "    </tr>\n",
       "    <tr>\n",
       "      <th>std</th>\n",
       "      <td>0.991431</td>\n",
       "      <td>1.042894</td>\n",
       "      <td>1.120202</td>\n",
       "      <td>1.008527</td>\n",
       "      <td>0.992053</td>\n",
       "      <td>1.126245</td>\n",
       "      <td>1.313754</td>\n",
       "      <td>1.003507</td>\n",
       "      <td>1.087665</td>\n",
       "      <td>1.007094</td>\n",
       "    </tr>\n",
       "    <tr>\n",
       "      <th>min</th>\n",
       "      <td>-3.498799</td>\n",
       "      <td>-2.426761</td>\n",
       "      <td>-3.210528</td>\n",
       "      <td>-5.440122</td>\n",
       "      <td>-4.922215</td>\n",
       "      <td>-7.450257</td>\n",
       "      <td>-11.935457</td>\n",
       "      <td>-4.247781</td>\n",
       "      <td>-5.486218</td>\n",
       "      <td>-6.719324</td>\n",
       "    </tr>\n",
       "    <tr>\n",
       "      <th>25%</th>\n",
       "      <td>-0.128929</td>\n",
       "      <td>-0.259834</td>\n",
       "      <td>0.064919</td>\n",
       "      <td>-0.528002</td>\n",
       "      <td>0.172340</td>\n",
       "      <td>-0.598658</td>\n",
       "      <td>-0.044076</td>\n",
       "      <td>-0.541992</td>\n",
       "      <td>-0.372457</td>\n",
       "      <td>-0.516097</td>\n",
       "    </tr>\n",
       "    <tr>\n",
       "      <th>50%</th>\n",
       "      <td>0.043885</td>\n",
       "      <td>-0.055704</td>\n",
       "      <td>0.217845</td>\n",
       "      <td>0.095763</td>\n",
       "      <td>0.261718</td>\n",
       "      <td>-0.058835</td>\n",
       "      <td>0.220177</td>\n",
       "      <td>0.111803</td>\n",
       "      <td>0.064084</td>\n",
       "      <td>-0.034513</td>\n",
       "    </tr>\n",
       "    <tr>\n",
       "      <th>75%</th>\n",
       "      <td>0.204355</td>\n",
       "      <td>0.203385</td>\n",
       "      <td>0.352988</td>\n",
       "      <td>0.658210</td>\n",
       "      <td>0.261718</td>\n",
       "      <td>0.564038</td>\n",
       "      <td>0.446679</td>\n",
       "      <td>0.654944</td>\n",
       "      <td>0.500624</td>\n",
       "      <td>0.530855</td>\n",
       "    </tr>\n",
       "    <tr>\n",
       "      <th>max</th>\n",
       "      <td>11.819916</td>\n",
       "      <td>43.133656</td>\n",
       "      <td>50.000000</td>\n",
       "      <td>3.987152</td>\n",
       "      <td>1.066121</td>\n",
       "      <td>53.000000</td>\n",
       "      <td>83.000000</td>\n",
       "      <td>13.173081</td>\n",
       "      <td>44.000000</td>\n",
       "      <td>4.671232</td>\n",
       "    </tr>\n",
       "  </tbody>\n",
       "</table>\n",
       "</div>"
      ],
      "text/plain": [
       "                  0             1             2             3             4  \\\n",
       "count  10430.000000  10430.000000  10430.000000  10430.000000  10430.000000   \n",
       "mean       0.000852     -0.003403     -0.000525     -0.002387      0.006370   \n",
       "std        0.991431      1.042894      1.120202      1.008527      0.992053   \n",
       "min       -3.498799     -2.426761     -3.210528     -5.440122     -4.922215   \n",
       "25%       -0.128929     -0.259834      0.064919     -0.528002      0.172340   \n",
       "50%        0.043885     -0.055704      0.217845      0.095763      0.261718   \n",
       "75%        0.204355      0.203385      0.352988      0.658210      0.261718   \n",
       "max       11.819916     43.133656     50.000000      3.987152      1.066121   \n",
       "\n",
       "                  5             6             7             8             9  \n",
       "count  10430.000000  10430.000000  10430.000000  10430.000000  10430.000000  \n",
       "mean       0.013973      0.005605      0.010323      0.012914      0.000818  \n",
       "std        1.126245      1.313754      1.003507      1.087665      1.007094  \n",
       "min       -7.450257    -11.935457     -4.247781     -5.486218     -6.719324  \n",
       "25%       -0.598658     -0.044076     -0.541992     -0.372457     -0.516097  \n",
       "50%       -0.058835      0.220177      0.111803      0.064084     -0.034513  \n",
       "75%        0.564038      0.446679      0.654944      0.500624      0.530855  \n",
       "max       53.000000     83.000000     13.173081     44.000000      4.671232  "
      ]
     },
     "execution_count": 11,
     "metadata": {},
     "output_type": "execute_result"
    }
   ],
   "source": [
    "dataset.describe()"
   ]
  },
  {
   "cell_type": "code",
   "execution_count": 12,
   "metadata": {},
   "outputs": [],
   "source": [
    "b = np.array(dataset[6])"
   ]
  },
  {
   "cell_type": "code",
   "execution_count": 13,
   "metadata": {},
   "outputs": [
    {
     "data": {
      "text/plain": [
       "array([ 0.371178,  1.46594 , -0.081827, ...,  0.295677,  0.069175,\n",
       "        0.786433])"
      ]
     },
     "execution_count": 13,
     "metadata": {},
     "output_type": "execute_result"
    }
   ],
   "source": [
    "b"
   ]
  },
  {
   "cell_type": "code",
   "execution_count": 14,
   "metadata": {},
   "outputs": [
    {
     "data": {
      "text/plain": [
       "83.0"
      ]
     },
     "execution_count": 14,
     "metadata": {},
     "output_type": "execute_result"
    }
   ],
   "source": [
    "np.max(b)"
   ]
  },
  {
   "cell_type": "code",
   "execution_count": 15,
   "metadata": {},
   "outputs": [],
   "source": [
    "for i in [1, 2, 5, 6, 7, 8]:\n",
    "    aux = np.array(dataset[i])\n",
    "    dataset[i] = dataset[i].replace(np.max(aux), np.nanmedian(aux))"
   ]
  },
  {
   "cell_type": "code",
   "execution_count": 16,
   "metadata": {},
   "outputs": [
    {
     "data": {
      "text/html": [
       "<div>\n",
       "<style scoped>\n",
       "    .dataframe tbody tr th:only-of-type {\n",
       "        vertical-align: middle;\n",
       "    }\n",
       "\n",
       "    .dataframe tbody tr th {\n",
       "        vertical-align: top;\n",
       "    }\n",
       "\n",
       "    .dataframe thead th {\n",
       "        text-align: right;\n",
       "    }\n",
       "</style>\n",
       "<table border=\"1\" class=\"dataframe\">\n",
       "  <thead>\n",
       "    <tr style=\"text-align: right;\">\n",
       "      <th></th>\n",
       "      <th>0</th>\n",
       "      <th>1</th>\n",
       "      <th>2</th>\n",
       "      <th>3</th>\n",
       "      <th>4</th>\n",
       "      <th>5</th>\n",
       "      <th>6</th>\n",
       "      <th>7</th>\n",
       "      <th>8</th>\n",
       "      <th>9</th>\n",
       "    </tr>\n",
       "  </thead>\n",
       "  <tbody>\n",
       "    <tr>\n",
       "      <th>count</th>\n",
       "      <td>10430.000000</td>\n",
       "      <td>10430.000000</td>\n",
       "      <td>10430.000000</td>\n",
       "      <td>10430.000000</td>\n",
       "      <td>10430.000000</td>\n",
       "      <td>10430.000000</td>\n",
       "      <td>10430.000000</td>\n",
       "      <td>10430.000000</td>\n",
       "      <td>10430.000000</td>\n",
       "      <td>10430.000000</td>\n",
       "    </tr>\n",
       "    <tr>\n",
       "      <th>mean</th>\n",
       "      <td>0.000852</td>\n",
       "      <td>-0.007544</td>\n",
       "      <td>-0.005298</td>\n",
       "      <td>-0.002387</td>\n",
       "      <td>0.006370</td>\n",
       "      <td>0.008886</td>\n",
       "      <td>-0.002331</td>\n",
       "      <td>0.009070</td>\n",
       "      <td>0.008702</td>\n",
       "      <td>0.000818</td>\n",
       "    </tr>\n",
       "    <tr>\n",
       "      <th>std</th>\n",
       "      <td>0.991431</td>\n",
       "      <td>0.953512</td>\n",
       "      <td>1.007528</td>\n",
       "      <td>1.008527</td>\n",
       "      <td>0.992053</td>\n",
       "      <td>0.999600</td>\n",
       "      <td>1.032191</td>\n",
       "      <td>0.995195</td>\n",
       "      <td>0.998735</td>\n",
       "      <td>1.007094</td>\n",
       "    </tr>\n",
       "    <tr>\n",
       "      <th>min</th>\n",
       "      <td>-3.498799</td>\n",
       "      <td>-2.426761</td>\n",
       "      <td>-3.210528</td>\n",
       "      <td>-5.440122</td>\n",
       "      <td>-4.922215</td>\n",
       "      <td>-7.450257</td>\n",
       "      <td>-11.935457</td>\n",
       "      <td>-4.247781</td>\n",
       "      <td>-5.486218</td>\n",
       "      <td>-6.719324</td>\n",
       "    </tr>\n",
       "    <tr>\n",
       "      <th>25%</th>\n",
       "      <td>-0.128929</td>\n",
       "      <td>-0.259834</td>\n",
       "      <td>0.064919</td>\n",
       "      <td>-0.528002</td>\n",
       "      <td>0.172340</td>\n",
       "      <td>-0.598658</td>\n",
       "      <td>-0.044076</td>\n",
       "      <td>-0.541992</td>\n",
       "      <td>-0.372457</td>\n",
       "      <td>-0.516097</td>\n",
       "    </tr>\n",
       "    <tr>\n",
       "      <th>50%</th>\n",
       "      <td>0.043885</td>\n",
       "      <td>-0.055704</td>\n",
       "      <td>0.217845</td>\n",
       "      <td>0.095763</td>\n",
       "      <td>0.261718</td>\n",
       "      <td>-0.058835</td>\n",
       "      <td>0.220177</td>\n",
       "      <td>0.111778</td>\n",
       "      <td>0.064084</td>\n",
       "      <td>-0.034513</td>\n",
       "    </tr>\n",
       "    <tr>\n",
       "      <th>75%</th>\n",
       "      <td>0.204355</td>\n",
       "      <td>0.203385</td>\n",
       "      <td>0.352988</td>\n",
       "      <td>0.658210</td>\n",
       "      <td>0.261718</td>\n",
       "      <td>0.564038</td>\n",
       "      <td>0.446679</td>\n",
       "      <td>0.654886</td>\n",
       "      <td>0.500624</td>\n",
       "      <td>0.530855</td>\n",
       "    </tr>\n",
       "    <tr>\n",
       "      <th>max</th>\n",
       "      <td>11.819916</td>\n",
       "      <td>19.470188</td>\n",
       "      <td>7.458681</td>\n",
       "      <td>3.987152</td>\n",
       "      <td>1.066121</td>\n",
       "      <td>5.505495</td>\n",
       "      <td>10.714792</td>\n",
       "      <td>4.510897</td>\n",
       "      <td>3.244594</td>\n",
       "      <td>4.671232</td>\n",
       "    </tr>\n",
       "  </tbody>\n",
       "</table>\n",
       "</div>"
      ],
      "text/plain": [
       "                  0             1             2             3             4  \\\n",
       "count  10430.000000  10430.000000  10430.000000  10430.000000  10430.000000   \n",
       "mean       0.000852     -0.007544     -0.005298     -0.002387      0.006370   \n",
       "std        0.991431      0.953512      1.007528      1.008527      0.992053   \n",
       "min       -3.498799     -2.426761     -3.210528     -5.440122     -4.922215   \n",
       "25%       -0.128929     -0.259834      0.064919     -0.528002      0.172340   \n",
       "50%        0.043885     -0.055704      0.217845      0.095763      0.261718   \n",
       "75%        0.204355      0.203385      0.352988      0.658210      0.261718   \n",
       "max       11.819916     19.470188      7.458681      3.987152      1.066121   \n",
       "\n",
       "                  5             6             7             8             9  \n",
       "count  10430.000000  10430.000000  10430.000000  10430.000000  10430.000000  \n",
       "mean       0.008886     -0.002331      0.009070      0.008702      0.000818  \n",
       "std        0.999600      1.032191      0.995195      0.998735      1.007094  \n",
       "min       -7.450257    -11.935457     -4.247781     -5.486218     -6.719324  \n",
       "25%       -0.598658     -0.044076     -0.541992     -0.372457     -0.516097  \n",
       "50%       -0.058835      0.220177      0.111778      0.064084     -0.034513  \n",
       "75%        0.564038      0.446679      0.654886      0.500624      0.530855  \n",
       "max        5.505495     10.714792      4.510897      3.244594      4.671232  "
      ]
     },
     "execution_count": 16,
     "metadata": {},
     "output_type": "execute_result"
    }
   ],
   "source": [
    "dataset.describe()"
   ]
  },
  {
   "cell_type": "code",
   "execution_count": 17,
   "metadata": {},
   "outputs": [
    {
     "data": {
      "text/plain": [
       "<matplotlib.axes._subplots.AxesSubplot at 0x7fd4742ccc18>"
      ]
     },
     "execution_count": 17,
     "metadata": {},
     "output_type": "execute_result"
    },
    {
     "data": {
      "image/png": "[encoded data removed]",
      "text/plain": [
       "<Figure size 1224x753.231 with 1 Axes>"
      ]
     },
     "metadata": {
      "needs_background": "light"
     },
     "output_type": "display_data"
    }
   ],
   "source": [
    "# Aumentar o tamanho do plot na proporção 8/13\n",
    "x_size = 17\n",
    "y_size = x_size * (8/13)\n",
    "plt.figure(figsize=(x_size, y_size))\n",
    "# Aumentar o tamanho do plot na proporção 8/13\n",
    "dataset.boxplot()"
   ]
  },
  {
   "cell_type": "markdown",
   "metadata": {},
   "source": [
    "# Mudando os _labels_ das classes"
   ]
  },
  {
   "cell_type": "code",
   "execution_count": 59,
   "metadata": {
    "scrolled": true
   },
   "outputs": [
    {
     "data": {
      "text/plain": [
       "{'A': 0,\n",
       " 'B': 1,\n",
       " 'C': 2,\n",
       " 'D': 3,\n",
       " 'E': 4,\n",
       " 'F': 5,\n",
       " 'G': 6,\n",
       " 'H': 7,\n",
       " 'I': 8,\n",
       " 'W': 9,\n",
       " 'X': 10,\n",
       " 'Y': 11}"
      ]
     },
     "execution_count": 59,
     "metadata": {},
     "output_type": "execute_result"
    }
   ],
   "source": [
    "classes_number = [i for i in range(12)]\n",
    "classes_charcteres = [\"A\",\"B\",\"C\",\"D\",\"E\",\"F\",\"G\",\"H\",\"I\",\"W\",\"X\",\"Y\"]\n",
    "dictionary_classes = dict(zip(classes_charcteres, classes_number))\n",
    "dictionary_classes"
   ]
  },
  {
   "cell_type": "code",
   "execution_count": 60,
   "metadata": {
    "scrolled": false
   },
   "outputs": [],
   "source": [
    "for key in dictionary_classes:\n",
    "    #print(key, dictionary_classes[key])\n",
    "    dataset[10] = dataset[10].replace(key, dictionary_classes[key])"
   ]
  },
  {
   "cell_type": "code",
   "execution_count": 20,
   "metadata": {},
   "outputs": [],
   "source": [
    "X = dataset.iloc[:, 0:10].values\n",
    "y = dataset.iloc[:, 10].values"
   ]
  },
  {
   "cell_type": "code",
   "execution_count": 21,
   "metadata": {
    "scrolled": false
   },
   "outputs": [
    {
     "data": {
      "text/plain": [
       "array([[ 2.660740e-01, -1.656200e-01,  3.209800e-01, ...,  9.298230e-01,\n",
       "         2.511730e-01,  1.593450e-01],\n",
       "       [ 1.302920e-01,  8.707360e-01, -3.210528e+00, ...,  6.362030e-01,\n",
       "         2.823540e-01,  5.155870e-01],\n",
       "       [-1.165850e-01,  6.991500e-02,  6.847600e-02, ..., -8.882360e-01,\n",
       "        -1.230050e-01,  5.829390e-01],\n",
       "       ...,\n",
       "       [ 2.290430e-01, -7.450000e-04,  1.716110e-01, ..., -1.088486e+00,\n",
       "        -5.907270e-01,  5.801420e-01],\n",
       "       [-3.017430e-01,  3.525580e-01,  2.889730e-01, ...,  5.027610e-01,\n",
       "         6.253500e-01,  7.189690e-01],\n",
       "       [-1.042410e-01, -1.037102e+00,  3.885520e-01, ..., -1.337547e+00,\n",
       "         9.995280e-01, -5.510630e-01]])"
      ]
     },
     "execution_count": 21,
     "metadata": {},
     "output_type": "execute_result"
    }
   ],
   "source": [
    "X"
   ]
  },
  {
   "cell_type": "code",
   "execution_count": 22,
   "metadata": {},
   "outputs": [
    {
     "data": {
      "text/plain": [
       "array([ 0,  0,  0, ...,  0,  4, 10])"
      ]
     },
     "execution_count": 22,
     "metadata": {},
     "output_type": "execute_result"
    }
   ],
   "source": [
    "y"
   ]
  },
  {
   "cell_type": "code",
   "execution_count": 23,
   "metadata": {
    "scrolled": false
   },
   "outputs": [
    {
     "data": {
      "text/html": [
       "<div>\n",
       "<style scoped>\n",
       "    .dataframe tbody tr th:only-of-type {\n",
       "        vertical-align: middle;\n",
       "    }\n",
       "\n",
       "    .dataframe tbody tr th {\n",
       "        vertical-align: top;\n",
       "    }\n",
       "\n",
       "    .dataframe thead th {\n",
       "        text-align: right;\n",
       "    }\n",
       "</style>\n",
       "<table border=\"1\" class=\"dataframe\">\n",
       "  <thead>\n",
       "    <tr style=\"text-align: right;\">\n",
       "      <th></th>\n",
       "      <th>0</th>\n",
       "      <th>1</th>\n",
       "      <th>2</th>\n",
       "      <th>3</th>\n",
       "      <th>4</th>\n",
       "      <th>5</th>\n",
       "      <th>6</th>\n",
       "      <th>7</th>\n",
       "      <th>8</th>\n",
       "      <th>9</th>\n",
       "      <th>10</th>\n",
       "    </tr>\n",
       "  </thead>\n",
       "  <tbody>\n",
       "    <tr>\n",
       "      <th>count</th>\n",
       "      <td>10430.000000</td>\n",
       "      <td>10430.000000</td>\n",
       "      <td>10430.000000</td>\n",
       "      <td>10430.000000</td>\n",
       "      <td>10430.000000</td>\n",
       "      <td>10430.000000</td>\n",
       "      <td>10430.000000</td>\n",
       "      <td>10430.000000</td>\n",
       "      <td>10430.000000</td>\n",
       "      <td>10430.000000</td>\n",
       "      <td>10430.000000</td>\n",
       "    </tr>\n",
       "    <tr>\n",
       "      <th>mean</th>\n",
       "      <td>0.000852</td>\n",
       "      <td>-0.007544</td>\n",
       "      <td>-0.005298</td>\n",
       "      <td>-0.002387</td>\n",
       "      <td>0.006370</td>\n",
       "      <td>0.008886</td>\n",
       "      <td>-0.002331</td>\n",
       "      <td>0.009070</td>\n",
       "      <td>0.008702</td>\n",
       "      <td>0.000818</td>\n",
       "      <td>3.542761</td>\n",
       "    </tr>\n",
       "    <tr>\n",
       "      <th>std</th>\n",
       "      <td>0.991431</td>\n",
       "      <td>0.953512</td>\n",
       "      <td>1.007528</td>\n",
       "      <td>1.008527</td>\n",
       "      <td>0.992053</td>\n",
       "      <td>0.999600</td>\n",
       "      <td>1.032191</td>\n",
       "      <td>0.995195</td>\n",
       "      <td>0.998735</td>\n",
       "      <td>1.007094</td>\n",
       "      <td>3.418046</td>\n",
       "    </tr>\n",
       "    <tr>\n",
       "      <th>min</th>\n",
       "      <td>-3.498799</td>\n",
       "      <td>-2.426761</td>\n",
       "      <td>-3.210528</td>\n",
       "      <td>-5.440122</td>\n",
       "      <td>-4.922215</td>\n",
       "      <td>-7.450257</td>\n",
       "      <td>-11.935457</td>\n",
       "      <td>-4.247781</td>\n",
       "      <td>-5.486218</td>\n",
       "      <td>-6.719324</td>\n",
       "      <td>0.000000</td>\n",
       "    </tr>\n",
       "    <tr>\n",
       "      <th>25%</th>\n",
       "      <td>-0.128929</td>\n",
       "      <td>-0.259834</td>\n",
       "      <td>0.064919</td>\n",
       "      <td>-0.528002</td>\n",
       "      <td>0.172340</td>\n",
       "      <td>-0.598658</td>\n",
       "      <td>-0.044076</td>\n",
       "      <td>-0.541992</td>\n",
       "      <td>-0.372457</td>\n",
       "      <td>-0.516097</td>\n",
       "      <td>0.000000</td>\n",
       "    </tr>\n",
       "    <tr>\n",
       "      <th>50%</th>\n",
       "      <td>0.043885</td>\n",
       "      <td>-0.055704</td>\n",
       "      <td>0.217845</td>\n",
       "      <td>0.095763</td>\n",
       "      <td>0.261718</td>\n",
       "      <td>-0.058835</td>\n",
       "      <td>0.220177</td>\n",
       "      <td>0.111778</td>\n",
       "      <td>0.064084</td>\n",
       "      <td>-0.034513</td>\n",
       "      <td>4.000000</td>\n",
       "    </tr>\n",
       "    <tr>\n",
       "      <th>75%</th>\n",
       "      <td>0.204355</td>\n",
       "      <td>0.203385</td>\n",
       "      <td>0.352988</td>\n",
       "      <td>0.658210</td>\n",
       "      <td>0.261718</td>\n",
       "      <td>0.564038</td>\n",
       "      <td>0.446679</td>\n",
       "      <td>0.654886</td>\n",
       "      <td>0.500624</td>\n",
       "      <td>0.530855</td>\n",
       "      <td>6.000000</td>\n",
       "    </tr>\n",
       "    <tr>\n",
       "      <th>max</th>\n",
       "      <td>11.819916</td>\n",
       "      <td>19.470188</td>\n",
       "      <td>7.458681</td>\n",
       "      <td>3.987152</td>\n",
       "      <td>1.066121</td>\n",
       "      <td>5.505495</td>\n",
       "      <td>10.714792</td>\n",
       "      <td>4.510897</td>\n",
       "      <td>3.244594</td>\n",
       "      <td>4.671232</td>\n",
       "      <td>11.000000</td>\n",
       "    </tr>\n",
       "  </tbody>\n",
       "</table>\n",
       "</div>"
      ],
      "text/plain": [
       "                 0             1             2             3             4   \\\n",
       "count  10430.000000  10430.000000  10430.000000  10430.000000  10430.000000   \n",
       "mean       0.000852     -0.007544     -0.005298     -0.002387      0.006370   \n",
       "std        0.991431      0.953512      1.007528      1.008527      0.992053   \n",
       "min       -3.498799     -2.426761     -3.210528     -5.440122     -4.922215   \n",
       "25%       -0.128929     -0.259834      0.064919     -0.528002      0.172340   \n",
       "50%        0.043885     -0.055704      0.217845      0.095763      0.261718   \n",
       "75%        0.204355      0.203385      0.352988      0.658210      0.261718   \n",
       "max       11.819916     19.470188      7.458681      3.987152      1.066121   \n",
       "\n",
       "                 5             6             7             8             9   \\\n",
       "count  10430.000000  10430.000000  10430.000000  10430.000000  10430.000000   \n",
       "mean       0.008886     -0.002331      0.009070      0.008702      0.000818   \n",
       "std        0.999600      1.032191      0.995195      0.998735      1.007094   \n",
       "min       -7.450257    -11.935457     -4.247781     -5.486218     -6.719324   \n",
       "25%       -0.598658     -0.044076     -0.541992     -0.372457     -0.516097   \n",
       "50%       -0.058835      0.220177      0.111778      0.064084     -0.034513   \n",
       "75%        0.564038      0.446679      0.654886      0.500624      0.530855   \n",
       "max        5.505495     10.714792      4.510897      3.244594      4.671232   \n",
       "\n",
       "                 10  \n",
       "count  10430.000000  \n",
       "mean       3.542761  \n",
       "std        3.418046  \n",
       "min        0.000000  \n",
       "25%        0.000000  \n",
       "50%        4.000000  \n",
       "75%        6.000000  \n",
       "max       11.000000  "
      ]
     },
     "execution_count": 23,
     "metadata": {},
     "output_type": "execute_result"
    }
   ],
   "source": [
    "dataset.describe()"
   ]
  },
  {
   "cell_type": "code",
   "execution_count": 24,
   "metadata": {},
   "outputs": [
    {
     "name": "stdout",
     "output_type": "stream",
     "text": [
      "<class 'pandas.core.frame.DataFrame'>\n",
      "RangeIndex: 10430 entries, 0 to 10429\n",
      "Data columns (total 11 columns):\n",
      "0     10430 non-null float64\n",
      "1     10430 non-null float64\n",
      "2     10430 non-null float64\n",
      "3     10430 non-null float64\n",
      "4     10430 non-null float64\n",
      "5     10430 non-null float64\n",
      "6     10430 non-null float64\n",
      "7     10430 non-null float64\n",
      "8     10430 non-null float64\n",
      "9     10430 non-null float64\n",
      "10    10430 non-null int64\n",
      "dtypes: float64(10), int64(1)\n",
      "memory usage: 896.4 KB\n"
     ]
    }
   ],
   "source": [
    "dataset.info()"
   ]
  },
  {
   "cell_type": "code",
   "execution_count": 25,
   "metadata": {
    "scrolled": false
   },
   "outputs": [
    {
     "data": {
      "text/plain": [
       "<matplotlib.axes._subplots.AxesSubplot at 0x7fd474588b00>"
      ]
     },
     "execution_count": 25,
     "metadata": {},
     "output_type": "execute_result"
    },
    {
     "data": {
      "image/png": "[encoded data removed]",
      "text/plain": [
       "<Figure size 1224x753.231 with 1 Axes>"
      ]
     },
     "metadata": {
      "needs_background": "light"
     },
     "output_type": "display_data"
    }
   ],
   "source": [
    "# Aumentar o tamanho do plot na proporção 8/13\n",
    "x_size = 17\n",
    "y_size = x_size * (8/13)\n",
    "plt.figure(figsize=(x_size, y_size))\n",
    "# Aumentar o tamanho do plot na proporção 8/13\n",
    "\n",
    "dataset.boxplot()"
   ]
  },
  {
   "cell_type": "markdown",
   "metadata": {},
   "source": [
    "# One Hot Encoding"
   ]
  },
  {
   "cell_type": "code",
   "execution_count": 26,
   "metadata": {},
   "outputs": [
    {
     "name": "stdout",
     "output_type": "stream",
     "text": [
      "Values:  [ 0  0  0 ...  0  4 10] (10430,)\n",
      "integer_encoded: [ 0  0  0 ...  0  4 10] (10430,)\n",
      "onehot_encoded: [[1. 0. 0. ... 0. 0. 0.]\n",
      " [1. 0. 0. ... 0. 0. 0.]\n",
      " [1. 0. 0. ... 0. 0. 0.]\n",
      " ...\n",
      " [1. 0. 0. ... 0. 0. 0.]\n",
      " [0. 0. 0. ... 0. 0. 0.]\n",
      " [0. 0. 0. ... 0. 1. 0.]] (10430, 12)\n",
      "inverted: [0]\n"
     ]
    },
    {
     "name": "stderr",
     "output_type": "stream",
     "text": [
      "/usr/local/lib/python3.6/dist-packages/sklearn/preprocessing/_encoders.py:363: FutureWarning: The handling of integer data will change in version 0.22. Currently, the categories are determined based on the range [0, max(values)], while in the future they will be determined based on the unique values.\n",
      "If you want the future behaviour and silence this warning, you can specify \"categories='auto'\".\n",
      "In case you used a LabelEncoder before this OneHotEncoder to convert the categories to integers, then you can now use the OneHotEncoder directly.\n",
      "  warnings.warn(msg, FutureWarning)\n"
     ]
    }
   ],
   "source": [
    "#from numpy import array\n",
    "#from numpy import argmax\n",
    "from sklearn.preprocessing import LabelEncoder\n",
    "from sklearn.preprocessing import OneHotEncoder\n",
    "# define example\n",
    "data = np.array(y)\n",
    "values = np.array(data)\n",
    "print(\"Values: \", values, values.shape)\n",
    "# integer encode\n",
    "label_encoder = LabelEncoder()\n",
    "integer_encoded = label_encoder.fit_transform(values)\n",
    "print(\"integer_encoded:\", integer_encoded, integer_encoded.shape)\n",
    "# binary encode\n",
    "onehot_encoder = OneHotEncoder(sparse=False)\n",
    "integer_encoded = integer_encoded.reshape(len(integer_encoded), 1)\n",
    "onehot_encoded = onehot_encoder.fit_transform(integer_encoded)\n",
    "print(\"onehot_encoded:\", onehot_encoded,  onehot_encoded.shape)\n",
    "# invert first example\n",
    "inverted = label_encoder.inverse_transform([np.argmax(onehot_encoded[0, :])])\n",
    "print(\"inverted:\", inverted)"
   ]
  },
  {
   "cell_type": "code",
   "execution_count": 27,
   "metadata": {},
   "outputs": [
    {
     "name": "stdout",
     "output_type": "stream",
     "text": [
      "[0. 0. 0. 0. 0. 1. 0. 0. 0. 0. 0. 0.] 5\n",
      "[0. 0. 0. 1. 0. 0. 0. 0. 0. 0. 0. 0.] 3\n",
      "[1. 0. 0. 0. 0. 0. 0. 0. 0. 0. 0. 0.] 0\n"
     ]
    }
   ],
   "source": [
    "print(onehot_encoded[4], values[4])\n",
    "print(onehot_encoded[43], values[43])\n",
    "print(onehot_encoded[440], values[440])"
   ]
  },
  {
   "cell_type": "code",
   "execution_count": null,
   "metadata": {},
   "outputs": [],
   "source": []
  },
  {
   "cell_type": "code",
   "execution_count": null,
   "metadata": {},
   "outputs": [],
   "source": []
  },
  {
   "cell_type": "markdown",
   "metadata": {},
   "source": [
    "# Split Train Test"
   ]
  },
  {
   "cell_type": "code",
   "execution_count": 28,
   "metadata": {},
   "outputs": [],
   "source": [
    "# Splitting the dataset into the Training set and Test set\n",
    "\n",
    "from sklearn.model_selection import train_test_split\n",
    "X_train, X_test, y_train, y_test = train_test_split(X, onehot_encoded, test_size = 0.2)"
   ]
  },
  {
   "cell_type": "code",
   "execution_count": 29,
   "metadata": {},
   "outputs": [
    {
     "data": {
      "text/plain": [
       "(array([[ 0.25373 ,  0.219088,  0.14316 , ...,  0.70505 ,  0.282354,\n",
       "         -0.058985],\n",
       "        [ 0.043885,  0.030659,  0.537921, ..., -2.868103, -2.399252,\n",
       "         -0.236292],\n",
       "        [ 0.846235,  0.014957, -0.052442, ...,  0.823213, -0.060642,\n",
       "          0.345332],\n",
       "        ...,\n",
       "        [ 0.401857, -0.267686,  0.299642, ..., -0.262885, -0.216549,\n",
       "         -1.034233],\n",
       "        [ 0.080916, -0.291239,  0.356544, ...,  0.137538,  0.064084,\n",
       "          0.160925],\n",
       "        [ 0.290762, -0.267686,  0.324537, ..., -1.683045, -1.245538,\n",
       "         -0.878131]]), (2086, 10))"
      ]
     },
     "execution_count": 29,
     "metadata": {},
     "output_type": "execute_result"
    }
   ],
   "source": [
    "X_test, X_test.shape"
   ]
  },
  {
   "cell_type": "code",
   "execution_count": 30,
   "metadata": {},
   "outputs": [
    {
     "data": {
      "text/plain": [
       "(array([[ 0.105604, -0.377602,  0.260522, ..., -0.042171, -0.310094,\n",
       "          0.37582 ],\n",
       "        [ 0.068573, -0.189174, -2.090261, ..., -1.607422, -0.840179,\n",
       "          0.854348],\n",
       "        [ 0.031541, -0.118513,  0.374326, ...,  0.634922,  0.531806,\n",
       "         -0.337808],\n",
       "        ...,\n",
       "        [-0.32643 , -0.652394,  0.384996, ..., -1.693859, -0.684271,\n",
       "         -1.329463],\n",
       "        [-0.215336,  0.360409,  0.096927, ..., -3.734535, -3.740056,\n",
       "         -2.861803],\n",
       "        [-0.314087,  0.164129,  0.200063, ...,  0.397588,  0.843621,\n",
       "         -0.053946]]), (8344, 10))"
      ]
     },
     "execution_count": 30,
     "metadata": {},
     "output_type": "execute_result"
    }
   ],
   "source": [
    "X_train, X_train.shape"
   ]
  },
  {
   "cell_type": "code",
   "execution_count": 31,
   "metadata": {},
   "outputs": [
    {
     "name": "stdout",
     "output_type": "stream",
     "text": [
      "[[0. 0. 0. ... 0. 0. 0.]\n",
      " [0. 0. 0. ... 0. 0. 0.]\n",
      " [1. 0. 0. ... 0. 0. 0.]\n",
      " ...\n",
      " [0. 0. 0. ... 0. 0. 0.]\n",
      " [0. 0. 0. ... 0. 0. 0.]\n",
      " [0. 0. 0. ... 0. 0. 0.]] (8344, 12)\n"
     ]
    }
   ],
   "source": [
    "print(y_train, y_train.shape)"
   ]
  },
  {
   "cell_type": "code",
   "execution_count": 32,
   "metadata": {
    "scrolled": true
   },
   "outputs": [
    {
     "name": "stdout",
     "output_type": "stream",
     "text": [
      "[[1. 0. 0. ... 0. 0. 0.]\n",
      " [0. 0. 0. ... 0. 0. 0.]\n",
      " [1. 0. 0. ... 0. 0. 0.]\n",
      " ...\n",
      " [0. 0. 0. ... 0. 0. 0.]\n",
      " [0. 0. 0. ... 0. 0. 0.]\n",
      " [1. 0. 0. ... 0. 0. 0.]] (2086, 12)\n"
     ]
    }
   ],
   "source": [
    "print(y_test, y_test.shape)"
   ]
  },
  {
   "cell_type": "markdown",
   "metadata": {},
   "source": [
    "# StandardScaler\n"
   ]
  },
  {
   "cell_type": "code",
   "execution_count": 33,
   "metadata": {},
   "outputs": [],
   "source": [
    "# Feature Scaling\n",
    "\n",
    "from sklearn.preprocessing import StandardScaler\n",
    "sc = StandardScaler()\n",
    "X_train = sc.fit_transform(X_train)\n",
    "X_test = sc.transform(X_test)"
   ]
  },
  {
   "cell_type": "code",
   "execution_count": 34,
   "metadata": {
    "scrolled": true
   },
   "outputs": [
    {
     "data": {
      "text/plain": [
       "(array([[ 0.10925355, -0.38996106,  0.26431846, ..., -0.04738328,\n",
       "         -0.31530601,  0.37001638],\n",
       "        [ 0.07136208, -0.18661415, -2.07559156, ..., -1.6133897 ,\n",
       "         -0.84474173,  0.84380651],\n",
       "        [ 0.03346959, -0.11035852,  0.37759609, ...,  0.6300365 ,\n",
       "          0.52556277, -0.33654605],\n",
       "        ...,\n",
       "        [-0.33281938, -0.68650989,  0.38821674, ..., -1.69986842,\n",
       "         -0.6890247 , -1.31838275],\n",
       "        [-0.21914395,  0.40648244,  0.10148013, ..., -3.74152929,\n",
       "         -3.74106677, -2.83555117],\n",
       "        [-0.32018958,  0.19466184,  0.2041391 , ...,  0.39258796,\n",
       "          0.83699584, -0.05549454]]), (8344, 10))"
      ]
     },
     "execution_count": 34,
     "metadata": {},
     "output_type": "execute_result"
    }
   ],
   "source": [
    "X_train, X_train.shape"
   ]
  },
  {
   "cell_type": "code",
   "execution_count": 35,
   "metadata": {},
   "outputs": [
    {
     "data": {
      "image/png": "[encoded data removed]",
      "text/plain": [
       "<Figure size 432x288 with 1 Axes>"
      ]
     },
     "metadata": {
      "needs_background": "light"
     },
     "output_type": "display_data"
    }
   ],
   "source": [
    "plt.boxplot(X_train)\n",
    "plt.show()"
   ]
  },
  {
   "cell_type": "code",
   "execution_count": 36,
   "metadata": {},
   "outputs": [
    {
     "data": {
      "image/png": "[encoded data removed]",
      "text/plain": [
       "<Figure size 432x288 with 1 Axes>"
      ]
     },
     "metadata": {
      "needs_background": "light"
     },
     "output_type": "display_data"
    }
   ],
   "source": [
    "plt.boxplot(X_test)\n",
    "plt.show()"
   ]
  },
  {
   "cell_type": "code",
   "execution_count": 37,
   "metadata": {
    "scrolled": true
   },
   "outputs": [
    {
     "data": {
      "text/plain": [
       "(array([[ 0.26082147,  0.25397226,  0.14749929, ...,  0.70019835,\n",
       "          0.27641632, -0.06048365],\n",
       "        [ 0.04610042,  0.05062427,  0.54043442, ..., -2.87467913,\n",
       "         -2.40190508, -0.23603515],\n",
       "        [ 0.86709419,  0.03367905, -0.047198  , ...,  0.81841838,\n",
       "         -0.06615956,  0.33983024],\n",
       "        ...,\n",
       "        [ 0.41239042, -0.27134239,  0.30325752, ..., -0.2682038 ,\n",
       "         -0.22187559, -1.0260758 ],\n",
       "        [ 0.08399189, -0.29676021,  0.35989634, ...,  0.13241245,\n",
       "          0.05841367,  0.15724904],\n",
       "        [ 0.29871397, -0.27134239,  0.32803738, ..., -1.6890492 ,\n",
       "         -1.24960422, -0.87151935]]), (2086, 10))"
      ]
     },
     "execution_count": 37,
     "metadata": {},
     "output_type": "execute_result"
    }
   ],
   "source": [
    "X_test, X_test.shape"
   ]
  },
  {
   "cell_type": "markdown",
   "metadata": {},
   "source": [
    "import sklearn\n",
    "a = sklearn.preprocessing.normalize(y_train.reshape(1,-1))\n",
    "print(a)\n",
    "print(y_train)"
   ]
  },
  {
   "cell_type": "markdown",
   "metadata": {},
   "source": [
    "y_train = a.reshape(-1,1)"
   ]
  },
  {
   "cell_type": "markdown",
   "metadata": {},
   "source": [
    "# Keras"
   ]
  },
  {
   "cell_type": "code",
   "execution_count": 38,
   "metadata": {},
   "outputs": [
    {
     "ename": "NameError",
     "evalue": "name 'classifier' is not defined",
     "output_type": "error",
     "traceback": [
      "\u001b[0;31m---------------------------------------------------------------------------\u001b[0m",
      "\u001b[0;31mNameError\u001b[0m                                 Traceback (most recent call last)",
      "\u001b[0;32m<ipython-input-38-70e2842f7cc4>\u001b[0m in \u001b[0;36m<module>\u001b[0;34m\u001b[0m\n\u001b[0;32m----> 1\u001b[0;31m \u001b[0;32mdel\u001b[0m\u001b[0;34m(\u001b[0m\u001b[0mclassifier\u001b[0m\u001b[0;34m)\u001b[0m\u001b[0;34m\u001b[0m\u001b[0m\n\u001b[0m",
      "\u001b[0;31mNameError\u001b[0m: name 'classifier' is not defined"
     ]
    }
   ],
   "source": [
    "del(classifier)"
   ]
  },
  {
   "cell_type": "code",
   "execution_count": 39,
   "metadata": {},
   "outputs": [
    {
     "name": "stderr",
     "output_type": "stream",
     "text": [
      "Using TensorFlow backend.\n"
     ]
    }
   ],
   "source": [
    "# Importing the Keras libraries and packages\n",
    "import keras\n",
    "from keras.models import Sequential\n",
    "from keras.layers import Dense, Flatten, Dropout\n",
    "from keras.callbacks import TensorBoard\n",
    "from keras.utils.vis_utils import plot_model\n",
    "import datetime"
   ]
  },
  {
   "cell_type": "code",
   "execution_count": 40,
   "metadata": {},
   "outputs": [],
   "source": [
    "#Initializing Neural Network\n",
    "classifier = Sequential()\n",
    "# Adding the input layer and the first hidden layer\n",
    "classifier.add(Dense(128, activation=\"relu\"))\n",
    "\n",
    "# Prevent Overfitting\n",
    "#classifier.add(Dropout(0.01))\n",
    "\n",
    "# Adding the input layer and the first hidden layer\n",
    "classifier.add(Dense(128, activation=\"relu\"))\n",
    "\n",
    "classifier.add(Dense(128, activation=\"relu\"))\n",
    "\n",
    "# Adding the output layer\n",
    "classifier.add(Dense(12, activation=\"softmax\"))"
   ]
  },
  {
   "cell_type": "code",
   "execution_count": 41,
   "metadata": {},
   "outputs": [],
   "source": [
    "# Compiling Neural Network\n",
    "classifier.compile(optimizer = 'adam',\n",
    "                   loss = 'categorical_crossentropy',\n",
    "                   metrics = ['accuracy', ])"
   ]
  },
  {
   "cell_type": "markdown",
   "metadata": {},
   "source": [
    "plot_model(classifier, to_file='classifier_fig.png', show_shapes=True, show_layer_names=True)"
   ]
  },
  {
   "cell_type": "code",
   "execution_count": 42,
   "metadata": {},
   "outputs": [
    {
     "data": {
      "text/plain": [
       "'logs/2018-10-24_16:45:11.360737'"
      ]
     },
     "execution_count": 42,
     "metadata": {},
     "output_type": "execute_result"
    }
   ],
   "source": [
    "name_logs = \"logs/{}\".format(datetime.datetime.now())\n",
    "name_logs.replace(\" \", \"_\")"
   ]
  },
  {
   "cell_type": "markdown",
   "metadata": {},
   "source": [
    "name_logs = \"logs/{}\".format(time.time())\n",
    "name_logs"
   ]
  },
  {
   "cell_type": "code",
   "execution_count": 43,
   "metadata": {},
   "outputs": [],
   "source": [
    "tbCallBack = TensorBoard(log_dir=name_logs)"
   ]
  },
  {
   "cell_type": "code",
   "execution_count": 44,
   "metadata": {
    "scrolled": true
   },
   "outputs": [
    {
     "data": {
      "text/plain": [
       "((8344, 10), (8344, 12))"
      ]
     },
     "execution_count": 44,
     "metadata": {},
     "output_type": "execute_result"
    }
   ],
   "source": [
    "X_train.shape, y_train.shape"
   ]
  },
  {
   "cell_type": "code",
   "execution_count": 45,
   "metadata": {
    "scrolled": true
   },
   "outputs": [
    {
     "name": "stdout",
     "output_type": "stream",
     "text": [
      "Train on 6675 samples, validate on 1669 samples\n",
      "Epoch 1/10\n",
      "6675/6675 [==============================] - 1s 78us/step - loss: 1.4526 - acc: 0.5260 - val_loss: 1.1176 - val_acc: 0.6345\n",
      "Epoch 2/10\n",
      "6675/6675 [==============================] - 0s 66us/step - loss: 0.9999 - acc: 0.6403 - val_loss: 0.9257 - val_acc: 0.6824\n",
      "Epoch 3/10\n",
      "6675/6675 [==============================] - 1s 155us/step - loss: 0.8607 - acc: 0.6837 - val_loss: 0.8600 - val_acc: 0.6860\n",
      "Epoch 4/10\n",
      "6675/6675 [==============================] - 1s 147us/step - loss: 0.7749 - acc: 0.7085 - val_loss: 0.7785 - val_acc: 0.7190\n",
      "Epoch 5/10\n",
      "6675/6675 [==============================] - 1s 146us/step - loss: 0.7119 - acc: 0.7264 - val_loss: 0.7343 - val_acc: 0.7346\n",
      "Epoch 6/10\n",
      "6675/6675 [==============================] - 1s 146us/step - loss: 0.6635 - acc: 0.7417 - val_loss: 0.7034 - val_acc: 0.7478\n",
      "Epoch 7/10\n",
      "6675/6675 [==============================] - 1s 149us/step - loss: 0.6293 - acc: 0.7569 - val_loss: 0.6634 - val_acc: 0.7555\n",
      "Epoch 8/10\n",
      "6675/6675 [==============================] - 1s 148us/step - loss: 0.5866 - acc: 0.7672 - val_loss: 0.6299 - val_acc: 0.7639\n",
      "Epoch 9/10\n",
      "6675/6675 [==============================] - 1s 143us/step - loss: 0.5596 - acc: 0.7789 - val_loss: 0.6433 - val_acc: 0.7711\n",
      "Epoch 10/10\n",
      "6675/6675 [==============================] - 1s 146us/step - loss: 0.5304 - acc: 0.7886 - val_loss: 0.6169 - val_acc: 0.7693\n"
     ]
    },
    {
     "data": {
      "text/plain": [
       "<keras.callbacks.History at 0x7fd467883278>"
      ]
     },
     "execution_count": 45,
     "metadata": {},
     "output_type": "execute_result"
    }
   ],
   "source": [
    "# Fitting our model \n",
    "classifier.fit(X_train, y_train, epochs=10, validation_split=0.2 , verbose=1, callbacks=[tbCallBack])"
   ]
  },
  {
   "cell_type": "markdown",
   "metadata": {},
   "source": [
    "mudar o y, e se continuar, ai mudo o X"
   ]
  },
  {
   "cell_type": "code",
   "execution_count": 47,
   "metadata": {},
   "outputs": [
    {
     "name": "stdout",
     "output_type": "stream",
     "text": [
      "2086/2086 [==============================] - 0s 58us/step\n"
     ]
    },
    {
     "data": {
      "text/plain": [
       "[0.5958338695598815, 0.7794822626465919]"
      ]
     },
     "execution_count": 47,
     "metadata": {},
     "output_type": "execute_result"
    }
   ],
   "source": [
    "classifier.evaluate(X_test, y_test)"
   ]
  },
  {
   "cell_type": "markdown",
   "metadata": {},
   "source": [
    "# Matriz de Confusão\n",
    "\n",
    "Para fazer a matriz de confusão precisa de 3 arrays:\n",
    "\n",
    "* `X_test` que contém os valores dos atributos\n",
    "* `y_pred` que contém os valores previstos pela rede (1D)\n",
    "* `y_test` que contém os valores reais que se correlacionam com `X_test` (1D)\n",
    "\n",
    "Porém o `y_pred` e o `y_test` estão no formato de One Hot Encoding, então precisamos convertê-lo para o original"
   ]
  },
  {
   "cell_type": "markdown",
   "metadata": {},
   "source": [
    "Predizendo os valores a partir de `X_test`"
   ]
  },
  {
   "cell_type": "code",
   "execution_count": 48,
   "metadata": {},
   "outputs": [],
   "source": [
    "y_pred = classifier.predict(X_test)"
   ]
  },
  {
   "cell_type": "code",
   "execution_count": 49,
   "metadata": {},
   "outputs": [
    {
     "name": "stdout",
     "output_type": "stream",
     "text": [
      "inverted len: 2086\n",
      "y_pred:  [[9.3527585e-01 1.0944615e-09 1.8375186e-10 ... 5.2631613e-08\n",
      "  8.8758320e-08 9.1859656e-06]\n",
      " [2.7023306e-01 1.1265412e-05 1.0592213e-01 ... 7.5425742e-06\n",
      "  5.4784901e-03 1.8279465e-03]\n",
      " [9.9761331e-01 8.0346693e-14 1.5236991e-15 ... 1.7420621e-11\n",
      "  6.2716982e-10 5.2377775e-08]\n",
      " ...\n",
      " [1.7761849e-02 2.0880641e-11 5.0419027e-07 ... 3.5357162e-10\n",
      "  2.8473224e-07 1.1180089e-05]\n",
      " [4.6943957e-01 3.3017017e-10 1.2148588e-06 ... 1.2733146e-07\n",
      "  8.7653422e-07 3.6789948e-05]\n",
      " [8.8301194e-01 3.2657232e-07 8.5315274e-05 ... 1.6526712e-05\n",
      "  4.9535622e-04 3.7547154e-05]] (2086, 12)\n"
     ]
    }
   ],
   "source": [
    "inverted_y_pred = list()\n",
    "for i in range(len(y_pred)):\n",
    "    inverted_y_pred.append(int(label_encoder.inverse_transform([np.argmax(y_pred[i])])))\n",
    "print(\"inverted len:\", len(inverted_y_pred))\n",
    "print(\"y_pred: \", y_pred, y_pred.shape)"
   ]
  },
  {
   "cell_type": "code",
   "execution_count": 50,
   "metadata": {},
   "outputs": [
    {
     "name": "stdout",
     "output_type": "stream",
     "text": [
      "inverted len: 2086\n",
      "y_pred:  [[1. 0. 0. ... 0. 0. 0.]\n",
      " [0. 0. 0. ... 0. 0. 0.]\n",
      " [1. 0. 0. ... 0. 0. 0.]\n",
      " ...\n",
      " [0. 0. 0. ... 0. 0. 0.]\n",
      " [0. 0. 0. ... 0. 0. 0.]\n",
      " [1. 0. 0. ... 0. 0. 0.]] (2086, 12)\n"
     ]
    }
   ],
   "source": [
    "inverted_y_test = list()\n",
    "for i in range(len(y_test)):\n",
    "    inverted_y_test.append(int(label_encoder.inverse_transform([np.argmax(y_test[i])])))\n",
    "print(\"inverted len:\", len(inverted_y_test))\n",
    "print(\"y_pred: \", y_test, y_test.shape)"
   ]
  },
  {
   "cell_type": "code",
   "execution_count": 51,
   "metadata": {},
   "outputs": [
    {
     "data": {
      "text/plain": [
       "array([0., 0., 0., 0., 0., 1., 0., 0., 0., 0., 0., 0.])"
      ]
     },
     "execution_count": 51,
     "metadata": {},
     "output_type": "execute_result"
    }
   ],
   "source": [
    "y_test[5]"
   ]
  },
  {
   "cell_type": "code",
   "execution_count": 52,
   "metadata": {},
   "outputs": [
    {
     "data": {
      "text/plain": [
       "array([9.3527585e-01, 1.0944615e-09, 1.8375186e-10, 7.2737438e-09,\n",
       "       3.7822156e-07, 5.9911218e-02, 1.7058541e-03, 2.9904556e-03,\n",
       "       1.0691253e-04, 5.2631613e-08, 8.8758320e-08, 9.1859656e-06],\n",
       "      dtype=float32)"
      ]
     },
     "execution_count": 52,
     "metadata": {},
     "output_type": "execute_result"
    }
   ],
   "source": [
    "y_pred[0, :]"
   ]
  },
  {
   "cell_type": "code",
   "execution_count": 53,
   "metadata": {},
   "outputs": [
    {
     "name": "stdout",
     "output_type": "stream",
     "text": [
      "inverted: [0]\n"
     ]
    }
   ],
   "source": [
    "inverted = label_encoder.inverse_transform([np.argmax(y_pred[0, :])]) #onehot_encoded[0, :])])\n",
    "print(\"inverted:\", inverted)"
   ]
  },
  {
   "cell_type": "code",
   "execution_count": 54,
   "metadata": {},
   "outputs": [
    {
     "data": {
      "text/plain": [
       "array([2.7023306e-01, 1.1265412e-05, 1.0592213e-01, 2.8114537e-02,\n",
       "       4.4854948e-01, 7.7703059e-02, 3.1717092e-04, 6.1383709e-02,\n",
       "       4.5162943e-04, 7.5425742e-06, 5.4784901e-03, 1.8279465e-03],\n",
       "      dtype=float32)"
      ]
     },
     "execution_count": 54,
     "metadata": {},
     "output_type": "execute_result"
    }
   ],
   "source": [
    "y_pred[1]"
   ]
  },
  {
   "cell_type": "code",
   "execution_count": 55,
   "metadata": {},
   "outputs": [
    {
     "data": {
      "text/plain": [
       "array([0., 0., 0., 0., 1., 0., 0., 0., 0., 0., 0., 0.])"
      ]
     },
     "execution_count": 55,
     "metadata": {},
     "output_type": "execute_result"
    }
   ],
   "source": [
    "y_test[1]"
   ]
  },
  {
   "cell_type": "code",
   "execution_count": 56,
   "metadata": {
    "scrolled": true
   },
   "outputs": [
    {
     "data": {
      "text/plain": [
       "array([[727,   0,   1,   5,  98,   9,   5,   0,   0,   4,   1],\n",
       "       [  5,   7,   2,   6,   1,   0,   1,   0,   0,   0,   0],\n",
       "       [  5,   0,  25,  22,  19,   1,   0,   0,   0,   0,   0],\n",
       "       [ 23,   1,   4, 143,  14,   5,   4,   0,   1,   7,   0],\n",
       "       [101,   0,   0,   4, 282,   7,   3,   0,   0,   0,   0],\n",
       "       [ 16,   0,   0,   2,  16,  55,   2,   0,   0,   0,   1],\n",
       "       [ 17,   0,   0,   4,   8,   7,  66,   0,   0,   0,   0],\n",
       "       [  4,   0,   0,   0,   0,   0,   0, 175,   1,   0,   0],\n",
       "       [  1,   0,   0,   2,   0,   0,   0,   0,   8,   0,   0],\n",
       "       [  1,   0,   1,   1,   0,   0,   0,   0,   0,  99,   3],\n",
       "       [  3,   0,   0,   2,   1,   2,   0,   0,   0,   6,  39]])"
      ]
     },
     "execution_count": 56,
     "metadata": {},
     "output_type": "execute_result"
    }
   ],
   "source": [
    "from sklearn.metrics import confusion_matrix\n",
    "\n",
    "# Sintaxe da função\n",
    "# sklearn.metrics.confusion_matrix(y_true, y_pred, labels=None, sample_weight=None)\n",
    "matrix = confusion_matrix(inverted_y_test, inverted_y_pred)\n",
    "matrix"
   ]
  },
  {
   "cell_type": "markdown",
   "metadata": {},
   "source": [
    "By definition a confusion matrix _*C*_ is such that _*Ci,j*_ is equal to the number of observations known to be in group _*i*_ but predicted to be in group _*j*_ .\n",
    "\n",
    "Ou seja, as linhas são os grupos verdadeiros e as colunas são as classes previstas"
   ]
  },
  {
   "cell_type": "code",
   "execution_count": 57,
   "metadata": {},
   "outputs": [],
   "source": [
    "import seaborn"
   ]
  },
  {
   "cell_type": "code",
   "execution_count": 58,
   "metadata": {
    "scrolled": true
   },
   "outputs": [
    {
     "data": {
      "text/plain": [
       "<matplotlib.axes._subplots.AxesSubplot at 0x7fd464050748>"
      ]
     },
     "execution_count": 58,
     "metadata": {},
     "output_type": "execute_result"
    },
    {
     "data": {
      "image/png": "[encoded data removed]",
      "text/plain": [
       "<Figure size 432x288 with 2 Axes>"
      ]
     },
     "metadata": {
      "needs_background": "light"
     },
     "output_type": "display_data"
    }
   ],
   "source": [
    "seaborn.heatmap(matrix)"
   ]
  },
  {
   "cell_type": "markdown",
   "metadata": {},
   "source": [
    "# Resultados\n",
    "\n",
    "Com a realização do método acima temos que a classe A deixou a rede muito tendenciosa."
   ]
  }
 ],
 "metadata": {
  "kernelspec": {
   "display_name": "tensorflow_1",
   "language": "python",
   "name": "tensorflow_1"
  },
  "language_info": {
   "codemirror_mode": {
    "name": "ipython",
    "version": 3
   },
   "file_extension": ".py",
   "mimetype": "text/x-python",
   "name": "python",
   "nbconvert_exporter": "python",
   "pygments_lexer": "ipython3",
   "version": "3.6.5"
  }
 },
 "nbformat": 4,
 "nbformat_minor": 2
}
