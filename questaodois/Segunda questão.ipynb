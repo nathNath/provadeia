{
 "cells": [
  {
   "cell_type": "markdown",
   "metadata": {},
   "source": [
    "# 2 . Utilizando a base disponível no ​ [link](https://archive.ics.uci.edu/ml/datasets/Avila), crie os datasets a seguir:\n",
    "\n",
    "|Dataset| % de instâncias|\n",
    "|-|-|\n",
    "|Treino| 60%|\n",
    "|Validação| 20%|\n",
    "|Teste| 20%|\n",
    "\n",
    "\n",
    "Elabore uma rede neural de duas camadas para classificação do banco de\n",
    "dados.\n",
    "Ao fim do treinamento, avalie o desempenho da rede utilizando a matriz de\n",
    "confusão com o dataset de teste e mostre o valor de acurácia.\n",
    "Observações:\n",
    "\n",
    "● Utilize apenas o arquivo ​ avila-tr.txt​ .\n",
    "\n",
    "● A camada de saída da rede deverá conter um neurônio para cada classe.\n",
    "\n",
    "● Utilize o dataset de validação para criar algum critério de parada no\n",
    "treinamento.\n",
    "\n",
    "Bônus: defina uma arquitetura de rede neural ou modelos de ​ deep learning que\n",
    "ultrapassem 75% de acurácia."
   ]
  },
  {
   "cell_type": "markdown",
   "metadata": {},
   "source": [
    "### DATA SET DESCRIPTION \n",
    "The Avila data set has been extracted from 800 images of the the \"Avila Bible\", a giant Latin copy of the whole Bible produced during the XII century between Italy and Spain.  \n",
    "The palaeographic analysis of the  manuscript has  individuated the presence of 12 copyists. The pages written by each copyist are not equally numerous. \n",
    "Each pattern contains 10 features and corresponds to a group of 4 consecutive rows.\n",
    "\n",
    "The prediction task consists in associating each pattern to one of the 12 copyists (labeled as: A, B, C, D, E, F, G, H, I, W, X, Y).\n",
    "The data have has been normalized, by using the Z-normalization method, and divided in two data sets: a training set containing 10430 samples, and a test set  containing the 10437 samples.\n",
    "\n",
    "### Class distribution (training set)\n",
    "* A: 4286\n",
    "* B: 5  \n",
    "* C: 103 \n",
    "* D: 352 \n",
    "* E: 1095 \n",
    "* F: 1961 \n",
    "* G: 446 \n",
    "* H: 519\n",
    "* I: 831\n",
    "* W: 44\n",
    "* X: 522 \n",
    "* Y: 266\n",
    "\n",
    "### ATTRIBUTE DESCRIPTION\n",
    "|ID|      Name    |\n",
    "|-|-|\n",
    "|F1|       intercolumnar distance |\n",
    "|F2|       upper margin |\n",
    "|F3|       lower margin |\n",
    "|F4|       exploitation |\n",
    "|F5|       row number |\n",
    "|F6|      modular ratio |\n",
    "|F7|       interlinear spacing |\n",
    "|F8|       weight |\n",
    "|F9|       peak number |\n",
    "|F10|     modular ratio/ interlinear spacing|\n",
    "Class: A, B, C, D, E, F, G, H, I, W, X, Y\n",
    "\n",
    "\n",
    "CITATIONS\n",
    "If you want to refer to the Avila data set in a publication, please cite the following paper:\n",
    "\n",
    "C. De Stefano, M. Maniaci, F. Fontanella, A. Scotto di Freca,\n",
    "Reliable writer identification in medieval manuscripts through page layout features: The \"Avila\" Bible case, Engineering Applications of Artificial Intelligence, Volume 72, 2018, pp. 99-110.\n"
   ]
  },
  {
   "cell_type": "code",
   "execution_count": 2,
   "metadata": {},
   "outputs": [],
   "source": [
    "import tensorflow as tf"
   ]
  },
  {
   "cell_type": "code",
   "execution_count": 3,
   "metadata": {},
   "outputs": [],
   "source": [
    "import matplotlib.pyplot as plt\n",
    "\n",
    "%matplotlib inline\n",
    "\n",
    "import numpy as np"
   ]
  },
  {
   "cell_type": "code",
   "execution_count": 43,
   "metadata": {},
   "outputs": [],
   "source": [
    "import pandas as pd"
   ]
  },
  {
   "cell_type": "code",
   "execution_count": 9,
   "metadata": {},
   "outputs": [],
   "source": [
    "dataset = pd.read_csv('./avila/avila-tr.txt', header = None)"
   ]
  },
  {
   "cell_type": "code",
   "execution_count": 10,
   "metadata": {},
   "outputs": [
    {
     "data": {
      "text/html": [
       "<div>\n",
       "<style scoped>\n",
       "    .dataframe tbody tr th:only-of-type {\n",
       "        vertical-align: middle;\n",
       "    }\n",
       "\n",
       "    .dataframe tbody tr th {\n",
       "        vertical-align: top;\n",
       "    }\n",
       "\n",
       "    .dataframe thead th {\n",
       "        text-align: right;\n",
       "    }\n",
       "</style>\n",
       "<table border=\"1\" class=\"dataframe\">\n",
       "  <thead>\n",
       "    <tr style=\"text-align: right;\">\n",
       "      <th></th>\n",
       "      <th>0</th>\n",
       "      <th>1</th>\n",
       "      <th>2</th>\n",
       "      <th>3</th>\n",
       "      <th>4</th>\n",
       "      <th>5</th>\n",
       "      <th>6</th>\n",
       "      <th>7</th>\n",
       "      <th>8</th>\n",
       "      <th>9</th>\n",
       "      <th>10</th>\n",
       "    </tr>\n",
       "  </thead>\n",
       "  <tbody>\n",
       "    <tr>\n",
       "      <th>0</th>\n",
       "      <td>0.266074</td>\n",
       "      <td>-0.165620</td>\n",
       "      <td>0.320980</td>\n",
       "      <td>0.483299</td>\n",
       "      <td>0.172340</td>\n",
       "      <td>0.273364</td>\n",
       "      <td>0.371178</td>\n",
       "      <td>0.929823</td>\n",
       "      <td>0.251173</td>\n",
       "      <td>0.159345</td>\n",
       "      <td>A</td>\n",
       "    </tr>\n",
       "    <tr>\n",
       "      <th>1</th>\n",
       "      <td>0.130292</td>\n",
       "      <td>0.870736</td>\n",
       "      <td>-3.210528</td>\n",
       "      <td>0.062493</td>\n",
       "      <td>0.261718</td>\n",
       "      <td>1.436060</td>\n",
       "      <td>1.465940</td>\n",
       "      <td>0.636203</td>\n",
       "      <td>0.282354</td>\n",
       "      <td>0.515587</td>\n",
       "      <td>A</td>\n",
       "    </tr>\n",
       "    <tr>\n",
       "      <th>2</th>\n",
       "      <td>-0.116585</td>\n",
       "      <td>0.069915</td>\n",
       "      <td>0.068476</td>\n",
       "      <td>-0.783147</td>\n",
       "      <td>0.261718</td>\n",
       "      <td>0.439463</td>\n",
       "      <td>-0.081827</td>\n",
       "      <td>-0.888236</td>\n",
       "      <td>-0.123005</td>\n",
       "      <td>0.582939</td>\n",
       "      <td>A</td>\n",
       "    </tr>\n",
       "    <tr>\n",
       "      <th>3</th>\n",
       "      <td>0.031541</td>\n",
       "      <td>0.297600</td>\n",
       "      <td>-3.210528</td>\n",
       "      <td>-0.583590</td>\n",
       "      <td>-0.721442</td>\n",
       "      <td>-0.307984</td>\n",
       "      <td>0.710932</td>\n",
       "      <td>1.051693</td>\n",
       "      <td>0.594169</td>\n",
       "      <td>-0.533994</td>\n",
       "      <td>A</td>\n",
       "    </tr>\n",
       "    <tr>\n",
       "      <th>4</th>\n",
       "      <td>0.229043</td>\n",
       "      <td>0.807926</td>\n",
       "      <td>-0.052442</td>\n",
       "      <td>0.082634</td>\n",
       "      <td>0.261718</td>\n",
       "      <td>0.148790</td>\n",
       "      <td>0.635431</td>\n",
       "      <td>0.051062</td>\n",
       "      <td>0.032902</td>\n",
       "      <td>-0.086652</td>\n",
       "      <td>F</td>\n",
       "    </tr>\n",
       "  </tbody>\n",
       "</table>\n",
       "</div>"
      ],
      "text/plain": [
       "         0         1         2         3         4         5         6   \\\n",
       "0  0.266074 -0.165620  0.320980  0.483299  0.172340  0.273364  0.371178   \n",
       "1  0.130292  0.870736 -3.210528  0.062493  0.261718  1.436060  1.465940   \n",
       "2 -0.116585  0.069915  0.068476 -0.783147  0.261718  0.439463 -0.081827   \n",
       "3  0.031541  0.297600 -3.210528 -0.583590 -0.721442 -0.307984  0.710932   \n",
       "4  0.229043  0.807926 -0.052442  0.082634  0.261718  0.148790  0.635431   \n",
       "\n",
       "         7         8         9  10  \n",
       "0  0.929823  0.251173  0.159345  A  \n",
       "1  0.636203  0.282354  0.515587  A  \n",
       "2 -0.888236 -0.123005  0.582939  A  \n",
       "3  1.051693  0.594169 -0.533994  A  \n",
       "4  0.051062  0.032902 -0.086652  F  "
      ]
     },
     "execution_count": 10,
     "metadata": {},
     "output_type": "execute_result"
    }
   ],
   "source": [
    "dataset.head(5)"
   ]
  },
  {
   "cell_type": "code",
   "execution_count": 11,
   "metadata": {},
   "outputs": [
    {
     "data": {
      "text/html": [
       "<div>\n",
       "<style scoped>\n",
       "    .dataframe tbody tr th:only-of-type {\n",
       "        vertical-align: middle;\n",
       "    }\n",
       "\n",
       "    .dataframe tbody tr th {\n",
       "        vertical-align: top;\n",
       "    }\n",
       "\n",
       "    .dataframe thead th {\n",
       "        text-align: right;\n",
       "    }\n",
       "</style>\n",
       "<table border=\"1\" class=\"dataframe\">\n",
       "  <thead>\n",
       "    <tr style=\"text-align: right;\">\n",
       "      <th></th>\n",
       "      <th>0</th>\n",
       "      <th>1</th>\n",
       "      <th>2</th>\n",
       "      <th>3</th>\n",
       "      <th>4</th>\n",
       "      <th>5</th>\n",
       "      <th>6</th>\n",
       "      <th>7</th>\n",
       "      <th>8</th>\n",
       "      <th>9</th>\n",
       "    </tr>\n",
       "  </thead>\n",
       "  <tbody>\n",
       "    <tr>\n",
       "      <th>count</th>\n",
       "      <td>10430.000000</td>\n",
       "      <td>10430.000000</td>\n",
       "      <td>10430.000000</td>\n",
       "      <td>10430.000000</td>\n",
       "      <td>10430.000000</td>\n",
       "      <td>10430.000000</td>\n",
       "      <td>10430.000000</td>\n",
       "      <td>10430.000000</td>\n",
       "      <td>10430.000000</td>\n",
       "      <td>10430.000000</td>\n",
       "    </tr>\n",
       "    <tr>\n",
       "      <th>mean</th>\n",
       "      <td>0.000852</td>\n",
       "      <td>0.033611</td>\n",
       "      <td>-0.000525</td>\n",
       "      <td>-0.002387</td>\n",
       "      <td>0.006370</td>\n",
       "      <td>0.013973</td>\n",
       "      <td>0.005605</td>\n",
       "      <td>0.010323</td>\n",
       "      <td>0.012914</td>\n",
       "      <td>0.000818</td>\n",
       "    </tr>\n",
       "    <tr>\n",
       "      <th>std</th>\n",
       "      <td>0.991431</td>\n",
       "      <td>3.920868</td>\n",
       "      <td>1.120202</td>\n",
       "      <td>1.008527</td>\n",
       "      <td>0.992053</td>\n",
       "      <td>1.126245</td>\n",
       "      <td>1.313754</td>\n",
       "      <td>1.003507</td>\n",
       "      <td>1.087665</td>\n",
       "      <td>1.007094</td>\n",
       "    </tr>\n",
       "    <tr>\n",
       "      <th>min</th>\n",
       "      <td>-3.498799</td>\n",
       "      <td>-2.426761</td>\n",
       "      <td>-3.210528</td>\n",
       "      <td>-5.440122</td>\n",
       "      <td>-4.922215</td>\n",
       "      <td>-7.450257</td>\n",
       "      <td>-11.935457</td>\n",
       "      <td>-4.247781</td>\n",
       "      <td>-5.486218</td>\n",
       "      <td>-6.719324</td>\n",
       "    </tr>\n",
       "    <tr>\n",
       "      <th>25%</th>\n",
       "      <td>-0.128929</td>\n",
       "      <td>-0.259834</td>\n",
       "      <td>0.064919</td>\n",
       "      <td>-0.528002</td>\n",
       "      <td>0.172340</td>\n",
       "      <td>-0.598658</td>\n",
       "      <td>-0.044076</td>\n",
       "      <td>-0.541992</td>\n",
       "      <td>-0.372457</td>\n",
       "      <td>-0.516097</td>\n",
       "    </tr>\n",
       "    <tr>\n",
       "      <th>50%</th>\n",
       "      <td>0.043885</td>\n",
       "      <td>-0.055704</td>\n",
       "      <td>0.217845</td>\n",
       "      <td>0.095763</td>\n",
       "      <td>0.261718</td>\n",
       "      <td>-0.058835</td>\n",
       "      <td>0.220177</td>\n",
       "      <td>0.111803</td>\n",
       "      <td>0.064084</td>\n",
       "      <td>-0.034513</td>\n",
       "    </tr>\n",
       "    <tr>\n",
       "      <th>75%</th>\n",
       "      <td>0.204355</td>\n",
       "      <td>0.203385</td>\n",
       "      <td>0.352988</td>\n",
       "      <td>0.658210</td>\n",
       "      <td>0.261718</td>\n",
       "      <td>0.564038</td>\n",
       "      <td>0.446679</td>\n",
       "      <td>0.654944</td>\n",
       "      <td>0.500624</td>\n",
       "      <td>0.530855</td>\n",
       "    </tr>\n",
       "    <tr>\n",
       "      <th>max</th>\n",
       "      <td>11.819916</td>\n",
       "      <td>386.000000</td>\n",
       "      <td>50.000000</td>\n",
       "      <td>3.987152</td>\n",
       "      <td>1.066121</td>\n",
       "      <td>53.000000</td>\n",
       "      <td>83.000000</td>\n",
       "      <td>13.173081</td>\n",
       "      <td>44.000000</td>\n",
       "      <td>4.671232</td>\n",
       "    </tr>\n",
       "  </tbody>\n",
       "</table>\n",
       "</div>"
      ],
      "text/plain": [
       "                  0             1             2             3             4  \\\n",
       "count  10430.000000  10430.000000  10430.000000  10430.000000  10430.000000   \n",
       "mean       0.000852      0.033611     -0.000525     -0.002387      0.006370   \n",
       "std        0.991431      3.920868      1.120202      1.008527      0.992053   \n",
       "min       -3.498799     -2.426761     -3.210528     -5.440122     -4.922215   \n",
       "25%       -0.128929     -0.259834      0.064919     -0.528002      0.172340   \n",
       "50%        0.043885     -0.055704      0.217845      0.095763      0.261718   \n",
       "75%        0.204355      0.203385      0.352988      0.658210      0.261718   \n",
       "max       11.819916    386.000000     50.000000      3.987152      1.066121   \n",
       "\n",
       "                  5             6             7             8             9  \n",
       "count  10430.000000  10430.000000  10430.000000  10430.000000  10430.000000  \n",
       "mean       0.013973      0.005605      0.010323      0.012914      0.000818  \n",
       "std        1.126245      1.313754      1.003507      1.087665      1.007094  \n",
       "min       -7.450257    -11.935457     -4.247781     -5.486218     -6.719324  \n",
       "25%       -0.598658     -0.044076     -0.541992     -0.372457     -0.516097  \n",
       "50%       -0.058835      0.220177      0.111803      0.064084     -0.034513  \n",
       "75%        0.564038      0.446679      0.654944      0.500624      0.530855  \n",
       "max       53.000000     83.000000     13.173081     44.000000      4.671232  "
      ]
     },
     "execution_count": 11,
     "metadata": {},
     "output_type": "execute_result"
    }
   ],
   "source": [
    "dataset.describe()"
   ]
  },
  {
   "cell_type": "code",
   "execution_count": 12,
   "metadata": {},
   "outputs": [
    {
     "data": {
      "text/plain": [
       "<matplotlib.axes._subplots.AxesSubplot at 0x7f597781efd0>"
      ]
     },
     "execution_count": 12,
     "metadata": {},
     "output_type": "execute_result"
    },
    {
     "data": {
      "image/png": "[encoded data removed]",
      "text/plain": [
       "<Figure size 1224x753.231 with 1 Axes>"
      ]
     },
     "metadata": {},
     "output_type": "display_data"
    }
   ],
   "source": [
    "# Aumentar o tamanho do plot na proporção 8/13\n",
    "x_size = 17\n",
    "y_size = x_size * (8/13)\n",
    "plt.figure(figsize=(x_size, y_size))\n",
    "# Aumentar o tamanho do plot na proporção 8/13\n",
    "\n",
    "dataset.boxplot()"
   ]
  },
  {
   "cell_type": "markdown",
   "metadata": {},
   "source": [
    "# Percebendo o _outlier_ na coluna 1"
   ]
  },
  {
   "cell_type": "code",
   "execution_count": 17,
   "metadata": {},
   "outputs": [],
   "source": [
    "a = dataset.loc[dataset[1] == 386]"
   ]
  },
  {
   "cell_type": "code",
   "execution_count": 20,
   "metadata": {},
   "outputs": [
    {
     "data": {
      "text/html": [
       "<div>\n",
       "<style scoped>\n",
       "    .dataframe tbody tr th:only-of-type {\n",
       "        vertical-align: middle;\n",
       "    }\n",
       "\n",
       "    .dataframe tbody tr th {\n",
       "        vertical-align: top;\n",
       "    }\n",
       "\n",
       "    .dataframe thead th {\n",
       "        text-align: right;\n",
       "    }\n",
       "</style>\n",
       "<table border=\"1\" class=\"dataframe\">\n",
       "  <thead>\n",
       "    <tr style=\"text-align: right;\">\n",
       "      <th></th>\n",
       "      <th>0</th>\n",
       "      <th>1</th>\n",
       "      <th>2</th>\n",
       "      <th>3</th>\n",
       "      <th>4</th>\n",
       "      <th>5</th>\n",
       "      <th>6</th>\n",
       "      <th>7</th>\n",
       "      <th>8</th>\n",
       "      <th>9</th>\n",
       "      <th>10</th>\n",
       "    </tr>\n",
       "  </thead>\n",
       "  <tbody>\n",
       "    <tr>\n",
       "      <th>6619</th>\n",
       "      <td>0.0</td>\n",
       "      <td>386.0</td>\n",
       "      <td>50.0</td>\n",
       "      <td>0.168104</td>\n",
       "      <td>0.0</td>\n",
       "      <td>53.0</td>\n",
       "      <td>83.0</td>\n",
       "      <td>0.275032</td>\n",
       "      <td>44.0</td>\n",
       "      <td>0.63802</td>\n",
       "      <td>A</td>\n",
       "    </tr>\n",
       "  </tbody>\n",
       "</table>\n",
       "</div>"
      ],
      "text/plain": [
       "       0      1     2         3    4     5     6         7     8        9  10\n",
       "6619  0.0  386.0  50.0  0.168104  0.0  53.0  83.0  0.275032  44.0  0.63802  A"
      ]
     },
     "execution_count": 20,
     "metadata": {},
     "output_type": "execute_result"
    }
   ],
   "source": [
    "a"
   ]
  },
  {
   "cell_type": "code",
   "execution_count": 24,
   "metadata": {},
   "outputs": [],
   "source": [
    "aux = np.array(dataset[1])\n",
    "dataset[1] = dataset[1].replace(386, np.nanmedian(aux))"
   ]
  },
  {
   "cell_type": "code",
   "execution_count": 25,
   "metadata": {},
   "outputs": [
    {
     "data": {
      "text/html": [
       "<div>\n",
       "<style scoped>\n",
       "    .dataframe tbody tr th:only-of-type {\n",
       "        vertical-align: middle;\n",
       "    }\n",
       "\n",
       "    .dataframe tbody tr th {\n",
       "        vertical-align: top;\n",
       "    }\n",
       "\n",
       "    .dataframe thead th {\n",
       "        text-align: right;\n",
       "    }\n",
       "</style>\n",
       "<table border=\"1\" class=\"dataframe\">\n",
       "  <thead>\n",
       "    <tr style=\"text-align: right;\">\n",
       "      <th></th>\n",
       "      <th>0</th>\n",
       "      <th>1</th>\n",
       "      <th>2</th>\n",
       "      <th>3</th>\n",
       "      <th>4</th>\n",
       "      <th>5</th>\n",
       "      <th>6</th>\n",
       "      <th>7</th>\n",
       "      <th>8</th>\n",
       "      <th>9</th>\n",
       "      <th>10</th>\n",
       "    </tr>\n",
       "  </thead>\n",
       "  <tbody>\n",
       "  </tbody>\n",
       "</table>\n",
       "</div>"
      ],
      "text/plain": [
       "Empty DataFrame\n",
       "Columns: [0, 1, 2, 3, 4, 5, 6, 7, 8, 9, 10]\n",
       "Index: []"
      ]
     },
     "execution_count": 25,
     "metadata": {},
     "output_type": "execute_result"
    }
   ],
   "source": [
    "dataset.loc[dataset[1] == 386]"
   ]
  },
  {
   "cell_type": "code",
   "execution_count": 27,
   "metadata": {},
   "outputs": [
    {
     "data": {
      "text/plain": [
       "<matplotlib.axes._subplots.AxesSubplot at 0x7f5974f25c50>"
      ]
     },
     "execution_count": 27,
     "metadata": {},
     "output_type": "execute_result"
    },
    {
     "data": {
      "image/png": "[encoded data removed]",
      "text/plain": [
       "<Figure size 1224x753.231 with 1 Axes>"
      ]
     },
     "metadata": {},
     "output_type": "display_data"
    }
   ],
   "source": [
    "# Aumentar o tamanho do plot na proporção 8/13\n",
    "x_size = 17\n",
    "y_size = x_size * (8/13)\n",
    "plt.figure(figsize=(x_size, y_size))\n",
    "# Aumentar o tamanho do plot na proporção 8/13\n",
    "dataset.boxplot()"
   ]
  },
  {
   "cell_type": "code",
   "execution_count": 28,
   "metadata": {},
   "outputs": [
    {
     "data": {
      "text/html": [
       "<div>\n",
       "<style scoped>\n",
       "    .dataframe tbody tr th:only-of-type {\n",
       "        vertical-align: middle;\n",
       "    }\n",
       "\n",
       "    .dataframe tbody tr th {\n",
       "        vertical-align: top;\n",
       "    }\n",
       "\n",
       "    .dataframe thead th {\n",
       "        text-align: right;\n",
       "    }\n",
       "</style>\n",
       "<table border=\"1\" class=\"dataframe\">\n",
       "  <thead>\n",
       "    <tr style=\"text-align: right;\">\n",
       "      <th></th>\n",
       "      <th>0</th>\n",
       "      <th>1</th>\n",
       "      <th>2</th>\n",
       "      <th>3</th>\n",
       "      <th>4</th>\n",
       "      <th>5</th>\n",
       "      <th>6</th>\n",
       "      <th>7</th>\n",
       "      <th>8</th>\n",
       "      <th>9</th>\n",
       "    </tr>\n",
       "  </thead>\n",
       "  <tbody>\n",
       "    <tr>\n",
       "      <th>count</th>\n",
       "      <td>10430.000000</td>\n",
       "      <td>10430.000000</td>\n",
       "      <td>10430.000000</td>\n",
       "      <td>10430.000000</td>\n",
       "      <td>10430.000000</td>\n",
       "      <td>10430.000000</td>\n",
       "      <td>10430.000000</td>\n",
       "      <td>10430.000000</td>\n",
       "      <td>10430.000000</td>\n",
       "      <td>10430.000000</td>\n",
       "    </tr>\n",
       "    <tr>\n",
       "      <th>mean</th>\n",
       "      <td>0.000852</td>\n",
       "      <td>-0.003403</td>\n",
       "      <td>-0.000525</td>\n",
       "      <td>-0.002387</td>\n",
       "      <td>0.006370</td>\n",
       "      <td>0.013973</td>\n",
       "      <td>0.005605</td>\n",
       "      <td>0.010323</td>\n",
       "      <td>0.012914</td>\n",
       "      <td>0.000818</td>\n",
       "    </tr>\n",
       "    <tr>\n",
       "      <th>std</th>\n",
       "      <td>0.991431</td>\n",
       "      <td>1.042894</td>\n",
       "      <td>1.120202</td>\n",
       "      <td>1.008527</td>\n",
       "      <td>0.992053</td>\n",
       "      <td>1.126245</td>\n",
       "      <td>1.313754</td>\n",
       "      <td>1.003507</td>\n",
       "      <td>1.087665</td>\n",
       "      <td>1.007094</td>\n",
       "    </tr>\n",
       "    <tr>\n",
       "      <th>min</th>\n",
       "      <td>-3.498799</td>\n",
       "      <td>-2.426761</td>\n",
       "      <td>-3.210528</td>\n",
       "      <td>-5.440122</td>\n",
       "      <td>-4.922215</td>\n",
       "      <td>-7.450257</td>\n",
       "      <td>-11.935457</td>\n",
       "      <td>-4.247781</td>\n",
       "      <td>-5.486218</td>\n",
       "      <td>-6.719324</td>\n",
       "    </tr>\n",
       "    <tr>\n",
       "      <th>25%</th>\n",
       "      <td>-0.128929</td>\n",
       "      <td>-0.259834</td>\n",
       "      <td>0.064919</td>\n",
       "      <td>-0.528002</td>\n",
       "      <td>0.172340</td>\n",
       "      <td>-0.598658</td>\n",
       "      <td>-0.044076</td>\n",
       "      <td>-0.541992</td>\n",
       "      <td>-0.372457</td>\n",
       "      <td>-0.516097</td>\n",
       "    </tr>\n",
       "    <tr>\n",
       "      <th>50%</th>\n",
       "      <td>0.043885</td>\n",
       "      <td>-0.055704</td>\n",
       "      <td>0.217845</td>\n",
       "      <td>0.095763</td>\n",
       "      <td>0.261718</td>\n",
       "      <td>-0.058835</td>\n",
       "      <td>0.220177</td>\n",
       "      <td>0.111803</td>\n",
       "      <td>0.064084</td>\n",
       "      <td>-0.034513</td>\n",
       "    </tr>\n",
       "    <tr>\n",
       "      <th>75%</th>\n",
       "      <td>0.204355</td>\n",
       "      <td>0.203385</td>\n",
       "      <td>0.352988</td>\n",
       "      <td>0.658210</td>\n",
       "      <td>0.261718</td>\n",
       "      <td>0.564038</td>\n",
       "      <td>0.446679</td>\n",
       "      <td>0.654944</td>\n",
       "      <td>0.500624</td>\n",
       "      <td>0.530855</td>\n",
       "    </tr>\n",
       "    <tr>\n",
       "      <th>max</th>\n",
       "      <td>11.819916</td>\n",
       "      <td>43.133656</td>\n",
       "      <td>50.000000</td>\n",
       "      <td>3.987152</td>\n",
       "      <td>1.066121</td>\n",
       "      <td>53.000000</td>\n",
       "      <td>83.000000</td>\n",
       "      <td>13.173081</td>\n",
       "      <td>44.000000</td>\n",
       "      <td>4.671232</td>\n",
       "    </tr>\n",
       "  </tbody>\n",
       "</table>\n",
       "</div>"
      ],
      "text/plain": [
       "                  0             1             2             3             4  \\\n",
       "count  10430.000000  10430.000000  10430.000000  10430.000000  10430.000000   \n",
       "mean       0.000852     -0.003403     -0.000525     -0.002387      0.006370   \n",
       "std        0.991431      1.042894      1.120202      1.008527      0.992053   \n",
       "min       -3.498799     -2.426761     -3.210528     -5.440122     -4.922215   \n",
       "25%       -0.128929     -0.259834      0.064919     -0.528002      0.172340   \n",
       "50%        0.043885     -0.055704      0.217845      0.095763      0.261718   \n",
       "75%        0.204355      0.203385      0.352988      0.658210      0.261718   \n",
       "max       11.819916     43.133656     50.000000      3.987152      1.066121   \n",
       "\n",
       "                  5             6             7             8             9  \n",
       "count  10430.000000  10430.000000  10430.000000  10430.000000  10430.000000  \n",
       "mean       0.013973      0.005605      0.010323      0.012914      0.000818  \n",
       "std        1.126245      1.313754      1.003507      1.087665      1.007094  \n",
       "min       -7.450257    -11.935457     -4.247781     -5.486218     -6.719324  \n",
       "25%       -0.598658     -0.044076     -0.541992     -0.372457     -0.516097  \n",
       "50%       -0.058835      0.220177      0.111803      0.064084     -0.034513  \n",
       "75%        0.564038      0.446679      0.654944      0.500624      0.530855  \n",
       "max       53.000000     83.000000     13.173081     44.000000      4.671232  "
      ]
     },
     "execution_count": 28,
     "metadata": {},
     "output_type": "execute_result"
    }
   ],
   "source": [
    "dataset.describe()"
   ]
  },
  {
   "cell_type": "code",
   "execution_count": 29,
   "metadata": {},
   "outputs": [],
   "source": [
    "b = np.array(dataset[6])"
   ]
  },
  {
   "cell_type": "code",
   "execution_count": 30,
   "metadata": {},
   "outputs": [
    {
     "data": {
      "text/plain": [
       "array([ 0.371178,  1.46594 , -0.081827, ...,  0.295677,  0.069175,\n",
       "        0.786433])"
      ]
     },
     "execution_count": 30,
     "metadata": {},
     "output_type": "execute_result"
    }
   ],
   "source": [
    "b\n"
   ]
  },
  {
   "cell_type": "code",
   "execution_count": 31,
   "metadata": {},
   "outputs": [
    {
     "data": {
      "text/plain": [
       "83.0"
      ]
     },
     "execution_count": 31,
     "metadata": {},
     "output_type": "execute_result"
    }
   ],
   "source": [
    "np.max(b)"
   ]
  },
  {
   "cell_type": "code",
   "execution_count": 32,
   "metadata": {},
   "outputs": [],
   "source": [
    "for i in [1, 2, 5, 6, 7, 8]:\n",
    "    aux = np.array(dataset[i])\n",
    "    dataset[i] = dataset[i].replace(np.max(aux), np.nanmedian(aux))"
   ]
  },
  {
   "cell_type": "code",
   "execution_count": 33,
   "metadata": {},
   "outputs": [
    {
     "data": {
      "text/html": [
       "<div>\n",
       "<style scoped>\n",
       "    .dataframe tbody tr th:only-of-type {\n",
       "        vertical-align: middle;\n",
       "    }\n",
       "\n",
       "    .dataframe tbody tr th {\n",
       "        vertical-align: top;\n",
       "    }\n",
       "\n",
       "    .dataframe thead th {\n",
       "        text-align: right;\n",
       "    }\n",
       "</style>\n",
       "<table border=\"1\" class=\"dataframe\">\n",
       "  <thead>\n",
       "    <tr style=\"text-align: right;\">\n",
       "      <th></th>\n",
       "      <th>0</th>\n",
       "      <th>1</th>\n",
       "      <th>2</th>\n",
       "      <th>3</th>\n",
       "      <th>4</th>\n",
       "      <th>5</th>\n",
       "      <th>6</th>\n",
       "      <th>7</th>\n",
       "      <th>8</th>\n",
       "      <th>9</th>\n",
       "    </tr>\n",
       "  </thead>\n",
       "  <tbody>\n",
       "    <tr>\n",
       "      <th>count</th>\n",
       "      <td>10430.000000</td>\n",
       "      <td>10430.000000</td>\n",
       "      <td>10430.000000</td>\n",
       "      <td>10430.000000</td>\n",
       "      <td>10430.000000</td>\n",
       "      <td>10430.000000</td>\n",
       "      <td>10430.000000</td>\n",
       "      <td>10430.000000</td>\n",
       "      <td>10430.000000</td>\n",
       "      <td>10430.000000</td>\n",
       "    </tr>\n",
       "    <tr>\n",
       "      <th>mean</th>\n",
       "      <td>0.000852</td>\n",
       "      <td>-0.007544</td>\n",
       "      <td>-0.005298</td>\n",
       "      <td>-0.002387</td>\n",
       "      <td>0.006370</td>\n",
       "      <td>0.008886</td>\n",
       "      <td>-0.002331</td>\n",
       "      <td>0.009070</td>\n",
       "      <td>0.008702</td>\n",
       "      <td>0.000818</td>\n",
       "    </tr>\n",
       "    <tr>\n",
       "      <th>std</th>\n",
       "      <td>0.991431</td>\n",
       "      <td>0.953512</td>\n",
       "      <td>1.007528</td>\n",
       "      <td>1.008527</td>\n",
       "      <td>0.992053</td>\n",
       "      <td>0.999600</td>\n",
       "      <td>1.032191</td>\n",
       "      <td>0.995195</td>\n",
       "      <td>0.998735</td>\n",
       "      <td>1.007094</td>\n",
       "    </tr>\n",
       "    <tr>\n",
       "      <th>min</th>\n",
       "      <td>-3.498799</td>\n",
       "      <td>-2.426761</td>\n",
       "      <td>-3.210528</td>\n",
       "      <td>-5.440122</td>\n",
       "      <td>-4.922215</td>\n",
       "      <td>-7.450257</td>\n",
       "      <td>-11.935457</td>\n",
       "      <td>-4.247781</td>\n",
       "      <td>-5.486218</td>\n",
       "      <td>-6.719324</td>\n",
       "    </tr>\n",
       "    <tr>\n",
       "      <th>25%</th>\n",
       "      <td>-0.128929</td>\n",
       "      <td>-0.259834</td>\n",
       "      <td>0.064919</td>\n",
       "      <td>-0.528002</td>\n",
       "      <td>0.172340</td>\n",
       "      <td>-0.598658</td>\n",
       "      <td>-0.044076</td>\n",
       "      <td>-0.541992</td>\n",
       "      <td>-0.372457</td>\n",
       "      <td>-0.516097</td>\n",
       "    </tr>\n",
       "    <tr>\n",
       "      <th>50%</th>\n",
       "      <td>0.043885</td>\n",
       "      <td>-0.055704</td>\n",
       "      <td>0.217845</td>\n",
       "      <td>0.095763</td>\n",
       "      <td>0.261718</td>\n",
       "      <td>-0.058835</td>\n",
       "      <td>0.220177</td>\n",
       "      <td>0.111778</td>\n",
       "      <td>0.064084</td>\n",
       "      <td>-0.034513</td>\n",
       "    </tr>\n",
       "    <tr>\n",
       "      <th>75%</th>\n",
       "      <td>0.204355</td>\n",
       "      <td>0.203385</td>\n",
       "      <td>0.352988</td>\n",
       "      <td>0.658210</td>\n",
       "      <td>0.261718</td>\n",
       "      <td>0.564038</td>\n",
       "      <td>0.446679</td>\n",
       "      <td>0.654886</td>\n",
       "      <td>0.500624</td>\n",
       "      <td>0.530855</td>\n",
       "    </tr>\n",
       "    <tr>\n",
       "      <th>max</th>\n",
       "      <td>11.819916</td>\n",
       "      <td>19.470188</td>\n",
       "      <td>7.458681</td>\n",
       "      <td>3.987152</td>\n",
       "      <td>1.066121</td>\n",
       "      <td>5.505495</td>\n",
       "      <td>10.714792</td>\n",
       "      <td>4.510897</td>\n",
       "      <td>3.244594</td>\n",
       "      <td>4.671232</td>\n",
       "    </tr>\n",
       "  </tbody>\n",
       "</table>\n",
       "</div>"
      ],
      "text/plain": [
       "                  0             1             2             3             4  \\\n",
       "count  10430.000000  10430.000000  10430.000000  10430.000000  10430.000000   \n",
       "mean       0.000852     -0.007544     -0.005298     -0.002387      0.006370   \n",
       "std        0.991431      0.953512      1.007528      1.008527      0.992053   \n",
       "min       -3.498799     -2.426761     -3.210528     -5.440122     -4.922215   \n",
       "25%       -0.128929     -0.259834      0.064919     -0.528002      0.172340   \n",
       "50%        0.043885     -0.055704      0.217845      0.095763      0.261718   \n",
       "75%        0.204355      0.203385      0.352988      0.658210      0.261718   \n",
       "max       11.819916     19.470188      7.458681      3.987152      1.066121   \n",
       "\n",
       "                  5             6             7             8             9  \n",
       "count  10430.000000  10430.000000  10430.000000  10430.000000  10430.000000  \n",
       "mean       0.008886     -0.002331      0.009070      0.008702      0.000818  \n",
       "std        0.999600      1.032191      0.995195      0.998735      1.007094  \n",
       "min       -7.450257    -11.935457     -4.247781     -5.486218     -6.719324  \n",
       "25%       -0.598658     -0.044076     -0.541992     -0.372457     -0.516097  \n",
       "50%       -0.058835      0.220177      0.111778      0.064084     -0.034513  \n",
       "75%        0.564038      0.446679      0.654886      0.500624      0.530855  \n",
       "max        5.505495     10.714792      4.510897      3.244594      4.671232  "
      ]
     },
     "execution_count": 33,
     "metadata": {},
     "output_type": "execute_result"
    }
   ],
   "source": [
    "dataset.describe()"
   ]
  },
  {
   "cell_type": "markdown",
   "metadata": {},
   "source": [
    "# Aumentar o tamanho do plot na proporção 8/13\n",
    "x_size = 17\n",
    "y_size = x_size * (8/13)\n",
    "#del(plt)\n",
    "import matplotlib.pyplot as plt\n",
    "plt.figure(figsize=(x_size, y_size))\n",
    "# Aumentar o tamanho do plot na proporção 8/13\n",
    "#dataset.plot()\n",
    "plt.boxplot()"
   ]
  },
  {
   "cell_type": "code",
   "execution_count": 42,
   "metadata": {},
   "outputs": [
    {
     "data": {
      "text/plain": [
       "<matplotlib.axes._subplots.AxesSubplot at 0x7f5974a651d0>"
      ]
     },
     "execution_count": 42,
     "metadata": {},
     "output_type": "execute_result"
    },
    {
     "data": {
      "image/png": "[encoded data removed]",
      "text/plain": [
       "<Figure size 1224x753.231 with 1 Axes>"
      ]
     },
     "metadata": {},
     "output_type": "display_data"
    }
   ],
   "source": [
    "# Aumentar o tamanho do plot na proporção 8/13\n",
    "x_size = 17\n",
    "y_size = x_size * (8/13)\n",
    "plt.figure(figsize=(x_size, y_size))\n",
    "# Aumentar o tamanho do plot na proporção 8/13\n",
    "dataset.boxplot()"
   ]
  },
  {
   "cell_type": "markdown",
   "metadata": {},
   "source": [
    "# Mudando a classe de caractere para inteiro"
   ]
  },
  {
   "cell_type": "code",
   "execution_count": 56,
   "metadata": {},
   "outputs": [],
   "source": [
    "dictionary_classes = {}"
   ]
  },
  {
   "cell_type": "code",
   "execution_count": 59,
   "metadata": {},
   "outputs": [
    {
     "data": {
      "text/plain": [
       "65"
      ]
     },
     "execution_count": 59,
     "metadata": {},
     "output_type": "execute_result"
    }
   ],
   "source": [
    "ord(\"A\")"
   ]
  },
  {
   "cell_type": "code",
   "execution_count": 60,
   "metadata": {},
   "outputs": [],
   "source": [
    "classes_number = [i for i in range(12)]"
   ]
  },
  {
   "cell_type": "code",
   "execution_count": 61,
   "metadata": {},
   "outputs": [
    {
     "data": {
      "text/plain": [
       "[0, 1, 2, 3, 4, 5, 6, 7, 8, 9, 10, 11]"
      ]
     },
     "execution_count": 61,
     "metadata": {},
     "output_type": "execute_result"
    }
   ],
   "source": [
    "classes_number"
   ]
  },
  {
   "cell_type": "code",
   "execution_count": 62,
   "metadata": {},
   "outputs": [],
   "source": [
    "classes_charcteres = [\"A\",\"B\",\"C\",\"D\",\"E\",\"F\",\"G\",\"H\",\"I\",\"W\",\"X\",\"Y\"]"
   ]
  },
  {
   "cell_type": "code",
   "execution_count": 63,
   "metadata": {},
   "outputs": [],
   "source": [
    "for num, char in zip(classes_number, classes_charcteres):\n",
    "    dictionary_classes[char] = num"
   ]
  },
  {
   "cell_type": "code",
   "execution_count": 64,
   "metadata": {},
   "outputs": [
    {
     "data": {
      "text/plain": [
       "{'A': 0,\n",
       " 'B': 1,\n",
       " 'C': 2,\n",
       " 'D': 3,\n",
       " 'E': 4,\n",
       " 'F': 5,\n",
       " 'G': 6,\n",
       " 'H': 7,\n",
       " 'I': 8,\n",
       " 'W': 9,\n",
       " 'X': 10,\n",
       " 'Y': 11}"
      ]
     },
     "execution_count": 64,
     "metadata": {},
     "output_type": "execute_result"
    }
   ],
   "source": [
    "dictionary_classes"
   ]
  },
  {
   "cell_type": "code",
   "execution_count": 66,
   "metadata": {},
   "outputs": [
    {
     "data": {
      "text/plain": [
       "0    A\n",
       "1    A\n",
       "2    A\n",
       "3    A\n",
       "4    F\n",
       "Name: 10, dtype: object"
      ]
     },
     "execution_count": 66,
     "metadata": {},
     "output_type": "execute_result"
    }
   ],
   "source": [
    "dataset[10].head(5)"
   ]
  },
  {
   "cell_type": "code",
   "execution_count": 75,
   "metadata": {
    "scrolled": true
   },
   "outputs": [
    {
     "name": "stdout",
     "output_type": "stream",
     "text": [
      "A 0\n",
      "B 1\n",
      "C 2\n",
      "D 3\n",
      "E 4\n",
      "F 5\n",
      "G 6\n",
      "H 7\n",
      "I 8\n",
      "W 9\n",
      "X 10\n",
      "Y 11\n"
     ]
    }
   ],
   "source": [
    "for key in dictionary_classes:\n",
    "    print(key, dictionary_classes[key])\n",
    "    dataset[10] = dataset[10].replace(key, dictionary_classes[key])"
   ]
  },
  {
   "cell_type": "markdown",
   "metadata": {},
   "source": [
    "Testando se realmente funcionou"
   ]
  },
  {
   "cell_type": "code",
   "execution_count": 76,
   "metadata": {},
   "outputs": [
    {
     "data": {
      "text/plain": [
       "0    0\n",
       "1    0\n",
       "2    0\n",
       "3    0\n",
       "4    5\n",
       "Name: 10, dtype: int64"
      ]
     },
     "execution_count": 76,
     "metadata": {},
     "output_type": "execute_result"
    }
   ],
   "source": [
    "dataset[10].head()"
   ]
  },
  {
   "cell_type": "code",
   "execution_count": 77,
   "metadata": {},
   "outputs": [
    {
     "data": {
      "text/plain": [
       "10425     5\n",
       "10426     5\n",
       "10427     0\n",
       "10428     4\n",
       "10429    10\n",
       "Name: 10, dtype: int64"
      ]
     },
     "execution_count": 77,
     "metadata": {},
     "output_type": "execute_result"
    }
   ],
   "source": [
    "dataset[10].tail()"
   ]
  },
  {
   "cell_type": "markdown",
   "metadata": {},
   "source": [
    "# Usando Keras"
   ]
  },
  {
   "cell_type": "markdown",
   "metadata": {},
   "source": [
    "Keras é uma API de alto nível para o tensorflow, que permite criar redes neurais complexas sem precisar entender as variáveis que o Tensorflow possui"
   ]
  },
  {
   "cell_type": "markdown",
   "metadata": {},
   "source": [
    "Primeiro é preciso particionar a base de acordo com as porcentagens abaixo\n",
    "\n",
    "|Dataset| % de instâncias|\n",
    "|-|-|\n",
    "|Treino| 60%|\n",
    "|Validação| 20%|\n",
    "|Teste| 20%|\n"
   ]
  },
  {
   "cell_type": "code",
   "execution_count": 78,
   "metadata": {},
   "outputs": [],
   "source": [
    "X = dataset.iloc[:, :-1].values\n",
    "y = dataset.iloc[:, 10].values"
   ]
  },
  {
   "cell_type": "markdown",
   "metadata": {},
   "source": [
    "Errado, pois a separação está diferente da tabela"
   ]
  },
  {
   "cell_type": "code",
   "execution_count": 101,
   "metadata": {},
   "outputs": [],
   "source": [
    "from sklearn.model_selection import train_test_split\n",
    "x_train, x_test, y_train, y_test = train_test_split(X, y, test_size=0.2, train_size=0.6)"
   ]
  },
  {
   "cell_type": "code",
   "execution_count": 102,
   "metadata": {},
   "outputs": [
    {
     "name": "stdout",
     "output_type": "stream",
     "text": [
      "Epoch 1/20\n",
      "6258/6258 [==============================] - 1s 190us/step - loss: 2.1404 - acc: 0.3913\n",
      "Epoch 2/20\n",
      "6258/6258 [==============================] - 0s 31us/step - loss: 1.7803 - acc: 0.4156\n",
      "Epoch 3/20\n",
      "6258/6258 [==============================] - 0s 32us/step - loss: 1.6054 - acc: 0.4626\n",
      "Epoch 4/20\n",
      "6258/6258 [==============================] - 0s 34us/step - loss: 1.4955 - acc: 0.4853\n",
      "Epoch 5/20\n",
      "6258/6258 [==============================] - 0s 34us/step - loss: 1.4252 - acc: 0.5038\n",
      "Epoch 6/20\n",
      "6258/6258 [==============================] - 0s 35us/step - loss: 1.3867 - acc: 0.5187\n",
      "Epoch 7/20\n",
      "6258/6258 [==============================] - 0s 34us/step - loss: 1.3474 - acc: 0.5302\n",
      "Epoch 8/20\n",
      "6258/6258 [==============================] - 0s 40us/step - loss: 1.3313 - acc: 0.5372\n",
      "Epoch 9/20\n",
      "6258/6258 [==============================] - 0s 44us/step - loss: 1.2946 - acc: 0.5393\n",
      "Epoch 10/20\n",
      "6258/6258 [==============================] - 0s 47us/step - loss: 1.2892 - acc: 0.5425\n",
      "Epoch 11/20\n",
      "6258/6258 [==============================] - 0s 47us/step - loss: 1.2676 - acc: 0.5471\n",
      "Epoch 12/20\n",
      "6258/6258 [==============================] - 0s 43us/step - loss: 1.2569 - acc: 0.5502\n",
      "Epoch 13/20\n",
      "6258/6258 [==============================] - 0s 40us/step - loss: 1.2553 - acc: 0.5532\n",
      "Epoch 14/20\n",
      "6258/6258 [==============================] - 0s 46us/step - loss: 1.2454 - acc: 0.5626\n",
      "Epoch 15/20\n",
      "6258/6258 [==============================] - 0s 43us/step - loss: 1.2265 - acc: 0.5657\n",
      "Epoch 16/20\n",
      "6258/6258 [==============================] - 0s 41us/step - loss: 1.2160 - acc: 0.5630\n",
      "Epoch 17/20\n",
      "6258/6258 [==============================] - 0s 40us/step - loss: 1.2011 - acc: 0.5789\n",
      "Epoch 18/20\n",
      "6258/6258 [==============================] - 0s 41us/step - loss: 1.1933 - acc: 0.5697\n",
      "Epoch 19/20\n",
      "6258/6258 [==============================] - 0s 40us/step - loss: 1.1803 - acc: 0.5746\n",
      "Epoch 20/20\n",
      "6258/6258 [==============================] - 0s 41us/step - loss: 1.1775 - acc: 0.5725\n",
      "Evaluate:\n",
      "Returns the loss value & metrics values for the model in test mode.\n",
      "2086/2086 [==============================] - 0s 182us/step\n"
     ]
    },
    {
     "data": {
      "text/plain": [
       "[1.068211891792879, 0.60210930003873]"
      ]
     },
     "execution_count": 102,
     "metadata": {},
     "output_type": "execute_result"
    }
   ],
   "source": [
    "model = tf.keras.models.Sequential([\n",
    "  tf.keras.layers.Flatten(),\n",
    "  tf.keras.layers.Dense(13, activation=tf.nn.relu),\n",
    "  tf.keras.layers.Dropout(0.1),\n",
    "  tf.keras.layers.Dense(13, activation=tf.nn.relu),\n",
    "  tf.keras.layers.Dropout(0.1),\n",
    "  tf.keras.layers.Dense(13, activation=tf.nn.relu),\n",
    "  tf.keras.layers.Dropout(0.1),\n",
    "  tf.keras.layers.Dense(13, activation=tf.nn.relu),\n",
    "  tf.keras.layers.Dropout(0.1),\n",
    "  tf.keras.layers.Dense(13, activation=tf.nn.softmax)\n",
    "])\n",
    "model.compile(optimizer='adam',\n",
    "              loss='sparse_categorical_crossentropy',\n",
    "              metrics=['accuracy'])\n",
    "\n",
    "model.fit(x_train, y_train, epochs=20)\n",
    "\n",
    "print(\"Evaluate:\")\n",
    "print(\"Returns the loss value & metrics values for the model in test mode.\")\n",
    "model.evaluate(x_test, y_test)"
   ]
  },
  {
   "cell_type": "code",
   "execution_count": 103,
   "metadata": {},
   "outputs": [
    {
     "name": "stdout",
     "output_type": "stream",
     "text": [
      "Epoch 1/20\n",
      "6258/6258 [==============================] - 1s 177us/step - loss: 2.5122 - acc: 0.2685\n",
      "Epoch 2/20\n",
      "6258/6258 [==============================] - 0s 33us/step - loss: 2.4552 - acc: 0.3694\n",
      "Epoch 3/20\n",
      "6258/6258 [==============================] - 0s 33us/step - loss: 2.4023 - acc: 0.3976\n",
      "Epoch 4/20\n",
      "6258/6258 [==============================] - 0s 32us/step - loss: 2.3513 - acc: 0.4070\n",
      "Epoch 5/20\n",
      "6258/6258 [==============================] - 0s 35us/step - loss: 2.2910 - acc: 0.4094\n",
      "Epoch 6/20\n",
      "6258/6258 [==============================] - 0s 31us/step - loss: 2.2477 - acc: 0.4089\n",
      "Epoch 7/20\n",
      "6258/6258 [==============================] - 0s 31us/step - loss: 2.2004 - acc: 0.4100\n",
      "Epoch 8/20\n",
      "6258/6258 [==============================] - 0s 32us/step - loss: 2.1608 - acc: 0.4104\n",
      "Epoch 9/20\n",
      "6258/6258 [==============================] - 0s 35us/step - loss: 2.1238 - acc: 0.4104\n",
      "Epoch 10/20\n",
      "6258/6258 [==============================] - 0s 32us/step - loss: 2.0944 - acc: 0.4102\n",
      "Epoch 11/20\n",
      "6258/6258 [==============================] - 0s 33us/step - loss: 2.0652 - acc: 0.4105\n",
      "Epoch 12/20\n",
      "6258/6258 [==============================] - 0s 33us/step - loss: 2.0363 - acc: 0.4105\n",
      "Epoch 13/20\n",
      "6258/6258 [==============================] - 0s 32us/step - loss: 2.0194 - acc: 0.4105\n",
      "Epoch 14/20\n",
      "6258/6258 [==============================] - 0s 32us/step - loss: 2.0095 - acc: 0.4105\n",
      "Epoch 15/20\n",
      "6258/6258 [==============================] - 0s 34us/step - loss: 1.9914 - acc: 0.4105\n",
      "Epoch 16/20\n",
      "6258/6258 [==============================] - 0s 31us/step - loss: 1.9830 - acc: 0.4104\n",
      "Epoch 17/20\n",
      "6258/6258 [==============================] - 0s 34us/step - loss: 1.9657 - acc: 0.4105\n",
      "Epoch 18/20\n",
      "6258/6258 [==============================] - 0s 37us/step - loss: 1.9563 - acc: 0.4105\n",
      "Epoch 19/20\n",
      "6258/6258 [==============================] - 0s 39us/step - loss: 1.9410 - acc: 0.4102\n",
      "Epoch 20/20\n",
      "6258/6258 [==============================] - 0s 39us/step - loss: 1.9379 - acc: 0.4104\n",
      "Evaluate\n",
      "Returns the loss value & metrics values for the model in test mode.\n",
      "2086/2086 [==============================] - 0s 189us/step\n"
     ]
    },
    {
     "data": {
      "text/plain": [
       "[1.9055845237989781, 0.40795781405522974]"
      ]
     },
     "execution_count": 103,
     "metadata": {},
     "output_type": "execute_result"
    }
   ],
   "source": [
    "model = tf.keras.models.Sequential([\n",
    "  tf.keras.layers.Flatten(),\n",
    "  tf.keras.layers.Dense(13, activation=tf.nn.relu),\n",
    "  tf.keras.layers.Dropout(0.1),\n",
    "  tf.keras.layers.Dense(13, activation=tf.nn.relu),\n",
    "  tf.keras.layers.Dropout(0.1),\n",
    "  tf.keras.layers.Dense(13, activation=tf.nn.relu),\n",
    "  tf.keras.layers.Dropout(0.1),\n",
    "  tf.keras.layers.Dense(13, activation=tf.nn.relu),\n",
    "  tf.keras.layers.Dropout(0.1),\n",
    "  tf.keras.layers.Dense(13, activation=tf.nn.softmax)\n",
    "])\n",
    "model.compile(optimizer=tf.train.GradientDescentOptimizer(0.001),\n",
    "              loss='sparse_categorical_crossentropy',\n",
    "              metrics=['accuracy'])\n",
    "\n",
    "model.fit(x_train, y_train, epochs=20)\n",
    "\n",
    "print(\"Evaluate\")\n",
    "print(\"Returns the loss value & metrics values for the model in test mode.\")\n",
    "model.evaluate(x_test, y_test)"
   ]
  },
  {
   "cell_type": "code",
   "execution_count": null,
   "metadata": {},
   "outputs": [],
   "source": []
  }
 ],
 "metadata": {
  "kernelspec": {
   "display_name": "tensorflow_1",
   "language": "python",
   "name": "tensorflow_1"
  },
  "language_info": {
   "codemirror_mode": {
    "name": "ipython",
    "version": 3
   },
   "file_extension": ".py",
   "mimetype": "text/x-python",
   "name": "python",
   "nbconvert_exporter": "python",
   "pygments_lexer": "ipython3",
   "version": "3.6.5"
  }
 },
 "nbformat": 4,
 "nbformat_minor": 2
}
